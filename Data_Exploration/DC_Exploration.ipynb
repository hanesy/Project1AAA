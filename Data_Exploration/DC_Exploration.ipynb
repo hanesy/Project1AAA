{
 "cells": [
  {
   "cell_type": "code",
   "execution_count": 130,
   "metadata": {},
   "outputs": [],
   "source": [
    "import pandas as pd\n",
    "import numpy as np\n",
    "import matplotlib.pyplot as plt\n",
    "from math import pi\n",
    "\n",
    "# Name of the CSV file\n",
    "file = '../Resources/US_Accidents_May19.csv'\n",
    "df = pd.read_csv(file)"
   ]
  },
  {
   "cell_type": "code",
   "execution_count": 73,
   "metadata": {},
   "outputs": [],
   "source": [
    "# Add a column to sort by year\n",
    "df[\"Start_Year\"] = df[\"Start_Time\"].agg(lambda x: x.split(\"-\")[0])\n",
    "\n",
    "# remove years with incomplete data\n",
    "df = df[df[\"Start_Year\"] != \"2019\"]\n",
    "df = df[df[\"Start_Year\"] != \"2015\"]\n",
    "\n",
    "# Count total traffic incidents by year\n",
    "df_years = df.groupby(\"Start_Year\").count()\n",
    "total_accidents_per_year = df_years[\"ID\"].tolist()"
   ]
  },
  {
   "cell_type": "code",
   "execution_count": 74,
   "metadata": {},
   "outputs": [],
   "source": [
    "# List of traffic infrastructure\n",
    "infrastructure_list = [\"Amenity\",\"Bump\",\"Crossing\",\"Give_Way\",\"Junction\",\"No_Exit\",\"Railway\",\"Roundabout\",\"Station\",\"Stop\",\"Traffic_Calming\",\"Traffic_Signal\",\"Turning_Loop\"]\n",
    "\n",
    "# Set up lists for loop\n",
    "accident_data_2016 = []\n",
    "accident_data_2017 = []\n",
    "accident_data_2018 = []\n",
    "\n",
    "# Select years to look for\n",
    "years = [\"2016\",\"2017\",\"2018\"]\n",
    "\n",
    "# Loop through traffic infrastructure types and pull out data based on year\n",
    "i = 0\n",
    "for year in years:\n",
    "    for traffic_type in infrastructure_list:\n",
    "        if year == \"2016\":\n",
    "            accident_data_2016.append(df[traffic_type].loc[(df[traffic_type] == True) & (df[\"Start_Year\"] == year)].count())\n",
    "        elif year == \"2017\":\n",
    "            accident_data_2017.append(df[traffic_type].loc[(df[traffic_type] == True) & (df[\"Start_Year\"] == year)].count())\n",
    "        elif year == \"2018\":\n",
    "            accident_data_2018.append(df[traffic_type].loc[(df[traffic_type] == True) & (df[\"Start_Year\"] == year)].count())"
   ]
  },
  {
   "cell_type": "code",
   "execution_count": 75,
   "metadata": {},
   "outputs": [],
   "source": [
    "# percent of accidents near traffic infastructure per year\n",
    "accident_data_sum = []\n",
    "accident_data_sum.append(sum(accident_data_2016))\n",
    "accident_data_sum.append(sum(accident_data_2017))\n",
    "accident_data_sum.append(sum(accident_data_2018))\n",
    "\n",
    "i = 0\n",
    "infra_percents = []\n",
    "for i in range(0,3):\n",
    "    infra_percents.append(accident_data_sum[i]/total_accidents_per_year[i])"
   ]
  },
  {
   "cell_type": "code",
   "execution_count": 77,
   "metadata": {},
   "outputs": [
    {
     "data": {
      "text/plain": [
       "<matplotlib.legend.Legend at 0x1231dd950>"
      ]
     },
     "execution_count": 77,
     "metadata": {},
     "output_type": "execute_result"
    },
    {
     "data": {
      "image/png": "[encoded data removed]",
      "text/plain": [
       "<Figure size 1440x1080 with 1 Axes>"
      ]
     },
     "metadata": {
      "needs_background": "light"
     },
     "output_type": "display_data"
    }
   ],
   "source": [
    "# Set up graph for all three years of data\n",
    "\n",
    "x = np.arange(len(infrastructure_list))  # the label locations\n",
    "width = 0.2  # the width of the bars\n",
    "\n",
    "fig, ax = plt.subplots(figsize = (20,15))\n",
    "rects1 = ax.bar(x - width*1.1, accident_data_2016, width, label='2016')\n",
    "rects2 = ax.bar(x, accident_data_2017, width, label='2017')\n",
    "rects3 = ax.bar(x + width*1.1, accident_data_2018, width, label='2018')\n",
    "\n",
    "ax.set_ylabel('Number of Accidents')\n",
    "ax.set_title('Accidents Near Traffic Infrastructure')\n",
    "ax.set_xticks(x)\n",
    "ax.set_xticklabels(infrastructure_list)\n",
    "ax.legend()\n",
    "#plt.show()"
   ]
  },
  {
   "cell_type": "code",
   "execution_count": 69,
   "metadata": {},
   "outputs": [],
   "source": [
    "# remove 2015 and 2019 values from data frame\n",
    "df = df[df[\"Start_Year\"] != \"2019\"]\n",
    "df = df[df[\"Start_Year\"] != \"2015\"]\n",
    "\n",
    "grouped_years = df.groupby(\"Start_Year\").count()\n",
    "incidents_per_year = grouped_years[\"ID\"].tolist()\n",
    "\n",
    "# convert street name to list\n",
    "street_types = [\"I-\",\"State Route\",\"Fwy\",\"US-\",\"Pike\",\"CA-\",\"Hwy\"]\n",
    "all_street_types = [\"I-\",\"State Route\",\"Fwy\",\"US-\",\"Pike\",\"CA-\",\"Hwy\",\"Local Road\"]\n",
    "\n",
    "streets_2016 = []\n",
    "streets_2017 = []\n",
    "streets_2018 = []\n",
    "\n",
    "#for year in years:\n",
    "i = 0\n",
    "for year in years:\n",
    "    for street_type in street_types:\n",
    "        if year == \"2016\":\n",
    "            streets_2016.append(df[\"Street\"].loc[(df[\"Street\"].str.contains(street_type)==True) & (df[\"Start_Year\"] == year)].count())\n",
    "        elif year == \"2017\":\n",
    "            streets_2017.append(df[\"Street\"].loc[(df[\"Street\"].str.contains(street_type)==True) & (df[\"Start_Year\"] == year)].count())\n",
    "        elif year == \"2018\":\n",
    "            streets_2018.append(df[\"Street\"].loc[(df[\"Street\"].str.contains(street_type)==True) & (df[\"Start_Year\"] == year)].count())\n",
    "\n",
    "streets_2016.append(incidents_per_year[0]-sum(streets_2016))\n",
    "streets_2017.append(incidents_per_year[1]-sum(streets_2017))\n",
    "streets_2018.append(incidents_per_year[2]-sum(streets_2018))"
   ]
  },
  {
   "cell_type": "code",
   "execution_count": 70,
   "metadata": {},
   "outputs": [
    {
     "data": {
      "text/html": [
       "<div>\n",
       "<style scoped>\n",
       "    .dataframe tbody tr th:only-of-type {\n",
       "        vertical-align: middle;\n",
       "    }\n",
       "\n",
       "    .dataframe tbody tr th {\n",
       "        vertical-align: top;\n",
       "    }\n",
       "\n",
       "    .dataframe thead th {\n",
       "        text-align: right;\n",
       "    }\n",
       "</style>\n",
       "<table border=\"1\" class=\"dataframe\">\n",
       "  <thead>\n",
       "    <tr style=\"text-align: right;\">\n",
       "      <th></th>\n",
       "      <th>2016</th>\n",
       "      <th>2017</th>\n",
       "      <th>2018</th>\n",
       "    </tr>\n",
       "  </thead>\n",
       "  <tbody>\n",
       "    <tr>\n",
       "      <th>I-</th>\n",
       "      <td>94733</td>\n",
       "      <td>157315</td>\n",
       "      <td>197572</td>\n",
       "    </tr>\n",
       "    <tr>\n",
       "      <th>State Route</th>\n",
       "      <td>2366</td>\n",
       "      <td>3811</td>\n",
       "      <td>3841</td>\n",
       "    </tr>\n",
       "    <tr>\n",
       "      <th>Fwy</th>\n",
       "      <td>34621</td>\n",
       "      <td>42414</td>\n",
       "      <td>42722</td>\n",
       "    </tr>\n",
       "    <tr>\n",
       "      <th>US-</th>\n",
       "      <td>17298</td>\n",
       "      <td>29972</td>\n",
       "      <td>32461</td>\n",
       "    </tr>\n",
       "    <tr>\n",
       "      <th>Pike</th>\n",
       "      <td>2936</td>\n",
       "      <td>5195</td>\n",
       "      <td>5860</td>\n",
       "    </tr>\n",
       "    <tr>\n",
       "      <th>CA-</th>\n",
       "      <td>15424</td>\n",
       "      <td>18287</td>\n",
       "      <td>20475</td>\n",
       "    </tr>\n",
       "    <tr>\n",
       "      <th>Hwy</th>\n",
       "      <td>9982</td>\n",
       "      <td>18293</td>\n",
       "      <td>27476</td>\n",
       "    </tr>\n",
       "    <tr>\n",
       "      <th>Local Road</th>\n",
       "      <td>233241</td>\n",
       "      <td>442203</td>\n",
       "      <td>562217</td>\n",
       "    </tr>\n",
       "  </tbody>\n",
       "</table>\n",
       "</div>"
      ],
      "text/plain": [
       "               2016    2017    2018\n",
       "I-            94733  157315  197572\n",
       "State Route    2366    3811    3841\n",
       "Fwy           34621   42414   42722\n",
       "US-           17298   29972   32461\n",
       "Pike           2936    5195    5860\n",
       "CA-           15424   18287   20475\n",
       "Hwy            9982   18293   27476\n",
       "Local Road   233241  442203  562217"
      ]
     },
     "execution_count": 70,
     "metadata": {},
     "output_type": "execute_result"
    }
   ],
   "source": [
    "location_type_df = pd.DataFrame(list(zip(streets_2016,streets_2017,streets_2018)),columns=[\"2016\",\"2017\",\"2018\"],index=all_street_types)\n",
    "location_type_df.head(10)"
   ]
  },
  {
   "cell_type": "code",
   "execution_count": 72,
   "metadata": {},
   "outputs": [
    {
     "data": {
      "text/plain": [
       "<matplotlib.legend.Legend at 0x13ece1350>"
      ]
     },
     "execution_count": 72,
     "metadata": {},
     "output_type": "execute_result"
    },
    {
     "data": {
      "image/png": "[encoded data removed]",
      "text/plain": [
       "<Figure size 1440x1080 with 1 Axes>"
      ]
     },
     "metadata": {
      "needs_background": "light"
     },
     "output_type": "display_data"
    }
   ],
   "source": [
    "x = np.arange(len(all_street_types))  # the label locations\n",
    "width = 0.2  # the width of the bars\n",
    "\n",
    "fig, ax = plt.subplots(figsize = (20,15))\n",
    "rects1 = ax.bar(x - width*1.1, streets_2016, width, label='2016')\n",
    "rects2 = ax.bar(x, streets_2017, width, label='2017')\n",
    "rects3 = ax.bar(x + width*1.1, streets_2018, width, label='2018')\n",
    "\n",
    "ax.set_ylabel('Number of Accidents')\n",
    "ax.set_title('Accidents by Street')\n",
    "ax.set_xticks(x)\n",
    "ax.set_xticklabels(all_street_types)\n",
    "ax.legend()\n",
    "\n",
    "# Outerbelt S?"
   ]
  },
  {
   "cell_type": "code",
   "execution_count": 101,
   "metadata": {},
   "outputs": [
    {
     "data": {
      "text/plain": [
       "0                        I-70 E\n",
       "1                      Brice Rd\n",
       "2                State Route 32\n",
       "3                        I-75 S\n",
       "4     Miamisburg Centerville Rd\n",
       "5                Westerville Rd\n",
       "6                N Woodward Ave\n",
       "7                     N Main St\n",
       "8                Notre Dame Ave\n",
       "9                Westerville Rd\n",
       "10                  Outerbelt S\n",
       "11                       I-70 E\n",
       "12               Watervliet Ave\n",
       "13                    Salem Ave\n",
       "14                   E Broad St\n",
       "15                  Glencoe Ave\n",
       "16         S James H McGee Blvd\n",
       "17                  Delphos Ave\n",
       "18                   Rubicon St\n",
       "19              W Hillcrest Ave\n",
       "20                 Brookhill Dr\n",
       "21                 Princeton Dr\n",
       "22              Springboro Pike\n",
       "23                  North Fwy S\n",
       "24                   Hoover Ave\n",
       "25            Sportsman Club Rd\n",
       "26                   Irving Ave\n",
       "27                  W Helena St\n",
       "28               Litchfield Ave\n",
       "29                     E 4th St\n",
       "30                    Frantz Rd\n",
       "31             Bellefontaine Rd\n",
       "32                  North Fwy S\n",
       "33                  Outerbelt N\n",
       "34              Olentangy Fwy N\n",
       "35              Olentangy Fwy S\n",
       "36                    S Main St\n",
       "37                     Diley Rd\n",
       "38                     Kiser St\n",
       "39                   Stelzer Rd\n",
       "40                    Monroe Rd\n",
       "41                 Air City Ave\n",
       "42             S State Route 72\n",
       "43                   E Broad St\n",
       "44                 Benchwood Rd\n",
       "45                   East Fwy W\n",
       "46                     Kenny Rd\n",
       "47                S Hamilton Rd\n",
       "48                    Brandt St\n",
       "49                       I-75 S\n",
       "Name: Street, dtype: object"
      ]
     },
     "execution_count": 101,
     "metadata": {},
     "output_type": "execute_result"
    }
   ],
   "source": [
    "# compare total \"highways\" vs \"local roads\" in pie graph\n",
    "df[\"Street\"].head(50)"
   ]
  },
  {
   "cell_type": "code",
   "execution_count": 97,
   "metadata": {},
   "outputs": [],
   "source": [
    "# based on cardinal direction\n",
    "\n",
    "direction_types = [\" N\",\"N \",\" N \",\" S\",\"S \",\" S \",\" E\",\"E \",\" E \",\" W\",\"W \",\" W\",\" NE\",\"NE \",\" NE \",\" NW\",\"NW \",\" NW \",\" SE\",\"SE \",\" SE \",\" SW\",\"SW \",\" SW \"]\n",
    "\n",
    "directions_2016 = []\n",
    "directions_2017 = []\n",
    "directions_2018 = []\n",
    "\n",
    "#for year in years:\n",
    "i = 0\n",
    "for year in years:\n",
    "    for direction_type in direction_types:\n",
    "        if year == \"2016\":\n",
    "            directions_2016.append(df[\"Street\"].loc[(df[\"Street\"].str.contains(direction_type)==True) & (df[\"Start_Year\"] == year)].count())\n",
    "        elif year == \"2017\":\n",
    "            directions_2017.append(df[\"Street\"].loc[(df[\"Street\"].str.contains(direction_type)==True) & (df[\"Start_Year\"] == year)].count())\n",
    "        elif year == \"2018\":\n",
    "            directions_2018.append(df[\"Street\"].loc[(df[\"Street\"].str.contains(direction_type)==True) & (df[\"Start_Year\"] == year)].count())"
   ]
  },
  {
   "cell_type": "code",
   "execution_count": 98,
   "metadata": {},
   "outputs": [
    {
     "name": "stdout",
     "output_type": "stream",
     "text": [
      "[69576, 14766, 2664, 115315, 20868, 2394, 52716, 13936, 2101, 50257, 19814, 50257, 2446, 865, 131, 1968, 1267, 205, 1812, 222, 59, 1482, 1131, 211]\n"
     ]
    }
   ],
   "source": [
    "print(directions_2016)"
   ]
  },
  {
   "cell_type": "code",
   "execution_count": 99,
   "metadata": {},
   "outputs": [],
   "source": [
    "north = directions_2016[0] + directions_2016[1] + directions_2016[2]\n",
    "south = directions_2016[3] + directions_2016[4] + directions_2016[5]\n",
    "east = directions_2016[6] + directions_2016[7] + directions_2016[8]\n",
    "west = directions_2016[9] + directions_2016[10] + directions_2016[11]\n",
    "northeast = directions_2016[12] + directions_2016[13] + directions_2016[14]\n",
    "northwest = directions_2016[15] + directions_2016[16] + directions_2016[17]\n",
    "southeast = directions_2016[18] + directions_2016[19] + directions_2016[20]\n",
    "southwest = directions_2016[21] + directions_2016[22] + directions_2016[23]"
   ]
  },
  {
   "cell_type": "code",
   "execution_count": null,
   "metadata": {},
   "outputs": [],
   "source": []
  },
  {
   "cell_type": "code",
   "execution_count": 129,
   "metadata": {},
   "outputs": [
    {
     "data": {
      "text/plain": [
       "([0, 1, 2, 3, 4, 5, 6, 7], <a list of 8 Text xticklabel objects>)"
      ]
     },
     "execution_count": 129,
     "metadata": {},
     "output_type": "execute_result"
    },
    {
     "data": {
      "image/png": "[encoded data removed]",
      "text/plain": [
       "<Figure size 432x288 with 1 Axes>"
      ]
     },
     "metadata": {
      "needs_background": "light"
     },
     "output_type": "display_data"
    }
   ],
   "source": [
    "x = [north,south,east,west,northeast,northwest,southeast,southwest]\n",
    "labels = [\"north\",\"south\",\"east\",\"west\",\"northeast\",\"northwest\",\"southeast\",\"southwest\"]\n",
    "plt.bar(labels,x)\n",
    "plt.xticks(rotation=\"vertical\")"
   ]
  },
  {
   "cell_type": "code",
   "execution_count": 102,
   "metadata": {},
   "outputs": [
    {
     "data": {
      "text/html": [
       "<div>\n",
       "<style scoped>\n",
       "    .dataframe tbody tr th:only-of-type {\n",
       "        vertical-align: middle;\n",
       "    }\n",
       "\n",
       "    .dataframe tbody tr th {\n",
       "        vertical-align: top;\n",
       "    }\n",
       "\n",
       "    .dataframe thead th {\n",
       "        text-align: right;\n",
       "    }\n",
       "</style>\n",
       "<table border=\"1\" class=\"dataframe\">\n",
       "  <thead>\n",
       "    <tr style=\"text-align: right;\">\n",
       "      <th></th>\n",
       "      <th>ID</th>\n",
       "      <th>Source</th>\n",
       "      <th>TMC</th>\n",
       "      <th>Severity</th>\n",
       "      <th>Start_Time</th>\n",
       "      <th>End_Time</th>\n",
       "      <th>Start_Lat</th>\n",
       "      <th>Start_Lng</th>\n",
       "      <th>End_Lat</th>\n",
       "      <th>End_Lng</th>\n",
       "      <th>...</th>\n",
       "      <th>Station</th>\n",
       "      <th>Stop</th>\n",
       "      <th>Traffic_Calming</th>\n",
       "      <th>Traffic_Signal</th>\n",
       "      <th>Turning_Loop</th>\n",
       "      <th>Sunrise_Sunset</th>\n",
       "      <th>Civil_Twilight</th>\n",
       "      <th>Nautical_Twilight</th>\n",
       "      <th>Astronomical_Twilight</th>\n",
       "      <th>Start_Year</th>\n",
       "    </tr>\n",
       "  </thead>\n",
       "  <tbody>\n",
       "    <tr>\n",
       "      <th>0</th>\n",
       "      <td>A-1</td>\n",
       "      <td>MapQuest</td>\n",
       "      <td>201.0</td>\n",
       "      <td>3</td>\n",
       "      <td>2016-02-08 05:46:00</td>\n",
       "      <td>2016-02-08 11:00:00</td>\n",
       "      <td>39.865147</td>\n",
       "      <td>-84.058723</td>\n",
       "      <td>NaN</td>\n",
       "      <td>NaN</td>\n",
       "      <td>...</td>\n",
       "      <td>False</td>\n",
       "      <td>False</td>\n",
       "      <td>False</td>\n",
       "      <td>False</td>\n",
       "      <td>False</td>\n",
       "      <td>Night</td>\n",
       "      <td>Night</td>\n",
       "      <td>Night</td>\n",
       "      <td>Night</td>\n",
       "      <td>2016</td>\n",
       "    </tr>\n",
       "    <tr>\n",
       "      <th>1</th>\n",
       "      <td>A-2</td>\n",
       "      <td>MapQuest</td>\n",
       "      <td>201.0</td>\n",
       "      <td>2</td>\n",
       "      <td>2016-02-08 06:07:59</td>\n",
       "      <td>2016-02-08 06:37:59</td>\n",
       "      <td>39.928059</td>\n",
       "      <td>-82.831184</td>\n",
       "      <td>NaN</td>\n",
       "      <td>NaN</td>\n",
       "      <td>...</td>\n",
       "      <td>False</td>\n",
       "      <td>False</td>\n",
       "      <td>False</td>\n",
       "      <td>False</td>\n",
       "      <td>False</td>\n",
       "      <td>Night</td>\n",
       "      <td>Night</td>\n",
       "      <td>Night</td>\n",
       "      <td>Day</td>\n",
       "      <td>2016</td>\n",
       "    </tr>\n",
       "    <tr>\n",
       "      <th>2</th>\n",
       "      <td>A-3</td>\n",
       "      <td>MapQuest</td>\n",
       "      <td>201.0</td>\n",
       "      <td>2</td>\n",
       "      <td>2016-02-08 06:49:27</td>\n",
       "      <td>2016-02-08 07:19:27</td>\n",
       "      <td>39.063148</td>\n",
       "      <td>-84.032608</td>\n",
       "      <td>NaN</td>\n",
       "      <td>NaN</td>\n",
       "      <td>...</td>\n",
       "      <td>False</td>\n",
       "      <td>False</td>\n",
       "      <td>False</td>\n",
       "      <td>True</td>\n",
       "      <td>False</td>\n",
       "      <td>Night</td>\n",
       "      <td>Night</td>\n",
       "      <td>Day</td>\n",
       "      <td>Day</td>\n",
       "      <td>2016</td>\n",
       "    </tr>\n",
       "    <tr>\n",
       "      <th>3</th>\n",
       "      <td>A-4</td>\n",
       "      <td>MapQuest</td>\n",
       "      <td>201.0</td>\n",
       "      <td>3</td>\n",
       "      <td>2016-02-08 07:23:34</td>\n",
       "      <td>2016-02-08 07:53:34</td>\n",
       "      <td>39.747753</td>\n",
       "      <td>-84.205582</td>\n",
       "      <td>NaN</td>\n",
       "      <td>NaN</td>\n",
       "      <td>...</td>\n",
       "      <td>False</td>\n",
       "      <td>False</td>\n",
       "      <td>False</td>\n",
       "      <td>False</td>\n",
       "      <td>False</td>\n",
       "      <td>Night</td>\n",
       "      <td>Day</td>\n",
       "      <td>Day</td>\n",
       "      <td>Day</td>\n",
       "      <td>2016</td>\n",
       "    </tr>\n",
       "    <tr>\n",
       "      <th>4</th>\n",
       "      <td>A-5</td>\n",
       "      <td>MapQuest</td>\n",
       "      <td>201.0</td>\n",
       "      <td>2</td>\n",
       "      <td>2016-02-08 07:39:07</td>\n",
       "      <td>2016-02-08 08:09:07</td>\n",
       "      <td>39.627781</td>\n",
       "      <td>-84.188354</td>\n",
       "      <td>NaN</td>\n",
       "      <td>NaN</td>\n",
       "      <td>...</td>\n",
       "      <td>False</td>\n",
       "      <td>False</td>\n",
       "      <td>False</td>\n",
       "      <td>True</td>\n",
       "      <td>False</td>\n",
       "      <td>Day</td>\n",
       "      <td>Day</td>\n",
       "      <td>Day</td>\n",
       "      <td>Day</td>\n",
       "      <td>2016</td>\n",
       "    </tr>\n",
       "  </tbody>\n",
       "</table>\n",
       "<p>5 rows × 50 columns</p>\n",
       "</div>"
      ],
      "text/plain": [
       "    ID    Source    TMC  Severity           Start_Time             End_Time  \\\n",
       "0  A-1  MapQuest  201.0         3  2016-02-08 05:46:00  2016-02-08 11:00:00   \n",
       "1  A-2  MapQuest  201.0         2  2016-02-08 06:07:59  2016-02-08 06:37:59   \n",
       "2  A-3  MapQuest  201.0         2  2016-02-08 06:49:27  2016-02-08 07:19:27   \n",
       "3  A-4  MapQuest  201.0         3  2016-02-08 07:23:34  2016-02-08 07:53:34   \n",
       "4  A-5  MapQuest  201.0         2  2016-02-08 07:39:07  2016-02-08 08:09:07   \n",
       "\n",
       "   Start_Lat  Start_Lng  End_Lat  End_Lng  ...  Station   Stop  \\\n",
       "0  39.865147 -84.058723      NaN      NaN  ...    False  False   \n",
       "1  39.928059 -82.831184      NaN      NaN  ...    False  False   \n",
       "2  39.063148 -84.032608      NaN      NaN  ...    False  False   \n",
       "3  39.747753 -84.205582      NaN      NaN  ...    False  False   \n",
       "4  39.627781 -84.188354      NaN      NaN  ...    False  False   \n",
       "\n",
       "   Traffic_Calming Traffic_Signal Turning_Loop Sunrise_Sunset Civil_Twilight  \\\n",
       "0            False          False        False          Night          Night   \n",
       "1            False          False        False          Night          Night   \n",
       "2            False           True        False          Night          Night   \n",
       "3            False          False        False          Night            Day   \n",
       "4            False           True        False            Day            Day   \n",
       "\n",
       "  Nautical_Twilight Astronomical_Twilight Start_Year  \n",
       "0             Night                 Night       2016  \n",
       "1             Night                   Day       2016  \n",
       "2               Day                   Day       2016  \n",
       "3               Day                   Day       2016  \n",
       "4               Day                   Day       2016  \n",
       "\n",
       "[5 rows x 50 columns]"
      ]
     },
     "execution_count": 102,
     "metadata": {},
     "output_type": "execute_result"
    }
   ],
   "source": [
    "df.head()"
   ]
  },
  {
   "cell_type": "code",
   "execution_count": 127,
   "metadata": {},
   "outputs": [],
   "source": [
    "# loop through street column\n",
    "df.iloc[0,13]\n",
    "\n",
    "north_stats = 0\n",
    "south_stats = 0\n",
    "west_stats = 0\n",
    "east_stats = 0\n",
    "northeast_stats = 0\n",
    "northwest_stats = 0\n",
    "southeast_stats = 0\n",
    "southwest_stats = 0\n",
    "\n",
    "i = 0\n",
    "for i in range(len(df)):\n",
    "    street_name = df.iloc[i,13]\n",
    "    \n",
    "    if street_name[-2:] == \" N\":\n",
    "        north_stats = north_stats + 1\n",
    "    elif street_name[-2:] == \" S\":\n",
    "        south_stats = south_stats + 1\n",
    "    elif street_name[-2:] == \" W\":\n",
    "        west_stats = west_stats + 1\n",
    "    elif street_name[-2:] == \" E\":\n",
    "        east_stats = east_stats + 1\n",
    "    if street_name[-3:] == \" NE\":\n",
    "        northeast_stats = north_stats + 1\n",
    "    elif street_name[-3:] == \" NW\":\n",
    "        northwest_stats = south_stats + 1\n",
    "    elif street_name[-3:] == \" SE\":\n",
    "        southeast_stats = west_stats + 1\n",
    "    elif street_name[-3:] == \" SW\":\n",
    "        southwest_stats = east_stats + 1"
   ]
  },
  {
   "cell_type": "code",
   "execution_count": 119,
   "metadata": {},
   "outputs": [
    {
     "data": {
      "text/plain": [
       "2020715"
      ]
     },
     "execution_count": 119,
     "metadata": {},
     "output_type": "execute_result"
    }
   ],
   "source": [
    "len(df)"
   ]
  },
  {
   "cell_type": "code",
   "execution_count": 133,
   "metadata": {},
   "outputs": [
    {
     "data": {
      "text/plain": [
       "<BarContainer object of 8 artists>"
      ]
     },
     "execution_count": 133,
     "metadata": {},
     "output_type": "execute_result"
    },
    {
     "data": {
      "image/png": "[encoded data removed]",
      "text/plain": [
       "<Figure size 432x288 with 1 Axes>"
      ]
     },
     "metadata": {
      "needs_background": "light"
     },
     "output_type": "display_data"
    }
   ],
   "source": [
    "x = [north_stats,northeast_stats,east_stats,southeast_stats,south_stats,southwest_stats,west_stats,northwest_stats]\n",
    "labels = [\"north\",\"northeast\",\"east\",\"southeast\",\"south\",\"southwest\",\"west\",\"northwest\"]\n",
    "plt.bar(labels,x,)"
   ]
  },
  {
   "cell_type": "code",
   "execution_count": 142,
   "metadata": {},
   "outputs": [
    {
     "data": {
      "text/plain": [
       "([<matplotlib.patches.Wedge at 0x122769cd0>,\n",
       "  <matplotlib.patches.Wedge at 0x121885f50>,\n",
       "  <matplotlib.patches.Wedge at 0x122775110>,\n",
       "  <matplotlib.patches.Wedge at 0x122775650>,\n",
       "  <matplotlib.patches.Wedge at 0x122782290>,\n",
       "  <matplotlib.patches.Wedge at 0x122782990>,\n",
       "  <matplotlib.patches.Wedge at 0x1227826d0>,\n",
       "  <matplotlib.patches.Wedge at 0x12278d1d0>],\n",
       " [Text(0.0375898708492123, 1.0993575403887217, 'north'),\n",
       "  Text(0.910476121248242, 0.6172788937237016, 'northeast'),\n",
       "  Text(1.0781356026288116, -0.21822837199642373, 'east'),\n",
       "  Text(0.736972917260521, -0.8166216499851798, 'southeast'),\n",
       "  Text(-0.04534114523596528, -1.0990651393564856, 'south'),\n",
       "  Text(-0.8117224094836035, -0.7423656309003897, 'southwest'),\n",
       "  Text(-1.0940592917919547, -0.11416771016222933, 'west'),\n",
       "  Text(-0.8614404562086708, 0.6840470308443689, 'northwest')])"
      ]
     },
     "execution_count": 142,
     "metadata": {},
     "output_type": "execute_result"
    },
    {
     "data": {
      "image/png": "[encoded data removed]",
      "text/plain": [
       "<Figure size 432x288 with 1 Axes>"
      ]
     },
     "metadata": {},
     "output_type": "display_data"
    }
   ],
   "source": [
    "plt.pie(x,labels=labels,counterclock=False,startangle=115)"
   ]
  },
  {
   "cell_type": "code",
   "execution_count": null,
   "metadata": {},
   "outputs": [],
   "source": []
  }
 ],
 "metadata": {
  "kernelspec": {
   "display_name": "Python 3",
   "language": "python",
   "name": "python3"
  },
  "language_info": {
   "codemirror_mode": {
    "name": "ipython",
    "version": 3
   },
   "file_extension": ".py",
   "mimetype": "text/x-python",
   "name": "python",
   "nbconvert_exporter": "python",
   "pygments_lexer": "ipython3",
   "version": "3.7.5"
  }
 },
 "nbformat": 4,
 "nbformat_minor": 2
}
