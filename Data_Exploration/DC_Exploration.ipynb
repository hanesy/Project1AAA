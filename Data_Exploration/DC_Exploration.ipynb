{
 "cells": [
  {
   "cell_type": "code",
   "execution_count": 1,
   "metadata": {},
   "outputs": [],
   "source": [
    "import pandas as pd\n",
    "import numpy as np\n",
    "import matplotlib.pyplot as plt\n",
    "\n",
    "# Name of the CSV file\n",
    "file = '../Resources/US_Accidents_May19.csv'\n",
    "df = pd.read_csv(file)"
   ]
  },
  {
   "cell_type": "code",
   "execution_count": 73,
   "metadata": {},
   "outputs": [],
   "source": [
    "# Add a column to sort by year\n",
    "df[\"Start_Year\"] = df[\"Start_Time\"].agg(lambda x: x.split(\"-\")[0])\n",
    "\n",
    "# remove years with incomplete data\n",
    "df = df[df[\"Start_Year\"] != \"2019\"]\n",
    "df = df[df[\"Start_Year\"] != \"2015\"]\n",
    "\n",
    "# Count total traffic incidents by year\n",
    "df_years = df.groupby(\"Start_Year\").count()\n",
    "total_accidents_per_year = df_years[\"ID\"].tolist()"
   ]
  },
  {
   "cell_type": "code",
   "execution_count": 74,
   "metadata": {},
   "outputs": [],
   "source": [
    "# List of traffic infrastructure\n",
    "infrastructure_list = [\"Amenity\",\"Bump\",\"Crossing\",\"Give_Way\",\"Junction\",\"No_Exit\",\"Railway\",\"Roundabout\",\"Station\",\"Stop\",\"Traffic_Calming\",\"Traffic_Signal\",\"Turning_Loop\"]\n",
    "\n",
    "# Set up lists for loop\n",
    "accident_data_2016 = []\n",
    "accident_data_2017 = []\n",
    "accident_data_2018 = []\n",
    "\n",
    "# Select years to look for\n",
    "years = [\"2016\",\"2017\",\"2018\"]\n",
    "\n",
    "# Loop through traffic infrastructure types and pull out data based on year\n",
    "i = 0\n",
    "for year in years:\n",
    "    for traffic_type in infrastructure_list:\n",
    "        if year == \"2016\":\n",
    "            accident_data_2016.append(df[traffic_type].loc[(df[traffic_type] == True) & (df[\"Start_Year\"] == year)].count())\n",
    "        elif year == \"2017\":\n",
    "            accident_data_2017.append(df[traffic_type].loc[(df[traffic_type] == True) & (df[\"Start_Year\"] == year)].count())\n",
    "        elif year == \"2018\":\n",
    "            accident_data_2018.append(df[traffic_type].loc[(df[traffic_type] == True) & (df[\"Start_Year\"] == year)].count())"
   ]
  },
  {
   "cell_type": "code",
   "execution_count": 75,
   "metadata": {},
   "outputs": [],
   "source": [
    "# percent of accidents near traffic infastructure per year\n",
    "accident_data_sum = []\n",
    "accident_data_sum.append(sum(accident_data_2016))\n",
    "accident_data_sum.append(sum(accident_data_2017))\n",
    "accident_data_sum.append(sum(accident_data_2018))\n",
    "\n",
    "i = 0\n",
    "infra_percents = []\n",
    "for i in range(0,3):\n",
    "    infra_percents.append(accident_data_sum[i]/total_accidents_per_year[i])"
   ]
  },
  {
   "cell_type": "code",
   "execution_count": 76,
   "metadata": {},
   "outputs": [
    {
     "name": "stdout",
     "output_type": "stream",
     "text": [
      "[0.3589689260376862, 0.3579520272059541, 0.34141250963451575]\n"
     ]
    }
   ],
   "source": []
  },
  {
   "cell_type": "code",
   "execution_count": 77,
   "metadata": {},
   "outputs": [
    {
     "data": {
      "text/plain": [
       "<matplotlib.legend.Legend at 0x1231dd950>"
      ]
     },
     "execution_count": 77,
     "metadata": {},
     "output_type": "execute_result"
    },
    {
     "data": {
      "image/png": "[encoded data removed]",
      "text/plain": [
       "<Figure size 1440x1080 with 1 Axes>"
      ]
     },
     "metadata": {
      "needs_background": "light"
     },
     "output_type": "display_data"
    }
   ],
   "source": [
    "# Set up graph for all three years of data\n",
    "\n",
    "x = np.arange(len(infrastructure_list))  # the label locations\n",
    "width = 0.2  # the width of the bars\n",
    "\n",
    "fig, ax = plt.subplots(figsize = (20,15))\n",
    "rects1 = ax.bar(x - width*1.1, accident_data_2016, width, label='2016')\n",
    "rects2 = ax.bar(x, accident_data_2017, width, label='2017')\n",
    "rects3 = ax.bar(x + width*1.1, accident_data_2018, width, label='2018')\n",
    "\n",
    "ax.set_ylabel('Number of Accidents')\n",
    "ax.set_title('Accidents Near Traffic Infrastructure')\n",
    "ax.set_xticks(x)\n",
    "ax.set_xticklabels(infrastructure_list)\n",
    "ax.legend()\n",
    "#plt.show()"
   ]
  },
  {
   "cell_type": "code",
   "execution_count": 69,
   "metadata": {},
   "outputs": [],
   "source": [
    "# remove 2015 and 2019 values from data frame\n",
    "df = df[df[\"Start_Year\"] != \"2019\"]\n",
    "df = df[df[\"Start_Year\"] != \"2015\"]\n",
    "\n",
    "grouped_years = df.groupby(\"Start_Year\").count()\n",
    "incidents_per_year = grouped_years[\"ID\"].tolist()\n",
    "\n",
    "# convert street name to list\n",
    "street_types = [\"I-\",\"State Route\",\"Fwy\",\"US-\",\"Pike\",\"CA-\",\"Hwy\"]\n",
    "all_street_types = [\"I-\",\"State Route\",\"Fwy\",\"US-\",\"Pike\",\"CA-\",\"Hwy\",\"Local Road\"]\n",
    "\n",
    "streets_2016 = []\n",
    "streets_2017 = []\n",
    "streets_2018 = []\n",
    "\n",
    "#for year in years:\n",
    "i = 0\n",
    "for year in years:\n",
    "    for street_type in street_types:\n",
    "        if year == \"2016\":\n",
    "            streets_2016.append(df[\"Street\"].loc[(df[\"Street\"].str.contains(street_type)==True) & (df[\"Start_Year\"] == year)].count())\n",
    "        elif year == \"2017\":\n",
    "            streets_2017.append(df[\"Street\"].loc[(df[\"Street\"].str.contains(street_type)==True) & (df[\"Start_Year\"] == year)].count())\n",
    "        elif year == \"2018\":\n",
    "            streets_2018.append(df[\"Street\"].loc[(df[\"Street\"].str.contains(street_type)==True) & (df[\"Start_Year\"] == year)].count())\n",
    "\n",
    "streets_2016.append(incidents_per_year[0]-sum(streets_2016))\n",
    "streets_2017.append(incidents_per_year[1]-sum(streets_2017))\n",
    "streets_2018.append(incidents_per_year[2]-sum(streets_2018))"
   ]
  },
  {
   "cell_type": "code",
   "execution_count": 70,
   "metadata": {},
   "outputs": [
    {
     "data": {
      "text/html": [
       "<div>\n",
       "<style scoped>\n",
       "    .dataframe tbody tr th:only-of-type {\n",
       "        vertical-align: middle;\n",
       "    }\n",
       "\n",
       "    .dataframe tbody tr th {\n",
       "        vertical-align: top;\n",
       "    }\n",
       "\n",
       "    .dataframe thead th {\n",
       "        text-align: right;\n",
       "    }\n",
       "</style>\n",
       "<table border=\"1\" class=\"dataframe\">\n",
       "  <thead>\n",
       "    <tr style=\"text-align: right;\">\n",
       "      <th></th>\n",
       "      <th>2016</th>\n",
       "      <th>2017</th>\n",
       "      <th>2018</th>\n",
       "    </tr>\n",
       "  </thead>\n",
       "  <tbody>\n",
       "    <tr>\n",
       "      <th>I-</th>\n",
       "      <td>94733</td>\n",
       "      <td>157315</td>\n",
       "      <td>197572</td>\n",
       "    </tr>\n",
       "    <tr>\n",
       "      <th>State Route</th>\n",
       "      <td>2366</td>\n",
       "      <td>3811</td>\n",
       "      <td>3841</td>\n",
       "    </tr>\n",
       "    <tr>\n",
       "      <th>Fwy</th>\n",
       "      <td>34621</td>\n",
       "      <td>42414</td>\n",
       "      <td>42722</td>\n",
       "    </tr>\n",
       "    <tr>\n",
       "      <th>US-</th>\n",
       "      <td>17298</td>\n",
       "      <td>29972</td>\n",
       "      <td>32461</td>\n",
       "    </tr>\n",
       "    <tr>\n",
       "      <th>Pike</th>\n",
       "      <td>2936</td>\n",
       "      <td>5195</td>\n",
       "      <td>5860</td>\n",
       "    </tr>\n",
       "    <tr>\n",
       "      <th>CA-</th>\n",
       "      <td>15424</td>\n",
       "      <td>18287</td>\n",
       "      <td>20475</td>\n",
       "    </tr>\n",
       "    <tr>\n",
       "      <th>Hwy</th>\n",
       "      <td>9982</td>\n",
       "      <td>18293</td>\n",
       "      <td>27476</td>\n",
       "    </tr>\n",
       "    <tr>\n",
       "      <th>Local Road</th>\n",
       "      <td>233241</td>\n",
       "      <td>442203</td>\n",
       "      <td>562217</td>\n",
       "    </tr>\n",
       "  </tbody>\n",
       "</table>\n",
       "</div>"
      ],
      "text/plain": [
       "               2016    2017    2018\n",
       "I-            94733  157315  197572\n",
       "State Route    2366    3811    3841\n",
       "Fwy           34621   42414   42722\n",
       "US-           17298   29972   32461\n",
       "Pike           2936    5195    5860\n",
       "CA-           15424   18287   20475\n",
       "Hwy            9982   18293   27476\n",
       "Local Road   233241  442203  562217"
      ]
     },
     "execution_count": 70,
     "metadata": {},
     "output_type": "execute_result"
    }
   ],
   "source": [
    "location_type_df = pd.DataFrame(list(zip(streets_2016,streets_2017,streets_2018)),columns=[\"2016\",\"2017\",\"2018\"],index=all_street_types)\n",
    "location_type_df.head(10)"
   ]
  },
  {
   "cell_type": "code",
   "execution_count": 72,
   "metadata": {},
   "outputs": [
    {
     "data": {
      "text/plain": [
       "<matplotlib.legend.Legend at 0x13ece1350>"
      ]
     },
     "execution_count": 72,
     "metadata": {},
     "output_type": "execute_result"
    },
    {
     "data": {
      "image/png": "[encoded data removed]",
      "text/plain": [
       "<Figure size 1440x1080 with 1 Axes>"
      ]
     },
     "metadata": {
      "needs_background": "light"
     },
     "output_type": "display_data"
    }
   ],
   "source": [
    "x = np.arange(len(all_street_types))  # the label locations\n",
    "width = 0.2  # the width of the bars\n",
    "\n",
    "fig, ax = plt.subplots(figsize = (20,15))\n",
    "rects1 = ax.bar(x - width*1.1, streets_2016, width, label='2016')\n",
    "rects2 = ax.bar(x, streets_2017, width, label='2017')\n",
    "rects3 = ax.bar(x + width*1.1, streets_2018, width, label='2018')\n",
    "\n",
    "ax.set_ylabel('Number of Accidents')\n",
    "ax.set_title('Accidents by Street')\n",
    "ax.set_xticks(x)\n",
    "ax.set_xticklabels(all_street_types)\n",
    "ax.legend()"
   ]
  },
  {
   "cell_type": "code",
   "execution_count": null,
   "metadata": {},
   "outputs": [],
   "source": []
  }
 ],
 "metadata": {
  "kernelspec": {
   "display_name": "Python 3",
   "language": "python",
   "name": "python3"
  },
  "language_info": {
   "codemirror_mode": {
    "name": "ipython",
    "version": 3
   },
   "file_extension": ".py",
   "mimetype": "text/x-python",
   "name": "python",
   "nbconvert_exporter": "python",
   "pygments_lexer": "ipython3",
   "version": "3.7.5"
  }
 },
 "nbformat": 4,
 "nbformat_minor": 2
}
