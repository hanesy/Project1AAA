{
 "cells": [
  {
   "cell_type": "code",
   "execution_count": 1,
   "metadata": {},
   "outputs": [],
   "source": [
    "import warnings\n",
    "warnings.filterwarnings('ignore')"
   ]
  },
  {
   "cell_type": "code",
   "execution_count": 2,
   "metadata": {},
   "outputs": [],
   "source": [
    "import pandas as pd\n",
    "import numpy as np\n",
    "import matplotlib.pyplot as plt\n",
    "import plotly.graph_objects as go\n",
    "import plotly.express as px\n",
    "\n",
    "# Name of the CSV file\n",
    "file = '../ignore/US_Accidents_May19.csv'\n",
    "df = pd.read_csv(file)\n",
    "\n",
    "# Name of the CSV file\n",
    "file1 = '../ignore/TMC_decoding.csv'\n",
    "TMC_decoding = pd.read_csv(file1)\n",
    "\n",
    "# Name of the CSV file\n",
    "file2 = '../ignore/denver_weather_num_days.csv'\n",
    "denver_weather_days = pd.read_csv(file2)\n",
    "denver_weather_days.set_index('weather_denver', inplace = True)"
   ]
  },
  {
   "cell_type": "code",
   "execution_count": 3,
   "metadata": {},
   "outputs": [],
   "source": [
    "# Setting to show all the rows\n",
    "pd.set_option('display.max_rows', None)"
   ]
  },
  {
   "cell_type": "code",
   "execution_count": 4,
   "metadata": {},
   "outputs": [
    {
     "data": {
      "text/html": [
       "<div>\n",
       "<style scoped>\n",
       "    .dataframe tbody tr th:only-of-type {\n",
       "        vertical-align: middle;\n",
       "    }\n",
       "\n",
       "    .dataframe tbody tr th {\n",
       "        vertical-align: top;\n",
       "    }\n",
       "\n",
       "    .dataframe thead th {\n",
       "        text-align: right;\n",
       "    }\n",
       "</style>\n",
       "<table border=\"1\" class=\"dataframe\">\n",
       "  <thead>\n",
       "    <tr style=\"text-align: right;\">\n",
       "      <th></th>\n",
       "      <th>ID</th>\n",
       "      <th>Source</th>\n",
       "      <th>TMC</th>\n",
       "      <th>Severity</th>\n",
       "      <th>Start_Time</th>\n",
       "      <th>End_Time</th>\n",
       "      <th>Start_Lat</th>\n",
       "      <th>Start_Lng</th>\n",
       "      <th>End_Lat</th>\n",
       "      <th>End_Lng</th>\n",
       "      <th>...</th>\n",
       "      <th>Roundabout</th>\n",
       "      <th>Station</th>\n",
       "      <th>Stop</th>\n",
       "      <th>Traffic_Calming</th>\n",
       "      <th>Traffic_Signal</th>\n",
       "      <th>Turning_Loop</th>\n",
       "      <th>Sunrise_Sunset</th>\n",
       "      <th>Civil_Twilight</th>\n",
       "      <th>Nautical_Twilight</th>\n",
       "      <th>Astronomical_Twilight</th>\n",
       "    </tr>\n",
       "  </thead>\n",
       "  <tbody>\n",
       "    <tr>\n",
       "      <th>0</th>\n",
       "      <td>A-1</td>\n",
       "      <td>MapQuest</td>\n",
       "      <td>201.0</td>\n",
       "      <td>3</td>\n",
       "      <td>2016-02-08 05:46:00</td>\n",
       "      <td>2016-02-08 11:00:00</td>\n",
       "      <td>39.865147</td>\n",
       "      <td>-84.058723</td>\n",
       "      <td>NaN</td>\n",
       "      <td>NaN</td>\n",
       "      <td>...</td>\n",
       "      <td>False</td>\n",
       "      <td>False</td>\n",
       "      <td>False</td>\n",
       "      <td>False</td>\n",
       "      <td>False</td>\n",
       "      <td>False</td>\n",
       "      <td>Night</td>\n",
       "      <td>Night</td>\n",
       "      <td>Night</td>\n",
       "      <td>Night</td>\n",
       "    </tr>\n",
       "    <tr>\n",
       "      <th>1</th>\n",
       "      <td>A-2</td>\n",
       "      <td>MapQuest</td>\n",
       "      <td>201.0</td>\n",
       "      <td>2</td>\n",
       "      <td>2016-02-08 06:07:59</td>\n",
       "      <td>2016-02-08 06:37:59</td>\n",
       "      <td>39.928059</td>\n",
       "      <td>-82.831184</td>\n",
       "      <td>NaN</td>\n",
       "      <td>NaN</td>\n",
       "      <td>...</td>\n",
       "      <td>False</td>\n",
       "      <td>False</td>\n",
       "      <td>False</td>\n",
       "      <td>False</td>\n",
       "      <td>False</td>\n",
       "      <td>False</td>\n",
       "      <td>Night</td>\n",
       "      <td>Night</td>\n",
       "      <td>Night</td>\n",
       "      <td>Day</td>\n",
       "    </tr>\n",
       "    <tr>\n",
       "      <th>2</th>\n",
       "      <td>A-3</td>\n",
       "      <td>MapQuest</td>\n",
       "      <td>201.0</td>\n",
       "      <td>2</td>\n",
       "      <td>2016-02-08 06:49:27</td>\n",
       "      <td>2016-02-08 07:19:27</td>\n",
       "      <td>39.063148</td>\n",
       "      <td>-84.032608</td>\n",
       "      <td>NaN</td>\n",
       "      <td>NaN</td>\n",
       "      <td>...</td>\n",
       "      <td>False</td>\n",
       "      <td>False</td>\n",
       "      <td>False</td>\n",
       "      <td>False</td>\n",
       "      <td>True</td>\n",
       "      <td>False</td>\n",
       "      <td>Night</td>\n",
       "      <td>Night</td>\n",
       "      <td>Day</td>\n",
       "      <td>Day</td>\n",
       "    </tr>\n",
       "    <tr>\n",
       "      <th>3</th>\n",
       "      <td>A-4</td>\n",
       "      <td>MapQuest</td>\n",
       "      <td>201.0</td>\n",
       "      <td>3</td>\n",
       "      <td>2016-02-08 07:23:34</td>\n",
       "      <td>2016-02-08 07:53:34</td>\n",
       "      <td>39.747753</td>\n",
       "      <td>-84.205582</td>\n",
       "      <td>NaN</td>\n",
       "      <td>NaN</td>\n",
       "      <td>...</td>\n",
       "      <td>False</td>\n",
       "      <td>False</td>\n",
       "      <td>False</td>\n",
       "      <td>False</td>\n",
       "      <td>False</td>\n",
       "      <td>False</td>\n",
       "      <td>Night</td>\n",
       "      <td>Day</td>\n",
       "      <td>Day</td>\n",
       "      <td>Day</td>\n",
       "    </tr>\n",
       "    <tr>\n",
       "      <th>4</th>\n",
       "      <td>A-5</td>\n",
       "      <td>MapQuest</td>\n",
       "      <td>201.0</td>\n",
       "      <td>2</td>\n",
       "      <td>2016-02-08 07:39:07</td>\n",
       "      <td>2016-02-08 08:09:07</td>\n",
       "      <td>39.627781</td>\n",
       "      <td>-84.188354</td>\n",
       "      <td>NaN</td>\n",
       "      <td>NaN</td>\n",
       "      <td>...</td>\n",
       "      <td>False</td>\n",
       "      <td>False</td>\n",
       "      <td>False</td>\n",
       "      <td>False</td>\n",
       "      <td>True</td>\n",
       "      <td>False</td>\n",
       "      <td>Day</td>\n",
       "      <td>Day</td>\n",
       "      <td>Day</td>\n",
       "      <td>Day</td>\n",
       "    </tr>\n",
       "  </tbody>\n",
       "</table>\n",
       "<p>5 rows × 49 columns</p>\n",
       "</div>"
      ],
      "text/plain": [
       "    ID    Source    TMC  Severity           Start_Time             End_Time  \\\n",
       "0  A-1  MapQuest  201.0         3  2016-02-08 05:46:00  2016-02-08 11:00:00   \n",
       "1  A-2  MapQuest  201.0         2  2016-02-08 06:07:59  2016-02-08 06:37:59   \n",
       "2  A-3  MapQuest  201.0         2  2016-02-08 06:49:27  2016-02-08 07:19:27   \n",
       "3  A-4  MapQuest  201.0         3  2016-02-08 07:23:34  2016-02-08 07:53:34   \n",
       "4  A-5  MapQuest  201.0         2  2016-02-08 07:39:07  2016-02-08 08:09:07   \n",
       "\n",
       "   Start_Lat  Start_Lng  End_Lat  End_Lng  ...  Roundabout Station   Stop  \\\n",
       "0  39.865147 -84.058723      NaN      NaN  ...       False   False  False   \n",
       "1  39.928059 -82.831184      NaN      NaN  ...       False   False  False   \n",
       "2  39.063148 -84.032608      NaN      NaN  ...       False   False  False   \n",
       "3  39.747753 -84.205582      NaN      NaN  ...       False   False  False   \n",
       "4  39.627781 -84.188354      NaN      NaN  ...       False   False  False   \n",
       "\n",
       "  Traffic_Calming Traffic_Signal Turning_Loop Sunrise_Sunset Civil_Twilight  \\\n",
       "0           False          False        False          Night          Night   \n",
       "1           False          False        False          Night          Night   \n",
       "2           False           True        False          Night          Night   \n",
       "3           False          False        False          Night            Day   \n",
       "4           False           True        False            Day            Day   \n",
       "\n",
       "  Nautical_Twilight Astronomical_Twilight  \n",
       "0             Night                 Night  \n",
       "1             Night                   Day  \n",
       "2               Day                   Day  \n",
       "3               Day                   Day  \n",
       "4               Day                   Day  \n",
       "\n",
       "[5 rows x 49 columns]"
      ]
     },
     "execution_count": 4,
     "metadata": {},
     "output_type": "execute_result"
    }
   ],
   "source": [
    "# Display first 5 rows of Data\n",
    "df.head()"
   ]
  },
  {
   "cell_type": "code",
   "execution_count": 5,
   "metadata": {},
   "outputs": [
    {
     "data": {
      "text/plain": [
       "array([201., 241., 247., 246., 341., 406., 245., 248., 200., 244., 203.,\n",
       "       229., 222., 202., 206., 343., 236., 239., 336., 339., 351.,  nan])"
      ]
     },
     "execution_count": 5,
     "metadata": {},
     "output_type": "execute_result"
    }
   ],
   "source": [
    "# Different TMCs - maybe add the description of each of them?\n",
    "df['TMC'].unique()"
   ]
  },
  {
   "cell_type": "code",
   "execution_count": 6,
   "metadata": {},
   "outputs": [
    {
     "data": {
      "text/plain": [
       "2    1455524\n",
       "3     715582\n",
       "4      72002\n",
       "1        814\n",
       "0         17\n",
       "Name: Severity, dtype: int64"
      ]
     },
     "execution_count": 6,
     "metadata": {},
     "output_type": "execute_result"
    }
   ],
   "source": [
    "# Count of different severity accidents (4 - strongest, 0 - lightest)\n",
    "df['Severity'].value_counts()"
   ]
  },
  {
   "cell_type": "code",
   "execution_count": 7,
   "metadata": {},
   "outputs": [
    {
     "data": {
      "text/plain": [
       "'2015-03-09 07:00:00'"
      ]
     },
     "execution_count": 7,
     "metadata": {},
     "output_type": "execute_result"
    }
   ],
   "source": [
    "df['Start_Time'].min()"
   ]
  },
  {
   "cell_type": "code",
   "execution_count": 8,
   "metadata": {},
   "outputs": [
    {
     "data": {
      "text/html": [
       "<div>\n",
       "<style scoped>\n",
       "    .dataframe tbody tr th:only-of-type {\n",
       "        vertical-align: middle;\n",
       "    }\n",
       "\n",
       "    .dataframe tbody tr th {\n",
       "        vertical-align: top;\n",
       "    }\n",
       "\n",
       "    .dataframe thead th {\n",
       "        text-align: right;\n",
       "    }\n",
       "</style>\n",
       "<table border=\"1\" class=\"dataframe\">\n",
       "  <thead>\n",
       "    <tr style=\"text-align: right;\">\n",
       "      <th></th>\n",
       "      <th></th>\n",
       "      <th></th>\n",
       "      <th></th>\n",
       "      <th>Count</th>\n",
       "      <th>Percent</th>\n",
       "    </tr>\n",
       "    <tr>\n",
       "      <th>Sunrise_Sunset</th>\n",
       "      <th>Civil_Twilight</th>\n",
       "      <th>Nautical_Twilight</th>\n",
       "      <th>Astronomical_Twilight</th>\n",
       "      <th></th>\n",
       "      <th></th>\n",
       "    </tr>\n",
       "  </thead>\n",
       "  <tbody>\n",
       "    <tr>\n",
       "      <th rowspan=\"4\" valign=\"top\">Day</th>\n",
       "      <th rowspan=\"2\" valign=\"top\">Day</th>\n",
       "      <th rowspan=\"2\" valign=\"top\">Day</th>\n",
       "      <th>Day</th>\n",
       "      <td>1645074</td>\n",
       "      <td>0.733144</td>\n",
       "    </tr>\n",
       "    <tr>\n",
       "      <th>Night</th>\n",
       "      <td>2223</td>\n",
       "      <td>0.000991</td>\n",
       "    </tr>\n",
       "    <tr>\n",
       "      <th rowspan=\"2\" valign=\"top\">Night</th>\n",
       "      <th rowspan=\"2\" valign=\"top\">Day</th>\n",
       "      <th>Day</th>\n",
       "      <td>27</td>\n",
       "      <td>0.000012</td>\n",
       "    </tr>\n",
       "    <tr>\n",
       "      <th>Night</th>\n",
       "      <td>7</td>\n",
       "      <td>0.000003</td>\n",
       "    </tr>\n",
       "    <tr>\n",
       "      <th rowspan=\"6\" valign=\"top\">Night</th>\n",
       "      <th rowspan=\"2\" valign=\"top\">Day</th>\n",
       "      <th rowspan=\"2\" valign=\"top\">Day</th>\n",
       "      <th>Day</th>\n",
       "      <td>113990</td>\n",
       "      <td>0.050801</td>\n",
       "    </tr>\n",
       "    <tr>\n",
       "      <th>Night</th>\n",
       "      <td>103</td>\n",
       "      <td>0.000046</td>\n",
       "    </tr>\n",
       "    <tr>\n",
       "      <th rowspan=\"4\" valign=\"top\">Night</th>\n",
       "      <th rowspan=\"2\" valign=\"top\">Day</th>\n",
       "      <th>Day</th>\n",
       "      <td>113424</td>\n",
       "      <td>0.050549</td>\n",
       "    </tr>\n",
       "    <tr>\n",
       "      <th>Night</th>\n",
       "      <td>94</td>\n",
       "      <td>0.000042</td>\n",
       "    </tr>\n",
       "    <tr>\n",
       "      <th rowspan=\"2\" valign=\"top\">Night</th>\n",
       "      <th>Day</th>\n",
       "      <td>87277</td>\n",
       "      <td>0.038896</td>\n",
       "    </tr>\n",
       "    <tr>\n",
       "      <th>Night</th>\n",
       "      <td>281642</td>\n",
       "      <td>0.125517</td>\n",
       "    </tr>\n",
       "  </tbody>\n",
       "</table>\n",
       "</div>"
      ],
      "text/plain": [
       "                                                                         Count  \\\n",
       "Sunrise_Sunset Civil_Twilight Nautical_Twilight Astronomical_Twilight            \n",
       "Day            Day            Day               Day                    1645074   \n",
       "                                                Night                     2223   \n",
       "               Night          Day               Day                         27   \n",
       "                                                Night                        7   \n",
       "Night          Day            Day               Day                     113990   \n",
       "                                                Night                      103   \n",
       "               Night          Day               Day                     113424   \n",
       "                                                Night                       94   \n",
       "                              Night             Day                      87277   \n",
       "                                                Night                   281642   \n",
       "\n",
       "                                                                        Percent  \n",
       "Sunrise_Sunset Civil_Twilight Nautical_Twilight Astronomical_Twilight            \n",
       "Day            Day            Day               Day                    0.733144  \n",
       "                                                Night                  0.000991  \n",
       "               Night          Day               Day                    0.000012  \n",
       "                                                Night                  0.000003  \n",
       "Night          Day            Day               Day                    0.050801  \n",
       "                                                Night                  0.000046  \n",
       "               Night          Day               Day                    0.050549  \n",
       "                                                Night                  0.000042  \n",
       "                              Night             Day                    0.038896  \n",
       "                                                Night                  0.125517  "
      ]
     },
     "execution_count": 8,
     "metadata": {},
     "output_type": "execute_result"
    }
   ],
   "source": [
    "# Shows that we can use the normal sunrise_sunset column. \n",
    "# It is the most \"powerful\" connection to the other columns.\n",
    "grouped_day_night = df.groupby(['Sunrise_Sunset','Civil_Twilight', 'Nautical_Twilight', 'Astronomical_Twilight'])['ID'].count()\n",
    "grouped_day_night_df = pd.DataFrame({\"Count\": grouped_day_night})\n",
    "grouped_day_night_df['Percent'] = grouped_day_night_df['Count'] / grouped_day_night_df['Count'].sum()\n",
    "grouped_day_night_df"
   ]
  },
  {
   "cell_type": "code",
   "execution_count": 9,
   "metadata": {},
   "outputs": [
    {
     "data": {
      "text/html": [
       "<div>\n",
       "<style scoped>\n",
       "    .dataframe tbody tr th:only-of-type {\n",
       "        vertical-align: middle;\n",
       "    }\n",
       "\n",
       "    .dataframe tbody tr th {\n",
       "        vertical-align: top;\n",
       "    }\n",
       "\n",
       "    .dataframe thead th {\n",
       "        text-align: right;\n",
       "    }\n",
       "</style>\n",
       "<table border=\"1\" class=\"dataframe\">\n",
       "  <thead>\n",
       "    <tr style=\"text-align: right;\">\n",
       "      <th></th>\n",
       "      <th>ID</th>\n",
       "      <th>Source</th>\n",
       "      <th>TMC</th>\n",
       "      <th>Severity</th>\n",
       "      <th>Start_Time</th>\n",
       "      <th>End_Time</th>\n",
       "      <th>Start_Lat</th>\n",
       "      <th>Start_Lng</th>\n",
       "      <th>End_Lat</th>\n",
       "      <th>End_Lng</th>\n",
       "      <th>...</th>\n",
       "      <th>Roundabout</th>\n",
       "      <th>Station</th>\n",
       "      <th>Stop</th>\n",
       "      <th>Traffic_Calming</th>\n",
       "      <th>Traffic_Signal</th>\n",
       "      <th>Turning_Loop</th>\n",
       "      <th>Sunrise_Sunset</th>\n",
       "      <th>Civil_Twilight</th>\n",
       "      <th>Nautical_Twilight</th>\n",
       "      <th>Astronomical_Twilight</th>\n",
       "    </tr>\n",
       "  </thead>\n",
       "  <tbody>\n",
       "    <tr>\n",
       "      <th>995709</th>\n",
       "      <td>A-995710</td>\n",
       "      <td>MapQuest</td>\n",
       "      <td>241.0</td>\n",
       "      <td>2</td>\n",
       "      <td>2018-07-01 09:57:25</td>\n",
       "      <td>2018-07-01 10:42:02</td>\n",
       "      <td>48.891541</td>\n",
       "      <td>-122.485542</td>\n",
       "      <td>NaN</td>\n",
       "      <td>NaN</td>\n",
       "      <td>...</td>\n",
       "      <td>False</td>\n",
       "      <td>False</td>\n",
       "      <td>False</td>\n",
       "      <td>False</td>\n",
       "      <td>False</td>\n",
       "      <td>False</td>\n",
       "      <td>Day</td>\n",
       "      <td>Night</td>\n",
       "      <td>Day</td>\n",
       "      <td>Night</td>\n",
       "    </tr>\n",
       "    <tr>\n",
       "      <th>1079177</th>\n",
       "      <td>A-1079178</td>\n",
       "      <td>MapQuest-Bing</td>\n",
       "      <td>241.0</td>\n",
       "      <td>2</td>\n",
       "      <td>2018-06-15 10:45:53</td>\n",
       "      <td>2018-06-15 11:15:28</td>\n",
       "      <td>48.833344</td>\n",
       "      <td>-122.485939</td>\n",
       "      <td>NaN</td>\n",
       "      <td>NaN</td>\n",
       "      <td>...</td>\n",
       "      <td>False</td>\n",
       "      <td>False</td>\n",
       "      <td>False</td>\n",
       "      <td>False</td>\n",
       "      <td>True</td>\n",
       "      <td>False</td>\n",
       "      <td>Day</td>\n",
       "      <td>Night</td>\n",
       "      <td>Day</td>\n",
       "      <td>Night</td>\n",
       "    </tr>\n",
       "    <tr>\n",
       "      <th>1083286</th>\n",
       "      <td>A-1083287</td>\n",
       "      <td>MapQuest</td>\n",
       "      <td>241.0</td>\n",
       "      <td>2</td>\n",
       "      <td>2018-06-18 12:49:53</td>\n",
       "      <td>2018-06-18 13:49:39</td>\n",
       "      <td>48.746143</td>\n",
       "      <td>-122.406197</td>\n",
       "      <td>NaN</td>\n",
       "      <td>NaN</td>\n",
       "      <td>...</td>\n",
       "      <td>False</td>\n",
       "      <td>False</td>\n",
       "      <td>False</td>\n",
       "      <td>False</td>\n",
       "      <td>False</td>\n",
       "      <td>False</td>\n",
       "      <td>Day</td>\n",
       "      <td>Night</td>\n",
       "      <td>Day</td>\n",
       "      <td>Night</td>\n",
       "    </tr>\n",
       "    <tr>\n",
       "      <th>1085700</th>\n",
       "      <td>A-1085701</td>\n",
       "      <td>MapQuest</td>\n",
       "      <td>201.0</td>\n",
       "      <td>2</td>\n",
       "      <td>2018-06-19 07:57:20</td>\n",
       "      <td>2018-06-19 08:27:08</td>\n",
       "      <td>48.846546</td>\n",
       "      <td>-122.555359</td>\n",
       "      <td>NaN</td>\n",
       "      <td>NaN</td>\n",
       "      <td>...</td>\n",
       "      <td>False</td>\n",
       "      <td>False</td>\n",
       "      <td>False</td>\n",
       "      <td>False</td>\n",
       "      <td>False</td>\n",
       "      <td>False</td>\n",
       "      <td>Day</td>\n",
       "      <td>Night</td>\n",
       "      <td>Day</td>\n",
       "      <td>Night</td>\n",
       "    </tr>\n",
       "    <tr>\n",
       "      <th>1094114</th>\n",
       "      <td>A-1094115</td>\n",
       "      <td>MapQuest</td>\n",
       "      <td>241.0</td>\n",
       "      <td>3</td>\n",
       "      <td>2018-06-24 10:37:58</td>\n",
       "      <td>2018-06-24 11:22:33</td>\n",
       "      <td>48.744965</td>\n",
       "      <td>-122.466347</td>\n",
       "      <td>NaN</td>\n",
       "      <td>NaN</td>\n",
       "      <td>...</td>\n",
       "      <td>False</td>\n",
       "      <td>False</td>\n",
       "      <td>False</td>\n",
       "      <td>False</td>\n",
       "      <td>False</td>\n",
       "      <td>False</td>\n",
       "      <td>Day</td>\n",
       "      <td>Night</td>\n",
       "      <td>Day</td>\n",
       "      <td>Night</td>\n",
       "    </tr>\n",
       "    <tr>\n",
       "      <th>1951633</th>\n",
       "      <td>A-1951634</td>\n",
       "      <td>Bing</td>\n",
       "      <td>NaN</td>\n",
       "      <td>2</td>\n",
       "      <td>2017-06-14 12:36:25</td>\n",
       "      <td>2017-06-14 18:36:25</td>\n",
       "      <td>48.922416</td>\n",
       "      <td>-122.485660</td>\n",
       "      <td>48.922422</td>\n",
       "      <td>-122.48566</td>\n",
       "      <td>...</td>\n",
       "      <td>False</td>\n",
       "      <td>False</td>\n",
       "      <td>False</td>\n",
       "      <td>False</td>\n",
       "      <td>False</td>\n",
       "      <td>False</td>\n",
       "      <td>Day</td>\n",
       "      <td>Night</td>\n",
       "      <td>Day</td>\n",
       "      <td>Night</td>\n",
       "    </tr>\n",
       "    <tr>\n",
       "      <th>2114515</th>\n",
       "      <td>A-2114516</td>\n",
       "      <td>Bing</td>\n",
       "      <td>NaN</td>\n",
       "      <td>4</td>\n",
       "      <td>2018-06-18 06:52:00</td>\n",
       "      <td>2018-06-18 12:52:00</td>\n",
       "      <td>48.813900</td>\n",
       "      <td>-122.544720</td>\n",
       "      <td>48.820430</td>\n",
       "      <td>-122.55104</td>\n",
       "      <td>...</td>\n",
       "      <td>False</td>\n",
       "      <td>False</td>\n",
       "      <td>False</td>\n",
       "      <td>False</td>\n",
       "      <td>False</td>\n",
       "      <td>False</td>\n",
       "      <td>Day</td>\n",
       "      <td>Night</td>\n",
       "      <td>Day</td>\n",
       "      <td>Night</td>\n",
       "    </tr>\n",
       "  </tbody>\n",
       "</table>\n",
       "<p>7 rows × 49 columns</p>\n",
       "</div>"
      ],
      "text/plain": [
       "                ID         Source    TMC  Severity           Start_Time  \\\n",
       "995709    A-995710       MapQuest  241.0         2  2018-07-01 09:57:25   \n",
       "1079177  A-1079178  MapQuest-Bing  241.0         2  2018-06-15 10:45:53   \n",
       "1083286  A-1083287       MapQuest  241.0         2  2018-06-18 12:49:53   \n",
       "1085700  A-1085701       MapQuest  201.0         2  2018-06-19 07:57:20   \n",
       "1094114  A-1094115       MapQuest  241.0         3  2018-06-24 10:37:58   \n",
       "1951633  A-1951634           Bing    NaN         2  2017-06-14 12:36:25   \n",
       "2114515  A-2114516           Bing    NaN         4  2018-06-18 06:52:00   \n",
       "\n",
       "                    End_Time  Start_Lat   Start_Lng    End_Lat    End_Lng  \\\n",
       "995709   2018-07-01 10:42:02  48.891541 -122.485542        NaN        NaN   \n",
       "1079177  2018-06-15 11:15:28  48.833344 -122.485939        NaN        NaN   \n",
       "1083286  2018-06-18 13:49:39  48.746143 -122.406197        NaN        NaN   \n",
       "1085700  2018-06-19 08:27:08  48.846546 -122.555359        NaN        NaN   \n",
       "1094114  2018-06-24 11:22:33  48.744965 -122.466347        NaN        NaN   \n",
       "1951633  2017-06-14 18:36:25  48.922416 -122.485660  48.922422 -122.48566   \n",
       "2114515  2018-06-18 12:52:00  48.813900 -122.544720  48.820430 -122.55104   \n",
       "\n",
       "         ...  Roundabout Station   Stop Traffic_Calming Traffic_Signal  \\\n",
       "995709   ...       False   False  False           False          False   \n",
       "1079177  ...       False   False  False           False           True   \n",
       "1083286  ...       False   False  False           False          False   \n",
       "1085700  ...       False   False  False           False          False   \n",
       "1094114  ...       False   False  False           False          False   \n",
       "1951633  ...       False   False  False           False          False   \n",
       "2114515  ...       False   False  False           False          False   \n",
       "\n",
       "        Turning_Loop Sunrise_Sunset Civil_Twilight Nautical_Twilight  \\\n",
       "995709         False            Day          Night               Day   \n",
       "1079177        False            Day          Night               Day   \n",
       "1083286        False            Day          Night               Day   \n",
       "1085700        False            Day          Night               Day   \n",
       "1094114        False            Day          Night               Day   \n",
       "1951633        False            Day          Night               Day   \n",
       "2114515        False            Day          Night               Day   \n",
       "\n",
       "        Astronomical_Twilight  \n",
       "995709                  Night  \n",
       "1079177                 Night  \n",
       "1083286                 Night  \n",
       "1085700                 Night  \n",
       "1094114                 Night  \n",
       "1951633                 Night  \n",
       "2114515                 Night  \n",
       "\n",
       "[7 rows x 49 columns]"
      ]
     },
     "execution_count": 9,
     "metadata": {},
     "output_type": "execute_result"
    }
   ],
   "source": [
    "# Example of mismatch between the Day/Night columns\n",
    "df.loc[(df['Sunrise_Sunset'] == 'Day') & (df['Civil_Twilight'] == 'Night') & (df['Astronomical_Twilight'] == 'Night')]"
   ]
  },
  {
   "cell_type": "code",
   "execution_count": 10,
   "metadata": {},
   "outputs": [
    {
     "data": {
      "text/plain": [
       "At I-5 - Accident.                                   467\n",
       "At I-605 - Accident.                                 445\n",
       "At I-405/San Diego Fwy - Accident.                   396\n",
       "At I-15 - Accident.                                  367\n",
       "At I-85 - Accident.                                  343\n",
       "At Central Ave - Accident.                           324\n",
       "At Grand Ave - Accident.                             320\n",
       "At Main St - Accident.                               260\n",
       "Accident on I-85 Southbound at Exit 54 Pelham Rd.    244\n",
       "At I-405 - Accident.                                 238\n",
       "Name: Description, dtype: int64"
      ]
     },
     "execution_count": 10,
     "metadata": {},
     "output_type": "execute_result"
    }
   ],
   "source": [
    "# Unique values for Description - space for tighter clusters?\n",
    "df['Description'].value_counts().head(10)"
   ]
  },
  {
   "cell_type": "code",
   "execution_count": 11,
   "metadata": {},
   "outputs": [],
   "source": [
    "# Create relevant df with data for the weather comparison\n",
    "df_weather = df[['ID', 'Severity', 'Start_Time', 'City', 'County', 'State', 'Timezone',\n",
    "                 'Temperature(F)', 'Wind_Chill(F)', 'Humidity(%)', 'Pressure(in)', 'Visibility(mi)',\n",
    "                 'Wind_Direction', 'Wind_Speed(mph)', 'Precipitation(in)', 'Weather_Condition',\n",
    "                 'Sunrise_Sunset']]"
   ]
  },
  {
   "cell_type": "code",
   "execution_count": 12,
   "metadata": {},
   "outputs": [],
   "source": [
    "# Delete rows with Weather_Condition as null\n",
    "# df_weather = df_weather.dropna(subset=['Weather_Condition'])"
   ]
  },
  {
   "cell_type": "code",
   "execution_count": 13,
   "metadata": {},
   "outputs": [
    {
     "data": {
      "text/plain": [
       "'2015-03-09 07:00:00'"
      ]
     },
     "execution_count": 13,
     "metadata": {},
     "output_type": "execute_result"
    }
   ],
   "source": [
    "df_weather['Start_Time'].min()"
   ]
  },
  {
   "cell_type": "code",
   "execution_count": 14,
   "metadata": {},
   "outputs": [
    {
     "data": {
      "text/plain": [
       "Clear                                  808182\n",
       "Overcast                               382482\n",
       "Mostly Cloudy                          310086\n",
       "Partly Cloudy                          208371\n",
       "Scattered Clouds                       204654\n",
       "Light Rain                             107164\n",
       "Light Snow                              36038\n",
       "Haze                                    27727\n",
       "Rain                                    24824\n",
       "Fog                                     11617\n",
       "Heavy Rain                               8929\n",
       "Light Drizzle                            8058\n",
       "Light Thunderstorms and Rain             4928\n",
       "Thunderstorm                             4439\n",
       "Snow                                     4099\n",
       "Smoke                                    3010\n",
       "Heavy Thunderstorms and Rain             2484\n",
       "Thunderstorms and Rain                   2215\n",
       "Light Freezing Rain                      1997\n",
       "Mist                                     1918\n",
       "Patches of Fog                           1878\n",
       "Drizzle                                  1601\n",
       "Heavy Snow                               1149\n",
       "Light Freezing Fog                       1001\n",
       "Shallow Fog                               841\n",
       "Light Freezing Drizzle                    777\n",
       "Blowing Snow                              264\n",
       "Light Ice Pellets                         262\n",
       "Heavy Drizzle                             199\n",
       "Light Rain Showers                        157\n",
       "Widespread Dust                           129\n",
       "Rain Showers                              123\n",
       "Ice Pellets                               101\n",
       "Squalls                                    26\n",
       "Small Hail                                 25\n",
       "Light Snow Showers                         24\n",
       "Light Thunderstorms and Snow               22\n",
       "Volcanic Ash                               22\n",
       "Sand                                       19\n",
       "Funnel Cloud                               17\n",
       "Light Haze                                 10\n",
       "Heavy Rain Showers                          7\n",
       "Heavy Thunderstorms with Small Hail         7\n",
       "Low Drifting Snow                           5\n",
       "Heavy Thunderstorms and Snow                5\n",
       "Snow Grains                                 4\n",
       "Heavy Ice Pellets                           4\n",
       "Light Fog                                   4\n",
       "Heavy Blowing Snow                          4\n",
       "Light Thunderstorm                          3\n",
       "Thunderstorms and Snow                      3\n",
       "Light Blowing Snow                          3\n",
       "Light Snow Grains                           3\n",
       "Light Hail                                  3\n",
       "Hail                                        2\n",
       "Heavy Freezing Drizzle                      2\n",
       "Snow Showers                                2\n",
       "Heavy Freezing Rain                         2\n",
       "Dust Whirls                                 1\n",
       "Heavy Smoke                                 1\n",
       "Blowing Sand                                1\n",
       "Name: Weather_Condition, dtype: int64"
      ]
     },
     "execution_count": 14,
     "metadata": {},
     "output_type": "execute_result"
    }
   ],
   "source": [
    "# Unique values for Weather Condition - space for tighter clusters\n",
    "df_weather['Weather_Condition'].value_counts()"
   ]
  },
  {
   "cell_type": "code",
   "execution_count": 15,
   "metadata": {},
   "outputs": [
    {
     "data": {
      "text/plain": [
       "Cloudy          1105610\n",
       "Clear            808182\n",
       "Rain             153840\n",
       "Fog               44996\n",
       "Snow              41625\n",
       "Thunderstorm      14076\n",
       "Smoke              3011\n",
       "Hail                397\n",
       "Dust                172\n",
       "Squalls              26\n",
       "Name: Weather_Condition_Corrected, dtype: int64"
      ]
     },
     "execution_count": 15,
     "metadata": {},
     "output_type": "execute_result"
    }
   ],
   "source": [
    "df_weather['Weather_Condition_Corrected'] = df_weather['Weather_Condition']\n",
    "df_weather['Weather_Condition_Corrected'] = df_weather['Weather_Condition_Corrected'].replace(\n",
    "    {\"Mostly Cloudy\": \"Cloudy\",\n",
    "     \"Partly Cloudy\": \"Cloudy\",\n",
    "     \"Scattered Clouds\": \"Cloudy\",\n",
    "     \"Funnel Cloud\": \"Cloudy\",\n",
    "     'Overcast': 'Cloudy',\n",
    "     'Drizzle': 'Rain',\n",
    "     'Light Drizzle': 'Rain',\n",
    "     'Light Freezing Drizzle': 'Rain',\n",
    "     'Heavy Drizzle': 'Rain',\n",
    "     'Heavy Freezing Drizzle': 'Rain',\n",
    "     'Widespread Dust': 'Dust',\n",
    "     'Dust Whirls': 'Dust',\n",
    "     'Volcanic Ash': 'Dust',\n",
    "     'Sand': 'Dust',\n",
    "     'Blowing Sand': 'Dust',\n",
    "     'Haze': 'Fog',\n",
    "     'Patches of Fog': 'Fog',\n",
    "     'Light Freezing Fog': 'Fog',\n",
    "     'Shallow Fog': 'Fog',\n",
    "     'Light Fog': 'Fog',\n",
    "     'Mist': 'Fog',\n",
    "     'Small Hail': 'Hail',\n",
    "     'Light Hail': 'Hail',\n",
    "     'Ice Pellets': 'Hail',\n",
    "     'Light Haze': 'Fog',\n",
    "     'Light Ice Pellets': 'Hail',\n",
    "     'Heavy Ice Pellets': 'Hail',\n",
    "     'Light Rain': 'Rain',\n",
    "     'Heavy Rain': 'Rain',\n",
    "     'Light Thunderstorms and Rain': 'Thunderstorm',\n",
    "     'Heavy Thunderstorms and Rain': 'Thunderstorm',\n",
    "     'Thunderstorms and Rain': 'Thunderstorm',\n",
    "     'Light Freezing Rain': 'Rain',\n",
    "     'Light Rain Showers': 'Rain',\n",
    "     'Rain Showers': 'Rain',\n",
    "     'Heavy Rain Showers': 'Rain',\n",
    "     'Snow Grains': 'Snow',\n",
    "     'Light Snow Grains': 'Snow',\n",
    "     'Heavy Freezing Rain': 'Rain',\n",
    "     'Heavy Smoke': 'Smoke',\n",
    "     'Light Snow': 'Snow',\n",
    "     'Heavy Snow': 'Snow',\n",
    "     'Blowing Snow': 'Snow',\n",
    "     'Light Snow Showers': 'Snow',\n",
    "     'Light Thunderstorms and Snow': 'Snow',\n",
    "     'Low Drifting Snow': 'Snow',\n",
    "     'Heavy Thunderstorms and Snow': 'Snow',\n",
    "     'Thunderstorms and Snow': 'Snow',\n",
    "     'Heavy Blowing Snow': 'Snow',\n",
    "     'Light Blowing Snow': 'Snow',\n",
    "     'Snow Showers': 'Snow',\n",
    "     'Heavy Thunderstorms with Small Hail': 'Thunderstorm',\n",
    "     'Light Thunderstorm': 'Thunderstorm'\n",
    "    })\n",
    "\n",
    "df_weather['Weather_Condition_Corrected'].value_counts()"
   ]
  },
  {
   "cell_type": "code",
   "execution_count": 16,
   "metadata": {},
   "outputs": [],
   "source": [
    "df_weather[\"Start_Year\"] = df_weather[\"Start_Time\"].agg(lambda x: x.split(\"-\")[0])"
   ]
  },
  {
   "cell_type": "code",
   "execution_count": 17,
   "metadata": {},
   "outputs": [
    {
     "data": {
      "text/plain": [
       "2018    892624\n",
       "2017    717490\n",
       "2016    410601\n",
       "2019    223223\n",
       "2015         1\n",
       "Name: Start_Year, dtype: int64"
      ]
     },
     "execution_count": 17,
     "metadata": {},
     "output_type": "execute_result"
    }
   ],
   "source": [
    "df_weather['Start_Year'].value_counts()"
   ]
  },
  {
   "cell_type": "code",
   "execution_count": 18,
   "metadata": {
    "scrolled": true
   },
   "outputs": [
    {
     "data": {
      "text/plain": [
       "ID                                   0\n",
       "Severity                             0\n",
       "Start_Time                           0\n",
       "City                                68\n",
       "County                               0\n",
       "State                                0\n",
       "Timezone                          2141\n",
       "Temperature(F)                   62265\n",
       "Wind_Chill(F)                  1852370\n",
       "Humidity(%)                      64467\n",
       "Pressure(in)                     57280\n",
       "Visibility(mi)                   71360\n",
       "Wind_Direction                   47190\n",
       "Wind_Speed(mph)                 442954\n",
       "Precipitation(in)              1979466\n",
       "Weather_Condition                72004\n",
       "Sunrise_Sunset                      78\n",
       "Weather_Condition_Corrected      72004\n",
       "Start_Year                           0\n",
       "dtype: int64"
      ]
     },
     "execution_count": 18,
     "metadata": {},
     "output_type": "execute_result"
    }
   ],
   "source": [
    "# How many NaN per each column\n",
    "df_weather.isnull().sum()"
   ]
  },
  {
   "cell_type": "code",
   "execution_count": 19,
   "metadata": {},
   "outputs": [],
   "source": [
    "# Delete rows with 2019 data\n",
    "df_weather.drop( df_weather[ df_weather['Start_Year'] == '2019' ].index , inplace=True)"
   ]
  },
  {
   "cell_type": "code",
   "execution_count": 20,
   "metadata": {},
   "outputs": [
    {
     "data": {
      "text/plain": [
       "CA    449909\n",
       "TX    219354\n",
       "FL    163442\n",
       "NC     96474\n",
       "NY     94858\n",
       "SC     87707\n",
       "PA     70294\n",
       "MI     68341\n",
       "IL     66430\n",
       "GA     59914\n",
       "VA     54256\n",
       "WA     46682\n",
       "OH     42632\n",
       "AZ     37799\n",
       "TN     37157\n",
       "NJ     36937\n",
       "LA     33501\n",
       "MN     33208\n",
       "MD     30878\n",
       "OK     30815\n",
       "OR     29690\n",
       "MA     23668\n",
       "CO     22536\n",
       "IN     22272\n",
       "MO     19886\n",
       "NE     17863\n",
       "CT     17349\n",
       "AL     17134\n",
       "UT     16772\n",
       "KY     12291\n",
       "WI     10696\n",
       "RI      7509\n",
       "IA      7503\n",
       "NV      6521\n",
       "KS      4892\n",
       "NH      4847\n",
       "MS      3975\n",
       "NM      3404\n",
       "DE      2813\n",
       "DC      2168\n",
       "WV      1801\n",
       "ME      1429\n",
       "ID      1206\n",
       "AR       757\n",
       "WY       380\n",
       "VT       360\n",
       "MT       347\n",
       "SD        33\n",
       "ND        26\n",
       "Name: State, dtype: int64"
      ]
     },
     "execution_count": 20,
     "metadata": {},
     "output_type": "execute_result"
    }
   ],
   "source": [
    "# Unique values for State - space for tighter clusters?\n",
    "df_weather['State'].value_counts()"
   ]
  },
  {
   "cell_type": "code",
   "execution_count": 21,
   "metadata": {},
   "outputs": [],
   "source": [
    "# Create DataFrame to hold the data for chart Weather and Severity of Acidents\n",
    "df_weather_severity = pd.DataFrame(df_weather.groupby(['Weather_Condition_Corrected','Severity','Start_Year'])['ID'].count().reset_index())\n",
    "\n"
   ]
  },
  {
   "cell_type": "code",
   "execution_count": 22,
   "metadata": {
    "scrolled": true
   },
   "outputs": [
    {
     "data": {
      "text/plain": [
       "Text(0, 0.5, 'Severity of Accidents')"
      ]
     },
     "execution_count": 22,
     "metadata": {},
     "output_type": "execute_result"
    },
    {
     "data": {
      "image/png": "[encoded data removed]",
      "text/plain": [
       "<Figure size 1440x360 with 3 Axes>"
      ]
     },
     "metadata": {
      "needs_background": "light"
     },
     "output_type": "display_data"
    }
   ],
   "source": [
    "fig = plt.figure(figsize=(20,5))\n",
    "st = fig.suptitle('Weather Condition and Severity of Acidents', fontsize=\"x-large\")\n",
    "\n",
    "# 2016 Chart\n",
    "df_weather_severity_2016 = df_weather_severity.loc[df_weather_severity['Start_Year'] == '2016']\n",
    "\n",
    "# List of values in x axis, y axis and dots sizes\n",
    "x_axis_2016 = list(df_weather_severity_2016['Weather_Condition_Corrected'])\n",
    "data_2016 = list(df_weather_severity_2016['Severity'])\n",
    "size_2016 = [i / 100 for i in list(df_weather_severity_2016['ID'])]\n",
    "\n",
    "# Create Chart\n",
    "plt.subplot(1, 3, 1)\n",
    "plt.scatter(x_axis_2016, data_2016, marker=\"o\", facecolors=\"red\", edgecolors=\"black\",\n",
    "            s=size_2016, alpha=0.75)\n",
    "plt.yticks(np.arange(0, 5, 1))\n",
    "plt.xticks(rotation=\"vertical\")\n",
    "plt.title(\"2016\")\n",
    "plt.xlabel(\"Weather Condition\")\n",
    "plt.ylabel(\"Severity of Acidents\")\n",
    "\n",
    "\n",
    "# 2017 Chart\n",
    "df_weather_severity_2017 = df_weather_severity.loc[df_weather_severity['Start_Year'] == '2017']\n",
    "\n",
    "# List of values in x axis, y axis and dots sizes\n",
    "x_axis_2017 = list(df_weather_severity_2017['Weather_Condition_Corrected'])\n",
    "data_2017 = list(df_weather_severity_2017['Severity'])\n",
    "size_2017 = [i / 100 for i in list(df_weather_severity_2017['ID'])]\n",
    "\n",
    "# Create Chart\n",
    "plt.subplot(1, 3, 2)\n",
    "plt.scatter(x_axis_2017, data_2017, marker=\"o\", facecolors=\"red\", edgecolors=\"black\",\n",
    "            s=size_2017, alpha=0.75)\n",
    "plt.yticks(np.arange(0, 5, 1))\n",
    "plt.xticks(rotation=\"vertical\")\n",
    "plt.title(\"2017\")\n",
    "plt.xlabel(\"Weather Condition\")\n",
    "plt.ylabel(\"Severity of Acidents\")\n",
    "\n",
    "# 2018 Chart\n",
    "df_weather_severity_2018 = df_weather_severity.loc[df_weather_severity['Start_Year'] == '2018']\n",
    "\n",
    "# List of values in x axis, y axis and dots sizes\n",
    "x_axis_2018 = list(df_weather_severity_2018['Weather_Condition_Corrected'])\n",
    "data_2018 = list(df_weather_severity_2018['Severity'])\n",
    "size_2018 = [i / 100 for i in list(df_weather_severity_2018['ID'])]\n",
    "\n",
    "# Create Chart\n",
    "plt.subplot(1, 3, 3)\n",
    "plt.scatter(x_axis_2018, data_2018, marker=\"o\", facecolors=\"red\", edgecolors=\"black\",\n",
    "            s=size_2018, alpha=0.75)\n",
    "plt.yticks(np.arange(0, 5, 1))\n",
    "plt.xticks(rotation=\"vertical\")\n",
    "plt.title(\"2018\")\n",
    "plt.xlabel(\"Weather Condition\")\n",
    "plt.ylabel(\"Severity of Accidents\")"
   ]
  },
  {
   "cell_type": "code",
   "execution_count": null,
   "metadata": {},
   "outputs": [],
   "source": []
  },
  {
   "cell_type": "code",
   "execution_count": 25,
   "metadata": {},
   "outputs": [
    {
     "data": {
      "text/html": [
       "<div>\n",
       "<style scoped>\n",
       "    .dataframe tbody tr th:only-of-type {\n",
       "        vertical-align: middle;\n",
       "    }\n",
       "\n",
       "    .dataframe tbody tr th {\n",
       "        vertical-align: top;\n",
       "    }\n",
       "\n",
       "    .dataframe thead th {\n",
       "        text-align: right;\n",
       "    }\n",
       "</style>\n",
       "<table border=\"1\" class=\"dataframe\">\n",
       "  <thead>\n",
       "    <tr style=\"text-align: right;\">\n",
       "      <th>Start_Year</th>\n",
       "      <th>2016</th>\n",
       "      <th>2017</th>\n",
       "      <th>2018</th>\n",
       "    </tr>\n",
       "    <tr>\n",
       "      <th>Weather_Condition_Corrected2</th>\n",
       "      <th></th>\n",
       "      <th></th>\n",
       "      <th></th>\n",
       "    </tr>\n",
       "  </thead>\n",
       "  <tbody>\n",
       "    <tr>\n",
       "      <th>Clear/Cloudy</th>\n",
       "      <td>448.0</td>\n",
       "      <td>2512.0</td>\n",
       "      <td>5473.0</td>\n",
       "    </tr>\n",
       "    <tr>\n",
       "      <th>Fog</th>\n",
       "      <td>5.0</td>\n",
       "      <td>48.0</td>\n",
       "      <td>53.0</td>\n",
       "    </tr>\n",
       "    <tr>\n",
       "      <th>Rain</th>\n",
       "      <td>8.0</td>\n",
       "      <td>108.0</td>\n",
       "      <td>126.0</td>\n",
       "    </tr>\n",
       "    <tr>\n",
       "      <th>Smoke</th>\n",
       "      <td>NaN</td>\n",
       "      <td>8.0</td>\n",
       "      <td>4.0</td>\n",
       "    </tr>\n",
       "    <tr>\n",
       "      <th>Snow</th>\n",
       "      <td>NaN</td>\n",
       "      <td>113.0</td>\n",
       "      <td>172.0</td>\n",
       "    </tr>\n",
       "    <tr>\n",
       "      <th>Thunderstorm</th>\n",
       "      <td>3.0</td>\n",
       "      <td>6.0</td>\n",
       "      <td>4.0</td>\n",
       "    </tr>\n",
       "  </tbody>\n",
       "</table>\n",
       "</div>"
      ],
      "text/plain": [
       "Start_Year                     2016    2017    2018\n",
       "Weather_Condition_Corrected2                       \n",
       "Clear/Cloudy                  448.0  2512.0  5473.0\n",
       "Fog                             5.0    48.0    53.0\n",
       "Rain                            8.0   108.0   126.0\n",
       "Smoke                           NaN     8.0     4.0\n",
       "Snow                            NaN   113.0   172.0\n",
       "Thunderstorm                    3.0     6.0     4.0"
      ]
     },
     "execution_count": 25,
     "metadata": {},
     "output_type": "execute_result"
    }
   ],
   "source": [
    "df_weather_denver = df_weather[df_weather['City'] == 'Denver']\n",
    "df_weather_denver['Weather_Condition_Corrected2'] = df_weather_denver['Weather_Condition_Corrected']\n",
    "df_weather_denver['Weather_Condition_Corrected2'] = df_weather_denver['Weather_Condition_Corrected2'].replace(\n",
    "    {\"Clear\": \"Clear/Cloudy\",\n",
    "     \"Cloudy\": \"Clear/Cloudy\"})\n",
    "df_weather_denver = pd.DataFrame(df_weather_denver.groupby(['Weather_Condition_Corrected2',\n",
    "                                                            'Start_Year'])['ID'].count().reset_index())\n",
    "df_weather_denver_trans = df_weather_denver.pivot_table(index=('Weather_Condition_Corrected2'), \n",
    "                                                        columns='Start_Year', values='ID')\n",
    "df_weather_denver_trans"
   ]
  },
  {
   "cell_type": "code",
   "execution_count": 26,
   "metadata": {},
   "outputs": [
    {
     "data": {
      "text/html": [
       "<div>\n",
       "<style scoped>\n",
       "    .dataframe tbody tr th:only-of-type {\n",
       "        vertical-align: middle;\n",
       "    }\n",
       "\n",
       "    .dataframe tbody tr th {\n",
       "        vertical-align: top;\n",
       "    }\n",
       "\n",
       "    .dataframe thead th {\n",
       "        text-align: right;\n",
       "    }\n",
       "</style>\n",
       "<table border=\"1\" class=\"dataframe\">\n",
       "  <thead>\n",
       "    <tr style=\"text-align: right;\">\n",
       "      <th>Start_Year</th>\n",
       "      <th>2016</th>\n",
       "      <th>2017</th>\n",
       "      <th>2018</th>\n",
       "    </tr>\n",
       "  </thead>\n",
       "  <tbody>\n",
       "    <tr>\n",
       "      <th>Clear/Cloudy</th>\n",
       "      <td>2.715152</td>\n",
       "      <td>16.206452</td>\n",
       "      <td>36.979730</td>\n",
       "    </tr>\n",
       "    <tr>\n",
       "      <th>Dust</th>\n",
       "      <td>NaN</td>\n",
       "      <td>NaN</td>\n",
       "      <td>NaN</td>\n",
       "    </tr>\n",
       "    <tr>\n",
       "      <th>Fog</th>\n",
       "      <td>0.080645</td>\n",
       "      <td>0.676056</td>\n",
       "      <td>0.688312</td>\n",
       "    </tr>\n",
       "    <tr>\n",
       "      <th>Hail</th>\n",
       "      <td>NaN</td>\n",
       "      <td>NaN</td>\n",
       "      <td>NaN</td>\n",
       "    </tr>\n",
       "    <tr>\n",
       "      <th>Rain</th>\n",
       "      <td>0.156863</td>\n",
       "      <td>1.741935</td>\n",
       "      <td>2.377358</td>\n",
       "    </tr>\n",
       "    <tr>\n",
       "      <th>Smoke</th>\n",
       "      <td>NaN</td>\n",
       "      <td>1.142857</td>\n",
       "      <td>0.500000</td>\n",
       "    </tr>\n",
       "    <tr>\n",
       "      <th>Snow</th>\n",
       "      <td>NaN</td>\n",
       "      <td>9.416667</td>\n",
       "      <td>8.600000</td>\n",
       "    </tr>\n",
       "    <tr>\n",
       "      <th>Thunderstorm</th>\n",
       "      <td>0.049180</td>\n",
       "      <td>0.109091</td>\n",
       "      <td>0.072727</td>\n",
       "    </tr>\n",
       "  </tbody>\n",
       "</table>\n",
       "</div>"
      ],
      "text/plain": [
       "Start_Year        2016       2017       2018\n",
       "Clear/Cloudy  2.715152  16.206452  36.979730\n",
       "Dust               NaN        NaN        NaN\n",
       "Fog           0.080645   0.676056   0.688312\n",
       "Hail               NaN        NaN        NaN\n",
       "Rain          0.156863   1.741935   2.377358\n",
       "Smoke              NaN   1.142857   0.500000\n",
       "Snow               NaN   9.416667   8.600000\n",
       "Thunderstorm  0.049180   0.109091   0.072727"
      ]
     },
     "execution_count": 26,
     "metadata": {},
     "output_type": "execute_result"
    }
   ],
   "source": [
    "df_weather_denver_trans_norm = df_weather_denver_trans.div(denver_weather_days, axis = 0)\n",
    "df_weather_denver_trans_norm"
   ]
  },
  {
   "cell_type": "code",
   "execution_count": 27,
   "metadata": {},
   "outputs": [
    {
     "data": {
      "image/png": "[encoded data removed]",
      "text/plain": [
       "<Figure size 1440x1080 with 1 Axes>"
      ]
     },
     "metadata": {
      "needs_background": "light"
     },
     "output_type": "display_data"
    }
   ],
   "source": [
    "width = 0.2  # the width of the bars\n",
    "x = np.arange(len(df_weather_denver_trans_norm.index))  # the label locations\n",
    "labels = df_weather_denver_trans_norm.index\n",
    "\n",
    "fig, ax = plt.subplots(figsize = (20,15))\n",
    "rects1 = ax.bar(x - width*1.1, list(df_weather_denver_trans_norm['2016']), width, label='Number of Accidents in 2016')\n",
    "rects2 = ax.bar(x, list(df_weather_denver_trans_norm['2017']), width, label='Number of Accidents in 2017')\n",
    "rects3 = ax.bar(x + width*1.1, list(df_weather_denver_trans_norm['2018']), width, label='Number of Accidents in 2018')\n",
    "\n",
    "# Add some text for labels, title and custom x-axis tick labels, etc.\n",
    "ax.set_ylabel('Number of Accidents per day')\n",
    "ax.set_title('Acidents per weather condition in Boston')\n",
    "ax.set_xticks(x)\n",
    "ax.set_xticklabels(labels)\n",
    "ax.legend()\n",
    "\n",
    "def autolabel(rects):\n",
    "    \"\"\"Attach a text label above each bar in *rects*, displaying its height.\"\"\"\n",
    "    for rect in rects:\n",
    "        height = rect.get_height().round(1)\n",
    "        ax.annotate('{}'.format(height),\n",
    "                    xy=(rect.get_x() + rect.get_width() / 2, height),\n",
    "                    xytext=(0, 3),  # 3 points vertical offset\n",
    "                    textcoords=\"offset points\",\n",
    "                    ha='center', va='bottom')\n",
    "\n",
    "autolabel(rects1)\n",
    "autolabel(rects2)\n",
    "autolabel(rects3)"
   ]
  },
  {
   "cell_type": "code",
   "execution_count": 23,
   "metadata": {},
   "outputs": [],
   "source": [
    "# Create DataFrame to hold the data for chart Day/Night and Severity of Acidents\n",
    "df_dn_severity = pd.DataFrame(df_weather.groupby(['Sunrise_Sunset','Start_Year'])['ID'].count().reset_index())\n",
    "df_dn_severity = df_dn_severity.pivot(index='Sunrise_Sunset', columns = 'Start_Year', values = 'ID')\n"
   ]
  },
  {
   "cell_type": "code",
   "execution_count": 37,
   "metadata": {},
   "outputs": [
    {
     "data": {
      "image/png": "[encoded data removed]",
      "text/plain": [
       "<Figure size 1440x1080 with 1 Axes>"
      ]
     },
     "metadata": {
      "needs_background": "light"
     },
     "output_type": "display_data"
    }
   ],
   "source": [
    "width = 0.2  # the width of the bars\n",
    "x = np.arange(len(df_dn_severity.index))  # the label locations\n",
    "labels = list(df_dn_severity.index)\n",
    "\n",
    "fig, ax = plt.subplots(figsize = (20,15))\n",
    "rects1 = ax.bar(x - width*1.1, list(df_dn_severity['2016']), width, label='Number of Accidents in 2016')\n",
    "rects2 = ax.bar(x, list(df_dn_severity['2017']), width, label='Number of Accidents in 2017')\n",
    "rects3 = ax.bar(x + width*1.1, list(df_dn_severity['2018']), width, label='Number of Accidents in 2018')\n",
    "\n",
    "# Add some text for labels, title and custom x-axis tick labels, etc.\n",
    "ax.set_ylabel('Number of Accidents per day')\n",
    "ax.set_title('Acidents per day and night in USA')\n",
    "ax.set_xticks(x)\n",
    "ax.set_xticklabels(labels)\n",
    "ax.legend()\n",
    "\n",
    "def autolabel(rects):\n",
    "    \"\"\"Attach a text label above each bar in *rects*, displaying its height.\"\"\"\n",
    "    for rect in rects:\n",
    "        height = rect.get_height().round(1)\n",
    "        ax.annotate('{}'.format(height),\n",
    "                    xy=(rect.get_x() + rect.get_width() / 2, height),\n",
    "                    xytext=(0, 3),  # 3 points vertical offset\n",
    "                    textcoords=\"offset points\",\n",
    "                    ha='center', va='bottom')\n",
    "\n",
    "autolabel(rects1)\n",
    "autolabel(rects2)\n",
    "autolabel(rects3)"
   ]
  },
  {
   "cell_type": "code",
   "execution_count": 32,
   "metadata": {},
   "outputs": [
    {
     "data": {
      "text/html": [
       "<div>\n",
       "<style scoped>\n",
       "    .dataframe tbody tr th:only-of-type {\n",
       "        vertical-align: middle;\n",
       "    }\n",
       "\n",
       "    .dataframe tbody tr th {\n",
       "        vertical-align: top;\n",
       "    }\n",
       "\n",
       "    .dataframe thead th {\n",
       "        text-align: right;\n",
       "    }\n",
       "</style>\n",
       "<table border=\"1\" class=\"dataframe\">\n",
       "  <thead>\n",
       "    <tr style=\"text-align: right;\">\n",
       "      <th>Sunrise_Sunset</th>\n",
       "      <th>Start_Year</th>\n",
       "      <th>State</th>\n",
       "      <th>Day</th>\n",
       "      <th>Night</th>\n",
       "      <th>Day/Night</th>\n",
       "    </tr>\n",
       "  </thead>\n",
       "  <tbody>\n",
       "    <tr>\n",
       "      <th>0</th>\n",
       "      <td>2016</td>\n",
       "      <td>AL</td>\n",
       "      <td>112.0</td>\n",
       "      <td>23.0</td>\n",
       "      <td>4.869565</td>\n",
       "    </tr>\n",
       "    <tr>\n",
       "      <th>1</th>\n",
       "      <td>2016</td>\n",
       "      <td>AR</td>\n",
       "      <td>25.0</td>\n",
       "      <td>1.0</td>\n",
       "      <td>25.000000</td>\n",
       "    </tr>\n",
       "    <tr>\n",
       "      <th>2</th>\n",
       "      <td>2016</td>\n",
       "      <td>AZ</td>\n",
       "      <td>1946.0</td>\n",
       "      <td>824.0</td>\n",
       "      <td>2.361650</td>\n",
       "    </tr>\n",
       "    <tr>\n",
       "      <th>3</th>\n",
       "      <td>2016</td>\n",
       "      <td>CA</td>\n",
       "      <td>95343.0</td>\n",
       "      <td>45111.0</td>\n",
       "      <td>2.113520</td>\n",
       "    </tr>\n",
       "    <tr>\n",
       "      <th>4</th>\n",
       "      <td>2016</td>\n",
       "      <td>CO</td>\n",
       "      <td>964.0</td>\n",
       "      <td>360.0</td>\n",
       "      <td>2.677778</td>\n",
       "    </tr>\n",
       "    <tr>\n",
       "      <th>5</th>\n",
       "      <td>2016</td>\n",
       "      <td>CT</td>\n",
       "      <td>3261.0</td>\n",
       "      <td>940.0</td>\n",
       "      <td>3.469149</td>\n",
       "    </tr>\n",
       "    <tr>\n",
       "      <th>6</th>\n",
       "      <td>2016</td>\n",
       "      <td>DC</td>\n",
       "      <td>318.0</td>\n",
       "      <td>135.0</td>\n",
       "      <td>2.355556</td>\n",
       "    </tr>\n",
       "    <tr>\n",
       "      <th>7</th>\n",
       "      <td>2016</td>\n",
       "      <td>DE</td>\n",
       "      <td>189.0</td>\n",
       "      <td>90.0</td>\n",
       "      <td>2.100000</td>\n",
       "    </tr>\n",
       "    <tr>\n",
       "      <th>8</th>\n",
       "      <td>2016</td>\n",
       "      <td>FL</td>\n",
       "      <td>29021.0</td>\n",
       "      <td>8000.0</td>\n",
       "      <td>3.627625</td>\n",
       "    </tr>\n",
       "    <tr>\n",
       "      <th>9</th>\n",
       "      <td>2016</td>\n",
       "      <td>GA</td>\n",
       "      <td>9835.0</td>\n",
       "      <td>3407.0</td>\n",
       "      <td>2.886704</td>\n",
       "    </tr>\n",
       "    <tr>\n",
       "      <th>10</th>\n",
       "      <td>2016</td>\n",
       "      <td>IA</td>\n",
       "      <td>1386.0</td>\n",
       "      <td>619.0</td>\n",
       "      <td>2.239095</td>\n",
       "    </tr>\n",
       "    <tr>\n",
       "      <th>11</th>\n",
       "      <td>2016</td>\n",
       "      <td>ID</td>\n",
       "      <td>277.0</td>\n",
       "      <td>142.0</td>\n",
       "      <td>1.950704</td>\n",
       "    </tr>\n",
       "    <tr>\n",
       "      <th>12</th>\n",
       "      <td>2016</td>\n",
       "      <td>IL</td>\n",
       "      <td>12931.0</td>\n",
       "      <td>4146.0</td>\n",
       "      <td>3.118910</td>\n",
       "    </tr>\n",
       "    <tr>\n",
       "      <th>13</th>\n",
       "      <td>2016</td>\n",
       "      <td>IN</td>\n",
       "      <td>1171.0</td>\n",
       "      <td>452.0</td>\n",
       "      <td>2.590708</td>\n",
       "    </tr>\n",
       "    <tr>\n",
       "      <th>14</th>\n",
       "      <td>2016</td>\n",
       "      <td>KS</td>\n",
       "      <td>577.0</td>\n",
       "      <td>185.0</td>\n",
       "      <td>3.118919</td>\n",
       "    </tr>\n",
       "    <tr>\n",
       "      <th>15</th>\n",
       "      <td>2016</td>\n",
       "      <td>KY</td>\n",
       "      <td>806.0</td>\n",
       "      <td>262.0</td>\n",
       "      <td>3.076336</td>\n",
       "    </tr>\n",
       "    <tr>\n",
       "      <th>16</th>\n",
       "      <td>2016</td>\n",
       "      <td>LA</td>\n",
       "      <td>617.0</td>\n",
       "      <td>232.0</td>\n",
       "      <td>2.659483</td>\n",
       "    </tr>\n",
       "    <tr>\n",
       "      <th>17</th>\n",
       "      <td>2016</td>\n",
       "      <td>MA</td>\n",
       "      <td>4165.0</td>\n",
       "      <td>1032.0</td>\n",
       "      <td>4.035853</td>\n",
       "    </tr>\n",
       "    <tr>\n",
       "      <th>18</th>\n",
       "      <td>2016</td>\n",
       "      <td>MD</td>\n",
       "      <td>5276.0</td>\n",
       "      <td>2258.0</td>\n",
       "      <td>2.336581</td>\n",
       "    </tr>\n",
       "    <tr>\n",
       "      <th>19</th>\n",
       "      <td>2016</td>\n",
       "      <td>ME</td>\n",
       "      <td>101.0</td>\n",
       "      <td>34.0</td>\n",
       "      <td>2.970588</td>\n",
       "    </tr>\n",
       "    <tr>\n",
       "      <th>20</th>\n",
       "      <td>2016</td>\n",
       "      <td>MI</td>\n",
       "      <td>11482.0</td>\n",
       "      <td>5148.0</td>\n",
       "      <td>2.230381</td>\n",
       "    </tr>\n",
       "    <tr>\n",
       "      <th>21</th>\n",
       "      <td>2016</td>\n",
       "      <td>MN</td>\n",
       "      <td>1647.0</td>\n",
       "      <td>920.0</td>\n",
       "      <td>1.790217</td>\n",
       "    </tr>\n",
       "    <tr>\n",
       "      <th>22</th>\n",
       "      <td>2016</td>\n",
       "      <td>MO</td>\n",
       "      <td>2865.0</td>\n",
       "      <td>893.0</td>\n",
       "      <td>3.208287</td>\n",
       "    </tr>\n",
       "    <tr>\n",
       "      <th>23</th>\n",
       "      <td>2016</td>\n",
       "      <td>MS</td>\n",
       "      <td>331.0</td>\n",
       "      <td>71.0</td>\n",
       "      <td>4.661972</td>\n",
       "    </tr>\n",
       "    <tr>\n",
       "      <th>24</th>\n",
       "      <td>2016</td>\n",
       "      <td>MT</td>\n",
       "      <td>48.0</td>\n",
       "      <td>14.0</td>\n",
       "      <td>3.428571</td>\n",
       "    </tr>\n",
       "    <tr>\n",
       "      <th>25</th>\n",
       "      <td>2016</td>\n",
       "      <td>NC</td>\n",
       "      <td>5132.0</td>\n",
       "      <td>1015.0</td>\n",
       "      <td>5.056158</td>\n",
       "    </tr>\n",
       "    <tr>\n",
       "      <th>26</th>\n",
       "      <td>2016</td>\n",
       "      <td>ND</td>\n",
       "      <td>1.0</td>\n",
       "      <td>2.0</td>\n",
       "      <td>0.500000</td>\n",
       "    </tr>\n",
       "    <tr>\n",
       "      <th>27</th>\n",
       "      <td>2016</td>\n",
       "      <td>NE</td>\n",
       "      <td>5196.0</td>\n",
       "      <td>614.0</td>\n",
       "      <td>8.462541</td>\n",
       "    </tr>\n",
       "    <tr>\n",
       "      <th>28</th>\n",
       "      <td>2016</td>\n",
       "      <td>NH</td>\n",
       "      <td>222.0</td>\n",
       "      <td>93.0</td>\n",
       "      <td>2.387097</td>\n",
       "    </tr>\n",
       "    <tr>\n",
       "      <th>29</th>\n",
       "      <td>2016</td>\n",
       "      <td>NJ</td>\n",
       "      <td>5951.0</td>\n",
       "      <td>1963.0</td>\n",
       "      <td>3.031584</td>\n",
       "    </tr>\n",
       "    <tr>\n",
       "      <th>30</th>\n",
       "      <td>2016</td>\n",
       "      <td>NM</td>\n",
       "      <td>123.0</td>\n",
       "      <td>30.0</td>\n",
       "      <td>4.100000</td>\n",
       "    </tr>\n",
       "    <tr>\n",
       "      <th>31</th>\n",
       "      <td>2016</td>\n",
       "      <td>NV</td>\n",
       "      <td>975.0</td>\n",
       "      <td>382.0</td>\n",
       "      <td>2.552356</td>\n",
       "    </tr>\n",
       "    <tr>\n",
       "      <th>32</th>\n",
       "      <td>2016</td>\n",
       "      <td>NY</td>\n",
       "      <td>14634.0</td>\n",
       "      <td>5382.0</td>\n",
       "      <td>2.719064</td>\n",
       "    </tr>\n",
       "    <tr>\n",
       "      <th>33</th>\n",
       "      <td>2016</td>\n",
       "      <td>OH</td>\n",
       "      <td>8806.0</td>\n",
       "      <td>2524.0</td>\n",
       "      <td>3.488906</td>\n",
       "    </tr>\n",
       "    <tr>\n",
       "      <th>34</th>\n",
       "      <td>2016</td>\n",
       "      <td>OK</td>\n",
       "      <td>416.0</td>\n",
       "      <td>154.0</td>\n",
       "      <td>2.701299</td>\n",
       "    </tr>\n",
       "    <tr>\n",
       "      <th>35</th>\n",
       "      <td>2016</td>\n",
       "      <td>OR</td>\n",
       "      <td>713.0</td>\n",
       "      <td>313.0</td>\n",
       "      <td>2.277955</td>\n",
       "    </tr>\n",
       "    <tr>\n",
       "      <th>36</th>\n",
       "      <td>2016</td>\n",
       "      <td>PA</td>\n",
       "      <td>16315.0</td>\n",
       "      <td>4893.0</td>\n",
       "      <td>3.334355</td>\n",
       "    </tr>\n",
       "    <tr>\n",
       "      <th>37</th>\n",
       "      <td>2016</td>\n",
       "      <td>RI</td>\n",
       "      <td>1116.0</td>\n",
       "      <td>287.0</td>\n",
       "      <td>3.888502</td>\n",
       "    </tr>\n",
       "    <tr>\n",
       "      <th>38</th>\n",
       "      <td>2016</td>\n",
       "      <td>SC</td>\n",
       "      <td>2231.0</td>\n",
       "      <td>784.0</td>\n",
       "      <td>2.845663</td>\n",
       "    </tr>\n",
       "    <tr>\n",
       "      <th>39</th>\n",
       "      <td>2016</td>\n",
       "      <td>SD</td>\n",
       "      <td>8.0</td>\n",
       "      <td>NaN</td>\n",
       "      <td>NaN</td>\n",
       "    </tr>\n",
       "    <tr>\n",
       "      <th>40</th>\n",
       "      <td>2016</td>\n",
       "      <td>TN</td>\n",
       "      <td>1234.0</td>\n",
       "      <td>454.0</td>\n",
       "      <td>2.718062</td>\n",
       "    </tr>\n",
       "    <tr>\n",
       "      <th>41</th>\n",
       "      <td>2016</td>\n",
       "      <td>TX</td>\n",
       "      <td>37531.0</td>\n",
       "      <td>12235.0</td>\n",
       "      <td>3.067511</td>\n",
       "    </tr>\n",
       "    <tr>\n",
       "      <th>42</th>\n",
       "      <td>2016</td>\n",
       "      <td>UT</td>\n",
       "      <td>736.0</td>\n",
       "      <td>232.0</td>\n",
       "      <td>3.172414</td>\n",
       "    </tr>\n",
       "    <tr>\n",
       "      <th>43</th>\n",
       "      <td>2016</td>\n",
       "      <td>VA</td>\n",
       "      <td>4543.0</td>\n",
       "      <td>1947.0</td>\n",
       "      <td>2.333333</td>\n",
       "    </tr>\n",
       "    <tr>\n",
       "      <th>44</th>\n",
       "      <td>2016</td>\n",
       "      <td>VT</td>\n",
       "      <td>9.0</td>\n",
       "      <td>8.0</td>\n",
       "      <td>1.125000</td>\n",
       "    </tr>\n",
       "    <tr>\n",
       "      <th>45</th>\n",
       "      <td>2016</td>\n",
       "      <td>WA</td>\n",
       "      <td>5806.0</td>\n",
       "      <td>3511.0</td>\n",
       "      <td>1.653660</td>\n",
       "    </tr>\n",
       "    <tr>\n",
       "      <th>46</th>\n",
       "      <td>2016</td>\n",
       "      <td>WI</td>\n",
       "      <td>1132.0</td>\n",
       "      <td>430.0</td>\n",
       "      <td>2.632558</td>\n",
       "    </tr>\n",
       "    <tr>\n",
       "      <th>47</th>\n",
       "      <td>2016</td>\n",
       "      <td>WV</td>\n",
       "      <td>308.0</td>\n",
       "      <td>121.0</td>\n",
       "      <td>2.545455</td>\n",
       "    </tr>\n",
       "    <tr>\n",
       "      <th>48</th>\n",
       "      <td>2016</td>\n",
       "      <td>WY</td>\n",
       "      <td>47.0</td>\n",
       "      <td>22.0</td>\n",
       "      <td>2.136364</td>\n",
       "    </tr>\n",
       "    <tr>\n",
       "      <th>49</th>\n",
       "      <td>2017</td>\n",
       "      <td>AL</td>\n",
       "      <td>2318.0</td>\n",
       "      <td>586.0</td>\n",
       "      <td>3.955631</td>\n",
       "    </tr>\n",
       "    <tr>\n",
       "      <th>50</th>\n",
       "      <td>2017</td>\n",
       "      <td>AR</td>\n",
       "      <td>100.0</td>\n",
       "      <td>34.0</td>\n",
       "      <td>2.941176</td>\n",
       "    </tr>\n",
       "    <tr>\n",
       "      <th>51</th>\n",
       "      <td>2017</td>\n",
       "      <td>AZ</td>\n",
       "      <td>9028.0</td>\n",
       "      <td>3299.0</td>\n",
       "      <td>2.736587</td>\n",
       "    </tr>\n",
       "    <tr>\n",
       "      <th>52</th>\n",
       "      <td>2017</td>\n",
       "      <td>CA</td>\n",
       "      <td>102679.0</td>\n",
       "      <td>49988.0</td>\n",
       "      <td>2.054073</td>\n",
       "    </tr>\n",
       "    <tr>\n",
       "      <th>53</th>\n",
       "      <td>2017</td>\n",
       "      <td>CO</td>\n",
       "      <td>5361.0</td>\n",
       "      <td>1730.0</td>\n",
       "      <td>3.098844</td>\n",
       "    </tr>\n",
       "    <tr>\n",
       "      <th>54</th>\n",
       "      <td>2017</td>\n",
       "      <td>CT</td>\n",
       "      <td>5041.0</td>\n",
       "      <td>1694.0</td>\n",
       "      <td>2.975797</td>\n",
       "    </tr>\n",
       "    <tr>\n",
       "      <th>55</th>\n",
       "      <td>2017</td>\n",
       "      <td>DC</td>\n",
       "      <td>555.0</td>\n",
       "      <td>207.0</td>\n",
       "      <td>2.681159</td>\n",
       "    </tr>\n",
       "    <tr>\n",
       "      <th>56</th>\n",
       "      <td>2017</td>\n",
       "      <td>DE</td>\n",
       "      <td>592.0</td>\n",
       "      <td>299.0</td>\n",
       "      <td>1.979933</td>\n",
       "    </tr>\n",
       "    <tr>\n",
       "      <th>57</th>\n",
       "      <td>2017</td>\n",
       "      <td>FL</td>\n",
       "      <td>47272.0</td>\n",
       "      <td>13383.0</td>\n",
       "      <td>3.532242</td>\n",
       "    </tr>\n",
       "    <tr>\n",
       "      <th>58</th>\n",
       "      <td>2017</td>\n",
       "      <td>GA</td>\n",
       "      <td>16060.0</td>\n",
       "      <td>5999.0</td>\n",
       "      <td>2.677113</td>\n",
       "    </tr>\n",
       "    <tr>\n",
       "      <th>59</th>\n",
       "      <td>2017</td>\n",
       "      <td>IA</td>\n",
       "      <td>2240.0</td>\n",
       "      <td>775.0</td>\n",
       "      <td>2.890323</td>\n",
       "    </tr>\n",
       "    <tr>\n",
       "      <th>60</th>\n",
       "      <td>2017</td>\n",
       "      <td>ID</td>\n",
       "      <td>269.0</td>\n",
       "      <td>99.0</td>\n",
       "      <td>2.717172</td>\n",
       "    </tr>\n",
       "    <tr>\n",
       "      <th>61</th>\n",
       "      <td>2017</td>\n",
       "      <td>IL</td>\n",
       "      <td>19146.0</td>\n",
       "      <td>6142.0</td>\n",
       "      <td>3.117226</td>\n",
       "    </tr>\n",
       "    <tr>\n",
       "      <th>62</th>\n",
       "      <td>2017</td>\n",
       "      <td>IN</td>\n",
       "      <td>5033.0</td>\n",
       "      <td>1909.0</td>\n",
       "      <td>2.636459</td>\n",
       "    </tr>\n",
       "    <tr>\n",
       "      <th>63</th>\n",
       "      <td>2017</td>\n",
       "      <td>KS</td>\n",
       "      <td>1372.0</td>\n",
       "      <td>362.0</td>\n",
       "      <td>3.790055</td>\n",
       "    </tr>\n",
       "    <tr>\n",
       "      <th>64</th>\n",
       "      <td>2017</td>\n",
       "      <td>KY</td>\n",
       "      <td>2344.0</td>\n",
       "      <td>931.0</td>\n",
       "      <td>2.517723</td>\n",
       "    </tr>\n",
       "    <tr>\n",
       "      <th>65</th>\n",
       "      <td>2017</td>\n",
       "      <td>LA</td>\n",
       "      <td>10100.0</td>\n",
       "      <td>2132.0</td>\n",
       "      <td>4.737336</td>\n",
       "    </tr>\n",
       "    <tr>\n",
       "      <th>66</th>\n",
       "      <td>2017</td>\n",
       "      <td>MA</td>\n",
       "      <td>6962.0</td>\n",
       "      <td>2083.0</td>\n",
       "      <td>3.342295</td>\n",
       "    </tr>\n",
       "    <tr>\n",
       "      <th>67</th>\n",
       "      <td>2017</td>\n",
       "      <td>MD</td>\n",
       "      <td>9032.0</td>\n",
       "      <td>3305.0</td>\n",
       "      <td>2.732829</td>\n",
       "    </tr>\n",
       "    <tr>\n",
       "      <th>68</th>\n",
       "      <td>2017</td>\n",
       "      <td>ME</td>\n",
       "      <td>454.0</td>\n",
       "      <td>137.0</td>\n",
       "      <td>3.313869</td>\n",
       "    </tr>\n",
       "    <tr>\n",
       "      <th>69</th>\n",
       "      <td>2017</td>\n",
       "      <td>MI</td>\n",
       "      <td>19841.0</td>\n",
       "      <td>7583.0</td>\n",
       "      <td>2.616511</td>\n",
       "    </tr>\n",
       "    <tr>\n",
       "      <th>70</th>\n",
       "      <td>2017</td>\n",
       "      <td>MN</td>\n",
       "      <td>7170.0</td>\n",
       "      <td>3258.0</td>\n",
       "      <td>2.200737</td>\n",
       "    </tr>\n",
       "    <tr>\n",
       "      <th>71</th>\n",
       "      <td>2017</td>\n",
       "      <td>MO</td>\n",
       "      <td>5426.0</td>\n",
       "      <td>1947.0</td>\n",
       "      <td>2.786852</td>\n",
       "    </tr>\n",
       "    <tr>\n",
       "      <th>72</th>\n",
       "      <td>2017</td>\n",
       "      <td>MS</td>\n",
       "      <td>848.0</td>\n",
       "      <td>189.0</td>\n",
       "      <td>4.486772</td>\n",
       "    </tr>\n",
       "    <tr>\n",
       "      <th>73</th>\n",
       "      <td>2017</td>\n",
       "      <td>MT</td>\n",
       "      <td>96.0</td>\n",
       "      <td>37.0</td>\n",
       "      <td>2.594595</td>\n",
       "    </tr>\n",
       "    <tr>\n",
       "      <th>74</th>\n",
       "      <td>2017</td>\n",
       "      <td>NC</td>\n",
       "      <td>26778.0</td>\n",
       "      <td>7313.0</td>\n",
       "      <td>3.661698</td>\n",
       "    </tr>\n",
       "    <tr>\n",
       "      <th>75</th>\n",
       "      <td>2017</td>\n",
       "      <td>ND</td>\n",
       "      <td>3.0</td>\n",
       "      <td>1.0</td>\n",
       "      <td>3.000000</td>\n",
       "    </tr>\n",
       "    <tr>\n",
       "      <th>76</th>\n",
       "      <td>2017</td>\n",
       "      <td>NE</td>\n",
       "      <td>5137.0</td>\n",
       "      <td>1066.0</td>\n",
       "      <td>4.818949</td>\n",
       "    </tr>\n",
       "    <tr>\n",
       "      <th>77</th>\n",
       "      <td>2017</td>\n",
       "      <td>NH</td>\n",
       "      <td>1467.0</td>\n",
       "      <td>564.0</td>\n",
       "      <td>2.601064</td>\n",
       "    </tr>\n",
       "    <tr>\n",
       "      <th>78</th>\n",
       "      <td>2017</td>\n",
       "      <td>NJ</td>\n",
       "      <td>10769.0</td>\n",
       "      <td>3302.0</td>\n",
       "      <td>3.261357</td>\n",
       "    </tr>\n",
       "    <tr>\n",
       "      <th>79</th>\n",
       "      <td>2017</td>\n",
       "      <td>NM</td>\n",
       "      <td>1002.0</td>\n",
       "      <td>137.0</td>\n",
       "      <td>7.313869</td>\n",
       "    </tr>\n",
       "    <tr>\n",
       "      <th>80</th>\n",
       "      <td>2017</td>\n",
       "      <td>NV</td>\n",
       "      <td>1839.0</td>\n",
       "      <td>664.0</td>\n",
       "      <td>2.769578</td>\n",
       "    </tr>\n",
       "    <tr>\n",
       "      <th>81</th>\n",
       "      <td>2017</td>\n",
       "      <td>NY</td>\n",
       "      <td>27499.0</td>\n",
       "      <td>9374.0</td>\n",
       "      <td>2.933540</td>\n",
       "    </tr>\n",
       "    <tr>\n",
       "      <th>82</th>\n",
       "      <td>2017</td>\n",
       "      <td>OH</td>\n",
       "      <td>10016.0</td>\n",
       "      <td>3637.0</td>\n",
       "      <td>2.753918</td>\n",
       "    </tr>\n",
       "    <tr>\n",
       "      <th>83</th>\n",
       "      <td>2017</td>\n",
       "      <td>OK</td>\n",
       "      <td>7672.0</td>\n",
       "      <td>2088.0</td>\n",
       "      <td>3.674330</td>\n",
       "    </tr>\n",
       "    <tr>\n",
       "      <th>84</th>\n",
       "      <td>2017</td>\n",
       "      <td>OR</td>\n",
       "      <td>4440.0</td>\n",
       "      <td>1727.0</td>\n",
       "      <td>2.570932</td>\n",
       "    </tr>\n",
       "    <tr>\n",
       "      <th>85</th>\n",
       "      <td>2017</td>\n",
       "      <td>PA</td>\n",
       "      <td>20516.0</td>\n",
       "      <td>6355.0</td>\n",
       "      <td>3.228324</td>\n",
       "    </tr>\n",
       "    <tr>\n",
       "      <th>86</th>\n",
       "      <td>2017</td>\n",
       "      <td>RI</td>\n",
       "      <td>2248.0</td>\n",
       "      <td>610.0</td>\n",
       "      <td>3.685246</td>\n",
       "    </tr>\n",
       "    <tr>\n",
       "      <th>87</th>\n",
       "      <td>2017</td>\n",
       "      <td>SC</td>\n",
       "      <td>21472.0</td>\n",
       "      <td>6859.0</td>\n",
       "      <td>3.130485</td>\n",
       "    </tr>\n",
       "    <tr>\n",
       "      <th>88</th>\n",
       "      <td>2017</td>\n",
       "      <td>SD</td>\n",
       "      <td>8.0</td>\n",
       "      <td>4.0</td>\n",
       "      <td>2.000000</td>\n",
       "    </tr>\n",
       "    <tr>\n",
       "      <th>89</th>\n",
       "      <td>2017</td>\n",
       "      <td>TN</td>\n",
       "      <td>8607.0</td>\n",
       "      <td>2400.0</td>\n",
       "      <td>3.586250</td>\n",
       "    </tr>\n",
       "    <tr>\n",
       "      <th>90</th>\n",
       "      <td>2017</td>\n",
       "      <td>TX</td>\n",
       "      <td>66759.0</td>\n",
       "      <td>18779.0</td>\n",
       "      <td>3.554982</td>\n",
       "    </tr>\n",
       "    <tr>\n",
       "      <th>91</th>\n",
       "      <td>2017</td>\n",
       "      <td>UT</td>\n",
       "      <td>3479.0</td>\n",
       "      <td>1172.0</td>\n",
       "      <td>2.968430</td>\n",
       "    </tr>\n",
       "    <tr>\n",
       "      <th>92</th>\n",
       "      <td>2017</td>\n",
       "      <td>VA</td>\n",
       "      <td>15482.0</td>\n",
       "      <td>5255.0</td>\n",
       "      <td>2.946147</td>\n",
       "    </tr>\n",
       "    <tr>\n",
       "      <th>93</th>\n",
       "      <td>2017</td>\n",
       "      <td>VT</td>\n",
       "      <td>115.0</td>\n",
       "      <td>40.0</td>\n",
       "      <td>2.875000</td>\n",
       "    </tr>\n",
       "    <tr>\n",
       "      <th>94</th>\n",
       "      <td>2017</td>\n",
       "      <td>WA</td>\n",
       "      <td>13066.0</td>\n",
       "      <td>5382.0</td>\n",
       "      <td>2.427722</td>\n",
       "    </tr>\n",
       "    <tr>\n",
       "      <th>95</th>\n",
       "      <td>2017</td>\n",
       "      <td>WI</td>\n",
       "      <td>3046.0</td>\n",
       "      <td>1055.0</td>\n",
       "      <td>2.887204</td>\n",
       "    </tr>\n",
       "    <tr>\n",
       "      <th>96</th>\n",
       "      <td>2017</td>\n",
       "      <td>WV</td>\n",
       "      <td>475.0</td>\n",
       "      <td>225.0</td>\n",
       "      <td>2.111111</td>\n",
       "    </tr>\n",
       "    <tr>\n",
       "      <th>97</th>\n",
       "      <td>2017</td>\n",
       "      <td>WY</td>\n",
       "      <td>77.0</td>\n",
       "      <td>35.0</td>\n",
       "      <td>2.200000</td>\n",
       "    </tr>\n",
       "    <tr>\n",
       "      <th>98</th>\n",
       "      <td>2018</td>\n",
       "      <td>AL</td>\n",
       "      <td>10791.0</td>\n",
       "      <td>3304.0</td>\n",
       "      <td>3.266041</td>\n",
       "    </tr>\n",
       "    <tr>\n",
       "      <th>99</th>\n",
       "      <td>2018</td>\n",
       "      <td>AR</td>\n",
       "      <td>432.0</td>\n",
       "      <td>165.0</td>\n",
       "      <td>2.618182</td>\n",
       "    </tr>\n",
       "    <tr>\n",
       "      <th>100</th>\n",
       "      <td>2018</td>\n",
       "      <td>AZ</td>\n",
       "      <td>17288.0</td>\n",
       "      <td>5414.0</td>\n",
       "      <td>3.193203</td>\n",
       "    </tr>\n",
       "    <tr>\n",
       "      <th>101</th>\n",
       "      <td>2018</td>\n",
       "      <td>CA</td>\n",
       "      <td>111733.0</td>\n",
       "      <td>45051.0</td>\n",
       "      <td>2.480145</td>\n",
       "    </tr>\n",
       "    <tr>\n",
       "      <th>102</th>\n",
       "      <td>2018</td>\n",
       "      <td>CO</td>\n",
       "      <td>10829.0</td>\n",
       "      <td>3292.0</td>\n",
       "      <td>3.289490</td>\n",
       "    </tr>\n",
       "    <tr>\n",
       "      <th>103</th>\n",
       "      <td>2018</td>\n",
       "      <td>CT</td>\n",
       "      <td>4933.0</td>\n",
       "      <td>1480.0</td>\n",
       "      <td>3.333108</td>\n",
       "    </tr>\n",
       "    <tr>\n",
       "      <th>104</th>\n",
       "      <td>2018</td>\n",
       "      <td>DC</td>\n",
       "      <td>668.0</td>\n",
       "      <td>280.0</td>\n",
       "      <td>2.385714</td>\n",
       "    </tr>\n",
       "    <tr>\n",
       "      <th>105</th>\n",
       "      <td>2018</td>\n",
       "      <td>DE</td>\n",
       "      <td>1200.0</td>\n",
       "      <td>443.0</td>\n",
       "      <td>2.708804</td>\n",
       "    </tr>\n",
       "    <tr>\n",
       "      <th>106</th>\n",
       "      <td>2018</td>\n",
       "      <td>FL</td>\n",
       "      <td>49339.0</td>\n",
       "      <td>16403.0</td>\n",
       "      <td>3.007925</td>\n",
       "    </tr>\n",
       "    <tr>\n",
       "      <th>107</th>\n",
       "      <td>2018</td>\n",
       "      <td>GA</td>\n",
       "      <td>18181.0</td>\n",
       "      <td>6432.0</td>\n",
       "      <td>2.826648</td>\n",
       "    </tr>\n",
       "    <tr>\n",
       "      <th>108</th>\n",
       "      <td>2018</td>\n",
       "      <td>IA</td>\n",
       "      <td>1850.0</td>\n",
       "      <td>632.0</td>\n",
       "      <td>2.927215</td>\n",
       "    </tr>\n",
       "    <tr>\n",
       "      <th>109</th>\n",
       "      <td>2018</td>\n",
       "      <td>ID</td>\n",
       "      <td>311.0</td>\n",
       "      <td>108.0</td>\n",
       "      <td>2.879630</td>\n",
       "    </tr>\n",
       "    <tr>\n",
       "      <th>110</th>\n",
       "      <td>2018</td>\n",
       "      <td>IL</td>\n",
       "      <td>17455.0</td>\n",
       "      <td>6609.0</td>\n",
       "      <td>2.641095</td>\n",
       "    </tr>\n",
       "    <tr>\n",
       "      <th>111</th>\n",
       "      <td>2018</td>\n",
       "      <td>IN</td>\n",
       "      <td>10119.0</td>\n",
       "      <td>3583.0</td>\n",
       "      <td>2.824170</td>\n",
       "    </tr>\n",
       "    <tr>\n",
       "      <th>112</th>\n",
       "      <td>2018</td>\n",
       "      <td>KS</td>\n",
       "      <td>1886.0</td>\n",
       "      <td>510.0</td>\n",
       "      <td>3.698039</td>\n",
       "    </tr>\n",
       "    <tr>\n",
       "      <th>113</th>\n",
       "      <td>2018</td>\n",
       "      <td>KY</td>\n",
       "      <td>5915.0</td>\n",
       "      <td>2033.0</td>\n",
       "      <td>2.909493</td>\n",
       "    </tr>\n",
       "    <tr>\n",
       "      <th>114</th>\n",
       "      <td>2018</td>\n",
       "      <td>LA</td>\n",
       "      <td>17333.0</td>\n",
       "      <td>3087.0</td>\n",
       "      <td>5.614836</td>\n",
       "    </tr>\n",
       "    <tr>\n",
       "      <th>115</th>\n",
       "      <td>2018</td>\n",
       "      <td>MA</td>\n",
       "      <td>7364.0</td>\n",
       "      <td>2062.0</td>\n",
       "      <td>3.571290</td>\n",
       "    </tr>\n",
       "    <tr>\n",
       "      <th>116</th>\n",
       "      <td>2018</td>\n",
       "      <td>MD</td>\n",
       "      <td>7909.0</td>\n",
       "      <td>3095.0</td>\n",
       "      <td>2.555412</td>\n",
       "    </tr>\n",
       "    <tr>\n",
       "      <th>117</th>\n",
       "      <td>2018</td>\n",
       "      <td>ME</td>\n",
       "      <td>562.0</td>\n",
       "      <td>141.0</td>\n",
       "      <td>3.985816</td>\n",
       "    </tr>\n",
       "    <tr>\n",
       "      <th>118</th>\n",
       "      <td>2018</td>\n",
       "      <td>MI</td>\n",
       "      <td>17093.0</td>\n",
       "      <td>7194.0</td>\n",
       "      <td>2.376008</td>\n",
       "    </tr>\n",
       "    <tr>\n",
       "      <th>119</th>\n",
       "      <td>2018</td>\n",
       "      <td>MN</td>\n",
       "      <td>14780.0</td>\n",
       "      <td>5433.0</td>\n",
       "      <td>2.720412</td>\n",
       "    </tr>\n",
       "    <tr>\n",
       "      <th>120</th>\n",
       "      <td>2018</td>\n",
       "      <td>MO</td>\n",
       "      <td>6429.0</td>\n",
       "      <td>2326.0</td>\n",
       "      <td>2.763972</td>\n",
       "    </tr>\n",
       "    <tr>\n",
       "      <th>121</th>\n",
       "      <td>2018</td>\n",
       "      <td>MS</td>\n",
       "      <td>2243.0</td>\n",
       "      <td>293.0</td>\n",
       "      <td>7.655290</td>\n",
       "    </tr>\n",
       "    <tr>\n",
       "      <th>122</th>\n",
       "      <td>2018</td>\n",
       "      <td>MT</td>\n",
       "      <td>124.0</td>\n",
       "      <td>28.0</td>\n",
       "      <td>4.428571</td>\n",
       "    </tr>\n",
       "    <tr>\n",
       "      <th>123</th>\n",
       "      <td>2018</td>\n",
       "      <td>NC</td>\n",
       "      <td>46106.0</td>\n",
       "      <td>10130.0</td>\n",
       "      <td>4.551431</td>\n",
       "    </tr>\n",
       "    <tr>\n",
       "      <th>124</th>\n",
       "      <td>2018</td>\n",
       "      <td>ND</td>\n",
       "      <td>17.0</td>\n",
       "      <td>2.0</td>\n",
       "      <td>8.500000</td>\n",
       "    </tr>\n",
       "    <tr>\n",
       "      <th>125</th>\n",
       "      <td>2018</td>\n",
       "      <td>NE</td>\n",
       "      <td>4619.0</td>\n",
       "      <td>1231.0</td>\n",
       "      <td>3.752234</td>\n",
       "    </tr>\n",
       "    <tr>\n",
       "      <th>126</th>\n",
       "      <td>2018</td>\n",
       "      <td>NH</td>\n",
       "      <td>1900.0</td>\n",
       "      <td>601.0</td>\n",
       "      <td>3.161398</td>\n",
       "    </tr>\n",
       "    <tr>\n",
       "      <th>127</th>\n",
       "      <td>2018</td>\n",
       "      <td>NJ</td>\n",
       "      <td>11067.0</td>\n",
       "      <td>3885.0</td>\n",
       "      <td>2.848649</td>\n",
       "    </tr>\n",
       "    <tr>\n",
       "      <th>128</th>\n",
       "      <td>2018</td>\n",
       "      <td>NM</td>\n",
       "      <td>1828.0</td>\n",
       "      <td>284.0</td>\n",
       "      <td>6.436620</td>\n",
       "    </tr>\n",
       "    <tr>\n",
       "      <th>129</th>\n",
       "      <td>2018</td>\n",
       "      <td>NV</td>\n",
       "      <td>1986.0</td>\n",
       "      <td>675.0</td>\n",
       "      <td>2.942222</td>\n",
       "    </tr>\n",
       "    <tr>\n",
       "      <th>130</th>\n",
       "      <td>2018</td>\n",
       "      <td>NY</td>\n",
       "      <td>27222.0</td>\n",
       "      <td>10728.0</td>\n",
       "      <td>2.537472</td>\n",
       "    </tr>\n",
       "    <tr>\n",
       "      <th>131</th>\n",
       "      <td>2018</td>\n",
       "      <td>OH</td>\n",
       "      <td>12294.0</td>\n",
       "      <td>5354.0</td>\n",
       "      <td>2.296227</td>\n",
       "    </tr>\n",
       "    <tr>\n",
       "      <th>132</th>\n",
       "      <td>2018</td>\n",
       "      <td>OK</td>\n",
       "      <td>15953.0</td>\n",
       "      <td>4532.0</td>\n",
       "      <td>3.520079</td>\n",
       "    </tr>\n",
       "    <tr>\n",
       "      <th>133</th>\n",
       "      <td>2018</td>\n",
       "      <td>OR</td>\n",
       "      <td>14888.0</td>\n",
       "      <td>7609.0</td>\n",
       "      <td>1.956630</td>\n",
       "    </tr>\n",
       "    <tr>\n",
       "      <th>134</th>\n",
       "      <td>2018</td>\n",
       "      <td>PA</td>\n",
       "      <td>17180.0</td>\n",
       "      <td>5035.0</td>\n",
       "      <td>3.412115</td>\n",
       "    </tr>\n",
       "    <tr>\n",
       "      <th>135</th>\n",
       "      <td>2018</td>\n",
       "      <td>RI</td>\n",
       "      <td>2667.0</td>\n",
       "      <td>581.0</td>\n",
       "      <td>4.590361</td>\n",
       "    </tr>\n",
       "    <tr>\n",
       "      <th>136</th>\n",
       "      <td>2018</td>\n",
       "      <td>SC</td>\n",
       "      <td>44527.0</td>\n",
       "      <td>11834.0</td>\n",
       "      <td>3.762633</td>\n",
       "    </tr>\n",
       "    <tr>\n",
       "      <th>137</th>\n",
       "      <td>2018</td>\n",
       "      <td>SD</td>\n",
       "      <td>8.0</td>\n",
       "      <td>5.0</td>\n",
       "      <td>1.600000</td>\n",
       "    </tr>\n",
       "    <tr>\n",
       "      <th>138</th>\n",
       "      <td>2018</td>\n",
       "      <td>TN</td>\n",
       "      <td>19075.0</td>\n",
       "      <td>5387.0</td>\n",
       "      <td>3.540932</td>\n",
       "    </tr>\n",
       "    <tr>\n",
       "      <th>139</th>\n",
       "      <td>2018</td>\n",
       "      <td>TX</td>\n",
       "      <td>64379.0</td>\n",
       "      <td>19671.0</td>\n",
       "      <td>3.272787</td>\n",
       "    </tr>\n",
       "    <tr>\n",
       "      <th>140</th>\n",
       "      <td>2018</td>\n",
       "      <td>UT</td>\n",
       "      <td>7858.0</td>\n",
       "      <td>3295.0</td>\n",
       "      <td>2.384825</td>\n",
       "    </tr>\n",
       "    <tr>\n",
       "      <th>141</th>\n",
       "      <td>2018</td>\n",
       "      <td>VA</td>\n",
       "      <td>19967.0</td>\n",
       "      <td>7062.0</td>\n",
       "      <td>2.827386</td>\n",
       "    </tr>\n",
       "    <tr>\n",
       "      <th>142</th>\n",
       "      <td>2018</td>\n",
       "      <td>VT</td>\n",
       "      <td>145.0</td>\n",
       "      <td>43.0</td>\n",
       "      <td>3.372093</td>\n",
       "    </tr>\n",
       "    <tr>\n",
       "      <th>143</th>\n",
       "      <td>2018</td>\n",
       "      <td>WA</td>\n",
       "      <td>13127.0</td>\n",
       "      <td>5790.0</td>\n",
       "      <td>2.267185</td>\n",
       "    </tr>\n",
       "    <tr>\n",
       "      <th>144</th>\n",
       "      <td>2018</td>\n",
       "      <td>WI</td>\n",
       "      <td>3738.0</td>\n",
       "      <td>1293.0</td>\n",
       "      <td>2.890951</td>\n",
       "    </tr>\n",
       "    <tr>\n",
       "      <th>145</th>\n",
       "      <td>2018</td>\n",
       "      <td>WV</td>\n",
       "      <td>471.0</td>\n",
       "      <td>201.0</td>\n",
       "      <td>2.343284</td>\n",
       "    </tr>\n",
       "    <tr>\n",
       "      <th>146</th>\n",
       "      <td>2018</td>\n",
       "      <td>WY</td>\n",
       "      <td>101.0</td>\n",
       "      <td>98.0</td>\n",
       "      <td>1.030612</td>\n",
       "    </tr>\n",
       "  </tbody>\n",
       "</table>\n",
       "</div>"
      ],
      "text/plain": [
       "Sunrise_Sunset Start_Year State       Day    Night  Day/Night\n",
       "0                    2016    AL     112.0     23.0   4.869565\n",
       "1                    2016    AR      25.0      1.0  25.000000\n",
       "2                    2016    AZ    1946.0    824.0   2.361650\n",
       "3                    2016    CA   95343.0  45111.0   2.113520\n",
       "4                    2016    CO     964.0    360.0   2.677778\n",
       "5                    2016    CT    3261.0    940.0   3.469149\n",
       "6                    2016    DC     318.0    135.0   2.355556\n",
       "7                    2016    DE     189.0     90.0   2.100000\n",
       "8                    2016    FL   29021.0   8000.0   3.627625\n",
       "9                    2016    GA    9835.0   3407.0   2.886704\n",
       "10                   2016    IA    1386.0    619.0   2.239095\n",
       "11                   2016    ID     277.0    142.0   1.950704\n",
       "12                   2016    IL   12931.0   4146.0   3.118910\n",
       "13                   2016    IN    1171.0    452.0   2.590708\n",
       "14                   2016    KS     577.0    185.0   3.118919\n",
       "15                   2016    KY     806.0    262.0   3.076336\n",
       "16                   2016    LA     617.0    232.0   2.659483\n",
       "17                   2016    MA    4165.0   1032.0   4.035853\n",
       "18                   2016    MD    5276.0   2258.0   2.336581\n",
       "19                   2016    ME     101.0     34.0   2.970588\n",
       "20                   2016    MI   11482.0   5148.0   2.230381\n",
       "21                   2016    MN    1647.0    920.0   1.790217\n",
       "22                   2016    MO    2865.0    893.0   3.208287\n",
       "23                   2016    MS     331.0     71.0   4.661972\n",
       "24                   2016    MT      48.0     14.0   3.428571\n",
       "25                   2016    NC    5132.0   1015.0   5.056158\n",
       "26                   2016    ND       1.0      2.0   0.500000\n",
       "27                   2016    NE    5196.0    614.0   8.462541\n",
       "28                   2016    NH     222.0     93.0   2.387097\n",
       "29                   2016    NJ    5951.0   1963.0   3.031584\n",
       "30                   2016    NM     123.0     30.0   4.100000\n",
       "31                   2016    NV     975.0    382.0   2.552356\n",
       "32                   2016    NY   14634.0   5382.0   2.719064\n",
       "33                   2016    OH    8806.0   2524.0   3.488906\n",
       "34                   2016    OK     416.0    154.0   2.701299\n",
       "35                   2016    OR     713.0    313.0   2.277955\n",
       "36                   2016    PA   16315.0   4893.0   3.334355\n",
       "37                   2016    RI    1116.0    287.0   3.888502\n",
       "38                   2016    SC    2231.0    784.0   2.845663\n",
       "39                   2016    SD       8.0      NaN        NaN\n",
       "40                   2016    TN    1234.0    454.0   2.718062\n",
       "41                   2016    TX   37531.0  12235.0   3.067511\n",
       "42                   2016    UT     736.0    232.0   3.172414\n",
       "43                   2016    VA    4543.0   1947.0   2.333333\n",
       "44                   2016    VT       9.0      8.0   1.125000\n",
       "45                   2016    WA    5806.0   3511.0   1.653660\n",
       "46                   2016    WI    1132.0    430.0   2.632558\n",
       "47                   2016    WV     308.0    121.0   2.545455\n",
       "48                   2016    WY      47.0     22.0   2.136364\n",
       "49                   2017    AL    2318.0    586.0   3.955631\n",
       "50                   2017    AR     100.0     34.0   2.941176\n",
       "51                   2017    AZ    9028.0   3299.0   2.736587\n",
       "52                   2017    CA  102679.0  49988.0   2.054073\n",
       "53                   2017    CO    5361.0   1730.0   3.098844\n",
       "54                   2017    CT    5041.0   1694.0   2.975797\n",
       "55                   2017    DC     555.0    207.0   2.681159\n",
       "56                   2017    DE     592.0    299.0   1.979933\n",
       "57                   2017    FL   47272.0  13383.0   3.532242\n",
       "58                   2017    GA   16060.0   5999.0   2.677113\n",
       "59                   2017    IA    2240.0    775.0   2.890323\n",
       "60                   2017    ID     269.0     99.0   2.717172\n",
       "61                   2017    IL   19146.0   6142.0   3.117226\n",
       "62                   2017    IN    5033.0   1909.0   2.636459\n",
       "63                   2017    KS    1372.0    362.0   3.790055\n",
       "64                   2017    KY    2344.0    931.0   2.517723\n",
       "65                   2017    LA   10100.0   2132.0   4.737336\n",
       "66                   2017    MA    6962.0   2083.0   3.342295\n",
       "67                   2017    MD    9032.0   3305.0   2.732829\n",
       "68                   2017    ME     454.0    137.0   3.313869\n",
       "69                   2017    MI   19841.0   7583.0   2.616511\n",
       "70                   2017    MN    7170.0   3258.0   2.200737\n",
       "71                   2017    MO    5426.0   1947.0   2.786852\n",
       "72                   2017    MS     848.0    189.0   4.486772\n",
       "73                   2017    MT      96.0     37.0   2.594595\n",
       "74                   2017    NC   26778.0   7313.0   3.661698\n",
       "75                   2017    ND       3.0      1.0   3.000000\n",
       "76                   2017    NE    5137.0   1066.0   4.818949\n",
       "77                   2017    NH    1467.0    564.0   2.601064\n",
       "78                   2017    NJ   10769.0   3302.0   3.261357\n",
       "79                   2017    NM    1002.0    137.0   7.313869\n",
       "80                   2017    NV    1839.0    664.0   2.769578\n",
       "81                   2017    NY   27499.0   9374.0   2.933540\n",
       "82                   2017    OH   10016.0   3637.0   2.753918\n",
       "83                   2017    OK    7672.0   2088.0   3.674330\n",
       "84                   2017    OR    4440.0   1727.0   2.570932\n",
       "85                   2017    PA   20516.0   6355.0   3.228324\n",
       "86                   2017    RI    2248.0    610.0   3.685246\n",
       "87                   2017    SC   21472.0   6859.0   3.130485\n",
       "88                   2017    SD       8.0      4.0   2.000000\n",
       "89                   2017    TN    8607.0   2400.0   3.586250\n",
       "90                   2017    TX   66759.0  18779.0   3.554982\n",
       "91                   2017    UT    3479.0   1172.0   2.968430\n",
       "92                   2017    VA   15482.0   5255.0   2.946147\n",
       "93                   2017    VT     115.0     40.0   2.875000\n",
       "94                   2017    WA   13066.0   5382.0   2.427722\n",
       "95                   2017    WI    3046.0   1055.0   2.887204\n",
       "96                   2017    WV     475.0    225.0   2.111111\n",
       "97                   2017    WY      77.0     35.0   2.200000\n",
       "98                   2018    AL   10791.0   3304.0   3.266041\n",
       "99                   2018    AR     432.0    165.0   2.618182\n",
       "100                  2018    AZ   17288.0   5414.0   3.193203\n",
       "101                  2018    CA  111733.0  45051.0   2.480145\n",
       "102                  2018    CO   10829.0   3292.0   3.289490\n",
       "103                  2018    CT    4933.0   1480.0   3.333108\n",
       "104                  2018    DC     668.0    280.0   2.385714\n",
       "105                  2018    DE    1200.0    443.0   2.708804\n",
       "106                  2018    FL   49339.0  16403.0   3.007925\n",
       "107                  2018    GA   18181.0   6432.0   2.826648\n",
       "108                  2018    IA    1850.0    632.0   2.927215\n",
       "109                  2018    ID     311.0    108.0   2.879630\n",
       "110                  2018    IL   17455.0   6609.0   2.641095\n",
       "111                  2018    IN   10119.0   3583.0   2.824170\n",
       "112                  2018    KS    1886.0    510.0   3.698039\n",
       "113                  2018    KY    5915.0   2033.0   2.909493\n",
       "114                  2018    LA   17333.0   3087.0   5.614836\n",
       "115                  2018    MA    7364.0   2062.0   3.571290\n",
       "116                  2018    MD    7909.0   3095.0   2.555412\n",
       "117                  2018    ME     562.0    141.0   3.985816\n",
       "118                  2018    MI   17093.0   7194.0   2.376008\n",
       "119                  2018    MN   14780.0   5433.0   2.720412\n",
       "120                  2018    MO    6429.0   2326.0   2.763972\n",
       "121                  2018    MS    2243.0    293.0   7.655290\n",
       "122                  2018    MT     124.0     28.0   4.428571\n",
       "123                  2018    NC   46106.0  10130.0   4.551431\n",
       "124                  2018    ND      17.0      2.0   8.500000\n",
       "125                  2018    NE    4619.0   1231.0   3.752234\n",
       "126                  2018    NH    1900.0    601.0   3.161398\n",
       "127                  2018    NJ   11067.0   3885.0   2.848649\n",
       "128                  2018    NM    1828.0    284.0   6.436620\n",
       "129                  2018    NV    1986.0    675.0   2.942222\n",
       "130                  2018    NY   27222.0  10728.0   2.537472\n",
       "131                  2018    OH   12294.0   5354.0   2.296227\n",
       "132                  2018    OK   15953.0   4532.0   3.520079\n",
       "133                  2018    OR   14888.0   7609.0   1.956630\n",
       "134                  2018    PA   17180.0   5035.0   3.412115\n",
       "135                  2018    RI    2667.0    581.0   4.590361\n",
       "136                  2018    SC   44527.0  11834.0   3.762633\n",
       "137                  2018    SD       8.0      5.0   1.600000\n",
       "138                  2018    TN   19075.0   5387.0   3.540932\n",
       "139                  2018    TX   64379.0  19671.0   3.272787\n",
       "140                  2018    UT    7858.0   3295.0   2.384825\n",
       "141                  2018    VA   19967.0   7062.0   2.827386\n",
       "142                  2018    VT     145.0     43.0   3.372093\n",
       "143                  2018    WA   13127.0   5790.0   2.267185\n",
       "144                  2018    WI    3738.0   1293.0   2.890951\n",
       "145                  2018    WV     471.0    201.0   2.343284\n",
       "146                  2018    WY     101.0     98.0   1.030612"
      ]
     },
     "execution_count": 32,
     "metadata": {},
     "output_type": "execute_result"
    }
   ],
   "source": [
    "# Create DataFrame to hold the data for chart Day/Night per US state\n",
    "df_dn = pd.DataFrame(df_weather.groupby(['Sunrise_Sunset','Start_Year', 'State'])['ID'].count().reset_index())\n",
    "df_dn = df_dn.pivot_table(index=('Start_Year','State'), columns = 'Sunrise_Sunset', values = 'ID').reset_index()\n",
    "df_dn['Day/Night'] = df_dn['Day'] / df_dn['Night']\n",
    "df_dn"
   ]
  },
  {
   "cell_type": "code",
   "execution_count": 33,
   "metadata": {},
   "outputs": [],
   "source": [
    "df_dn['Text'] = 'Year ' + df_dn['Start_Year'].astype(str) + '<br>' +\\\n",
    "'Accidents during the day: ' + df_dn['Day'].astype(str) + \"<br>\" +\\\n",
    "'Accidents during the night: ' + df_dn['Night'].astype(str) + '<br>' +\\\n",
    "'State: ' + df_dn['State']\n",
    "\n"
   ]
  },
  {
   "cell_type": "code",
   "execution_count": 42,
   "metadata": {},
   "outputs": [
    {
     "data": {
      "application/vnd.plotly.v1+json": {
       "config": {
        "plotlyServerURL": "https://plot.ly"
       },
       "data": [
        {
         "colorbar": {
          "title": {
           "text": "Number of Acidents Day vs. Night"
          }
         },
         "colorscale": [
          [
           0,
           "rgb(247,251,255)"
          ],
          [
           0.125,
           "rgb(222,235,247)"
          ],
          [
           0.25,
           "rgb(198,219,239)"
          ],
          [
           0.375,
           "rgb(158,202,225)"
          ],
          [
           0.5,
           "rgb(107,174,214)"
          ],
          [
           0.625,
           "rgb(66,146,198)"
          ],
          [
           0.75,
           "rgb(33,113,181)"
          ],
          [
           0.875,
           "rgb(8,81,156)"
          ],
          [
           1,
           "rgb(8,48,107)"
          ]
         ],
         "locationmode": "USA-states",
         "locations": [
          "AL",
          "AR",
          "AZ",
          "CA",
          "CO",
          "CT",
          "DC",
          "DE",
          "FL",
          "GA",
          "IA",
          "ID",
          "IL",
          "IN",
          "KS",
          "KY",
          "LA",
          "MA",
          "MD",
          "ME",
          "MI",
          "MN",
          "MO",
          "MS",
          "MT",
          "NC",
          "ND",
          "NE",
          "NH",
          "NJ",
          "NM",
          "NV",
          "NY",
          "OH",
          "OK",
          "OR",
          "PA",
          "RI",
          "SC",
          "SD",
          "TN",
          "TX",
          "UT",
          "VA",
          "VT",
          "WA",
          "WI",
          "WV",
          "WY"
         ],
         "text": [
          "Year 2018<br>Accidents during the day: 10791.0<br>Accidents during the night: 3304.0<br>State: AL",
          "Year 2018<br>Accidents during the day: 432.0<br>Accidents during the night: 165.0<br>State: AR",
          "Year 2018<br>Accidents during the day: 17288.0<br>Accidents during the night: 5414.0<br>State: AZ",
          "Year 2018<br>Accidents during the day: 111733.0<br>Accidents during the night: 45051.0<br>State: CA",
          "Year 2018<br>Accidents during the day: 10829.0<br>Accidents during the night: 3292.0<br>State: CO",
          "Year 2018<br>Accidents during the day: 4933.0<br>Accidents during the night: 1480.0<br>State: CT",
          "Year 2018<br>Accidents during the day: 668.0<br>Accidents during the night: 280.0<br>State: DC",
          "Year 2018<br>Accidents during the day: 1200.0<br>Accidents during the night: 443.0<br>State: DE",
          "Year 2018<br>Accidents during the day: 49339.0<br>Accidents during the night: 16403.0<br>State: FL",
          "Year 2018<br>Accidents during the day: 18181.0<br>Accidents during the night: 6432.0<br>State: GA",
          "Year 2018<br>Accidents during the day: 1850.0<br>Accidents during the night: 632.0<br>State: IA",
          "Year 2018<br>Accidents during the day: 311.0<br>Accidents during the night: 108.0<br>State: ID",
          "Year 2018<br>Accidents during the day: 17455.0<br>Accidents during the night: 6609.0<br>State: IL",
          "Year 2018<br>Accidents during the day: 10119.0<br>Accidents during the night: 3583.0<br>State: IN",
          "Year 2018<br>Accidents during the day: 1886.0<br>Accidents during the night: 510.0<br>State: KS",
          "Year 2018<br>Accidents during the day: 5915.0<br>Accidents during the night: 2033.0<br>State: KY",
          "Year 2018<br>Accidents during the day: 17333.0<br>Accidents during the night: 3087.0<br>State: LA",
          "Year 2018<br>Accidents during the day: 7364.0<br>Accidents during the night: 2062.0<br>State: MA",
          "Year 2018<br>Accidents during the day: 7909.0<br>Accidents during the night: 3095.0<br>State: MD",
          "Year 2018<br>Accidents during the day: 562.0<br>Accidents during the night: 141.0<br>State: ME",
          "Year 2018<br>Accidents during the day: 17093.0<br>Accidents during the night: 7194.0<br>State: MI",
          "Year 2018<br>Accidents during the day: 14780.0<br>Accidents during the night: 5433.0<br>State: MN",
          "Year 2018<br>Accidents during the day: 6429.0<br>Accidents during the night: 2326.0<br>State: MO",
          "Year 2018<br>Accidents during the day: 2243.0<br>Accidents during the night: 293.0<br>State: MS",
          "Year 2018<br>Accidents during the day: 124.0<br>Accidents during the night: 28.0<br>State: MT",
          "Year 2018<br>Accidents during the day: 46106.0<br>Accidents during the night: 10130.0<br>State: NC",
          "Year 2018<br>Accidents during the day: 17.0<br>Accidents during the night: 2.0<br>State: ND",
          "Year 2018<br>Accidents during the day: 4619.0<br>Accidents during the night: 1231.0<br>State: NE",
          "Year 2018<br>Accidents during the day: 1900.0<br>Accidents during the night: 601.0<br>State: NH",
          "Year 2018<br>Accidents during the day: 11067.0<br>Accidents during the night: 3885.0<br>State: NJ",
          "Year 2018<br>Accidents during the day: 1828.0<br>Accidents during the night: 284.0<br>State: NM",
          "Year 2018<br>Accidents during the day: 1986.0<br>Accidents during the night: 675.0<br>State: NV",
          "Year 2018<br>Accidents during the day: 27222.0<br>Accidents during the night: 10728.0<br>State: NY",
          "Year 2018<br>Accidents during the day: 12294.0<br>Accidents during the night: 5354.0<br>State: OH",
          "Year 2018<br>Accidents during the day: 15953.0<br>Accidents during the night: 4532.0<br>State: OK",
          "Year 2018<br>Accidents during the day: 14888.0<br>Accidents during the night: 7609.0<br>State: OR",
          "Year 2018<br>Accidents during the day: 17180.0<br>Accidents during the night: 5035.0<br>State: PA",
          "Year 2018<br>Accidents during the day: 2667.0<br>Accidents during the night: 581.0<br>State: RI",
          "Year 2018<br>Accidents during the day: 44527.0<br>Accidents during the night: 11834.0<br>State: SC",
          "Year 2018<br>Accidents during the day: 8.0<br>Accidents during the night: 5.0<br>State: SD",
          "Year 2018<br>Accidents during the day: 19075.0<br>Accidents during the night: 5387.0<br>State: TN",
          "Year 2018<br>Accidents during the day: 64379.0<br>Accidents during the night: 19671.0<br>State: TX",
          "Year 2018<br>Accidents during the day: 7858.0<br>Accidents during the night: 3295.0<br>State: UT",
          "Year 2018<br>Accidents during the day: 19967.0<br>Accidents during the night: 7062.0<br>State: VA",
          "Year 2018<br>Accidents during the day: 145.0<br>Accidents during the night: 43.0<br>State: VT",
          "Year 2018<br>Accidents during the day: 13127.0<br>Accidents during the night: 5790.0<br>State: WA",
          "Year 2018<br>Accidents during the day: 3738.0<br>Accidents during the night: 1293.0<br>State: WI",
          "Year 2018<br>Accidents during the day: 471.0<br>Accidents during the night: 201.0<br>State: WV",
          "Year 2018<br>Accidents during the day: 101.0<br>Accidents during the night: 98.0<br>State: WY"
         ],
         "type": "choropleth",
         "z": [
          3.266041162227603,
          2.618181818181818,
          3.193202807536018,
          2.4801447248673725,
          3.2894896719319564,
          3.333108108108108,
          2.3857142857142857,
          2.708803611738149,
          3.0079253795037495,
          2.8266480099502487,
          2.9272151898734178,
          2.8796296296296298,
          2.641095475866243,
          2.82416969020374,
          3.6980392156862747,
          2.909493359567142,
          5.614836410754778,
          3.571290009699321,
          2.5554119547657512,
          3.9858156028368796,
          2.376007784264665,
          2.7204122952328365,
          2.7639724849527085,
          7.6552901023890785,
          4.428571428571429,
          4.551431391905232,
          8.5,
          3.752233956133225,
          3.1613976705490847,
          2.848648648648649,
          6.436619718309859,
          2.942222222222222,
          2.5374720357941833,
          2.2962271199103474,
          3.520079435127979,
          1.9566303062163228,
          3.4121151936444885,
          4.590361445783133,
          3.7626330910934596,
          1.6,
          3.540931873027659,
          3.272787351939403,
          2.384825493171472,
          2.8273860096290004,
          3.372093023255814,
          2.2671848013816924,
          2.890951276102088,
          2.343283582089552,
          1.030612244897959
         ]
        }
       ],
       "layout": {
        "geo": {
         "scope": "usa"
        },
        "template": {
         "data": {
          "bar": [
           {
            "error_x": {
             "color": "#2a3f5f"
            },
            "error_y": {
             "color": "#2a3f5f"
            },
            "marker": {
             "line": {
              "color": "#E5ECF6",
              "width": 0.5
             }
            },
            "type": "bar"
           }
          ],
          "barpolar": [
           {
            "marker": {
             "line": {
              "color": "#E5ECF6",
              "width": 0.5
             }
            },
            "type": "barpolar"
           }
          ],
          "carpet": [
           {
            "aaxis": {
             "endlinecolor": "#2a3f5f",
             "gridcolor": "white",
             "linecolor": "white",
             "minorgridcolor": "white",
             "startlinecolor": "#2a3f5f"
            },
            "baxis": {
             "endlinecolor": "#2a3f5f",
             "gridcolor": "white",
             "linecolor": "white",
             "minorgridcolor": "white",
             "startlinecolor": "#2a3f5f"
            },
            "type": "carpet"
           }
          ],
          "choropleth": [
           {
            "colorbar": {
             "outlinewidth": 0,
             "ticks": ""
            },
            "type": "choropleth"
           }
          ],
          "contour": [
           {
            "colorbar": {
             "outlinewidth": 0,
             "ticks": ""
            },
            "colorscale": [
             [
              0,
              "#0d0887"
             ],
             [
              0.1111111111111111,
              "#46039f"
             ],
             [
              0.2222222222222222,
              "#7201a8"
             ],
             [
              0.3333333333333333,
              "#9c179e"
             ],
             [
              0.4444444444444444,
              "#bd3786"
             ],
             [
              0.5555555555555556,
              "#d8576b"
             ],
             [
              0.6666666666666666,
              "#ed7953"
             ],
             [
              0.7777777777777778,
              "#fb9f3a"
             ],
             [
              0.8888888888888888,
              "#fdca26"
             ],
             [
              1,
              "#f0f921"
             ]
            ],
            "type": "contour"
           }
          ],
          "contourcarpet": [
           {
            "colorbar": {
             "outlinewidth": 0,
             "ticks": ""
            },
            "type": "contourcarpet"
           }
          ],
          "heatmap": [
           {
            "colorbar": {
             "outlinewidth": 0,
             "ticks": ""
            },
            "colorscale": [
             [
              0,
              "#0d0887"
             ],
             [
              0.1111111111111111,
              "#46039f"
             ],
             [
              0.2222222222222222,
              "#7201a8"
             ],
             [
              0.3333333333333333,
              "#9c179e"
             ],
             [
              0.4444444444444444,
              "#bd3786"
             ],
             [
              0.5555555555555556,
              "#d8576b"
             ],
             [
              0.6666666666666666,
              "#ed7953"
             ],
             [
              0.7777777777777778,
              "#fb9f3a"
             ],
             [
              0.8888888888888888,
              "#fdca26"
             ],
             [
              1,
              "#f0f921"
             ]
            ],
            "type": "heatmap"
           }
          ],
          "heatmapgl": [
           {
            "colorbar": {
             "outlinewidth": 0,
             "ticks": ""
            },
            "colorscale": [
             [
              0,
              "#0d0887"
             ],
             [
              0.1111111111111111,
              "#46039f"
             ],
             [
              0.2222222222222222,
              "#7201a8"
             ],
             [
              0.3333333333333333,
              "#9c179e"
             ],
             [
              0.4444444444444444,
              "#bd3786"
             ],
             [
              0.5555555555555556,
              "#d8576b"
             ],
             [
              0.6666666666666666,
              "#ed7953"
             ],
             [
              0.7777777777777778,
              "#fb9f3a"
             ],
             [
              0.8888888888888888,
              "#fdca26"
             ],
             [
              1,
              "#f0f921"
             ]
            ],
            "type": "heatmapgl"
           }
          ],
          "histogram": [
           {
            "marker": {
             "colorbar": {
              "outlinewidth": 0,
              "ticks": ""
             }
            },
            "type": "histogram"
           }
          ],
          "histogram2d": [
           {
            "colorbar": {
             "outlinewidth": 0,
             "ticks": ""
            },
            "colorscale": [
             [
              0,
              "#0d0887"
             ],
             [
              0.1111111111111111,
              "#46039f"
             ],
             [
              0.2222222222222222,
              "#7201a8"
             ],
             [
              0.3333333333333333,
              "#9c179e"
             ],
             [
              0.4444444444444444,
              "#bd3786"
             ],
             [
              0.5555555555555556,
              "#d8576b"
             ],
             [
              0.6666666666666666,
              "#ed7953"
             ],
             [
              0.7777777777777778,
              "#fb9f3a"
             ],
             [
              0.8888888888888888,
              "#fdca26"
             ],
             [
              1,
              "#f0f921"
             ]
            ],
            "type": "histogram2d"
           }
          ],
          "histogram2dcontour": [
           {
            "colorbar": {
             "outlinewidth": 0,
             "ticks": ""
            },
            "colorscale": [
             [
              0,
              "#0d0887"
             ],
             [
              0.1111111111111111,
              "#46039f"
             ],
             [
              0.2222222222222222,
              "#7201a8"
             ],
             [
              0.3333333333333333,
              "#9c179e"
             ],
             [
              0.4444444444444444,
              "#bd3786"
             ],
             [
              0.5555555555555556,
              "#d8576b"
             ],
             [
              0.6666666666666666,
              "#ed7953"
             ],
             [
              0.7777777777777778,
              "#fb9f3a"
             ],
             [
              0.8888888888888888,
              "#fdca26"
             ],
             [
              1,
              "#f0f921"
             ]
            ],
            "type": "histogram2dcontour"
           }
          ],
          "mesh3d": [
           {
            "colorbar": {
             "outlinewidth": 0,
             "ticks": ""
            },
            "type": "mesh3d"
           }
          ],
          "parcoords": [
           {
            "line": {
             "colorbar": {
              "outlinewidth": 0,
              "ticks": ""
             }
            },
            "type": "parcoords"
           }
          ],
          "pie": [
           {
            "automargin": true,
            "type": "pie"
           }
          ],
          "scatter": [
           {
            "marker": {
             "colorbar": {
              "outlinewidth": 0,
              "ticks": ""
             }
            },
            "type": "scatter"
           }
          ],
          "scatter3d": [
           {
            "line": {
             "colorbar": {
              "outlinewidth": 0,
              "ticks": ""
             }
            },
            "marker": {
             "colorbar": {
              "outlinewidth": 0,
              "ticks": ""
             }
            },
            "type": "scatter3d"
           }
          ],
          "scattercarpet": [
           {
            "marker": {
             "colorbar": {
              "outlinewidth": 0,
              "ticks": ""
             }
            },
            "type": "scattercarpet"
           }
          ],
          "scattergeo": [
           {
            "marker": {
             "colorbar": {
              "outlinewidth": 0,
              "ticks": ""
             }
            },
            "type": "scattergeo"
           }
          ],
          "scattergl": [
           {
            "marker": {
             "colorbar": {
              "outlinewidth": 0,
              "ticks": ""
             }
            },
            "type": "scattergl"
           }
          ],
          "scattermapbox": [
           {
            "marker": {
             "colorbar": {
              "outlinewidth": 0,
              "ticks": ""
             }
            },
            "type": "scattermapbox"
           }
          ],
          "scatterpolar": [
           {
            "marker": {
             "colorbar": {
              "outlinewidth": 0,
              "ticks": ""
             }
            },
            "type": "scatterpolar"
           }
          ],
          "scatterpolargl": [
           {
            "marker": {
             "colorbar": {
              "outlinewidth": 0,
              "ticks": ""
             }
            },
            "type": "scatterpolargl"
           }
          ],
          "scatterternary": [
           {
            "marker": {
             "colorbar": {
              "outlinewidth": 0,
              "ticks": ""
             }
            },
            "type": "scatterternary"
           }
          ],
          "surface": [
           {
            "colorbar": {
             "outlinewidth": 0,
             "ticks": ""
            },
            "colorscale": [
             [
              0,
              "#0d0887"
             ],
             [
              0.1111111111111111,
              "#46039f"
             ],
             [
              0.2222222222222222,
              "#7201a8"
             ],
             [
              0.3333333333333333,
              "#9c179e"
             ],
             [
              0.4444444444444444,
              "#bd3786"
             ],
             [
              0.5555555555555556,
              "#d8576b"
             ],
             [
              0.6666666666666666,
              "#ed7953"
             ],
             [
              0.7777777777777778,
              "#fb9f3a"
             ],
             [
              0.8888888888888888,
              "#fdca26"
             ],
             [
              1,
              "#f0f921"
             ]
            ],
            "type": "surface"
           }
          ],
          "table": [
           {
            "cells": {
             "fill": {
              "color": "#EBF0F8"
             },
             "line": {
              "color": "white"
             }
            },
            "header": {
             "fill": {
              "color": "#C8D4E3"
             },
             "line": {
              "color": "white"
             }
            },
            "type": "table"
           }
          ]
         },
         "layout": {
          "annotationdefaults": {
           "arrowcolor": "#2a3f5f",
           "arrowhead": 0,
           "arrowwidth": 1
          },
          "coloraxis": {
           "colorbar": {
            "outlinewidth": 0,
            "ticks": ""
           }
          },
          "colorscale": {
           "diverging": [
            [
             0,
             "#8e0152"
            ],
            [
             0.1,
             "#c51b7d"
            ],
            [
             0.2,
             "#de77ae"
            ],
            [
             0.3,
             "#f1b6da"
            ],
            [
             0.4,
             "#fde0ef"
            ],
            [
             0.5,
             "#f7f7f7"
            ],
            [
             0.6,
             "#e6f5d0"
            ],
            [
             0.7,
             "#b8e186"
            ],
            [
             0.8,
             "#7fbc41"
            ],
            [
             0.9,
             "#4d9221"
            ],
            [
             1,
             "#276419"
            ]
           ],
           "sequential": [
            [
             0,
             "#0d0887"
            ],
            [
             0.1111111111111111,
             "#46039f"
            ],
            [
             0.2222222222222222,
             "#7201a8"
            ],
            [
             0.3333333333333333,
             "#9c179e"
            ],
            [
             0.4444444444444444,
             "#bd3786"
            ],
            [
             0.5555555555555556,
             "#d8576b"
            ],
            [
             0.6666666666666666,
             "#ed7953"
            ],
            [
             0.7777777777777778,
             "#fb9f3a"
            ],
            [
             0.8888888888888888,
             "#fdca26"
            ],
            [
             1,
             "#f0f921"
            ]
           ],
           "sequentialminus": [
            [
             0,
             "#0d0887"
            ],
            [
             0.1111111111111111,
             "#46039f"
            ],
            [
             0.2222222222222222,
             "#7201a8"
            ],
            [
             0.3333333333333333,
             "#9c179e"
            ],
            [
             0.4444444444444444,
             "#bd3786"
            ],
            [
             0.5555555555555556,
             "#d8576b"
            ],
            [
             0.6666666666666666,
             "#ed7953"
            ],
            [
             0.7777777777777778,
             "#fb9f3a"
            ],
            [
             0.8888888888888888,
             "#fdca26"
            ],
            [
             1,
             "#f0f921"
            ]
           ]
          },
          "colorway": [
           "#636efa",
           "#EF553B",
           "#00cc96",
           "#ab63fa",
           "#FFA15A",
           "#19d3f3",
           "#FF6692",
           "#B6E880",
           "#FF97FF",
           "#FECB52"
          ],
          "font": {
           "color": "#2a3f5f"
          },
          "geo": {
           "bgcolor": "white",
           "lakecolor": "white",
           "landcolor": "#E5ECF6",
           "showlakes": true,
           "showland": true,
           "subunitcolor": "white"
          },
          "hoverlabel": {
           "align": "left"
          },
          "hovermode": "closest",
          "mapbox": {
           "style": "light"
          },
          "paper_bgcolor": "white",
          "plot_bgcolor": "#E5ECF6",
          "polar": {
           "angularaxis": {
            "gridcolor": "white",
            "linecolor": "white",
            "ticks": ""
           },
           "bgcolor": "#E5ECF6",
           "radialaxis": {
            "gridcolor": "white",
            "linecolor": "white",
            "ticks": ""
           }
          },
          "scene": {
           "xaxis": {
            "backgroundcolor": "#E5ECF6",
            "gridcolor": "white",
            "gridwidth": 2,
            "linecolor": "white",
            "showbackground": true,
            "ticks": "",
            "zerolinecolor": "white"
           },
           "yaxis": {
            "backgroundcolor": "#E5ECF6",
            "gridcolor": "white",
            "gridwidth": 2,
            "linecolor": "white",
            "showbackground": true,
            "ticks": "",
            "zerolinecolor": "white"
           },
           "zaxis": {
            "backgroundcolor": "#E5ECF6",
            "gridcolor": "white",
            "gridwidth": 2,
            "linecolor": "white",
            "showbackground": true,
            "ticks": "",
            "zerolinecolor": "white"
           }
          },
          "shapedefaults": {
           "line": {
            "color": "#2a3f5f"
           }
          },
          "ternary": {
           "aaxis": {
            "gridcolor": "white",
            "linecolor": "white",
            "ticks": ""
           },
           "baxis": {
            "gridcolor": "white",
            "linecolor": "white",
            "ticks": ""
           },
           "bgcolor": "#E5ECF6",
           "caxis": {
            "gridcolor": "white",
            "linecolor": "white",
            "ticks": ""
           }
          },
          "title": {
           "x": 0.05
          },
          "xaxis": {
           "automargin": true,
           "gridcolor": "white",
           "linecolor": "white",
           "ticks": "",
           "title": {
            "standoff": 15
           },
           "zerolinecolor": "white",
           "zerolinewidth": 2
          },
          "yaxis": {
           "automargin": true,
           "gridcolor": "white",
           "linecolor": "white",
           "ticks": "",
           "title": {
            "standoff": 15
           },
           "zerolinecolor": "white",
           "zerolinewidth": 2
          }
         }
        },
        "title": {
         "text": "Number of Acidents During the Day vs During the Night in 2018"
        }
       }
      },
      "text/html": [
       "<div>\n",
       "        \n",
       "        \n",
       "            <div id=\"db834f42-58b9-4164-b1d8-9ddd362af07f\" class=\"plotly-graph-div\" style=\"height:525px; width:100%;\"></div>\n",
       "            <script type=\"text/javascript\">\n",
       "                require([\"plotly\"], function(Plotly) {\n",
       "                    window.PLOTLYENV=window.PLOTLYENV || {};\n",
       "                    \n",
       "                if (document.getElementById(\"db834f42-58b9-4164-b1d8-9ddd362af07f\")) {\n",
       "                    Plotly.newPlot(\n",
       "                        'db834f42-58b9-4164-b1d8-9ddd362af07f',\n",
       "                        [{\"colorbar\": {\"title\": {\"text\": \"Number of Acidents Day vs. Night\"}}, \"colorscale\": [[0.0, \"rgb(247,251,255)\"], [0.125, \"rgb(222,235,247)\"], [0.25, \"rgb(198,219,239)\"], [0.375, \"rgb(158,202,225)\"], [0.5, \"rgb(107,174,214)\"], [0.625, \"rgb(66,146,198)\"], [0.75, \"rgb(33,113,181)\"], [0.875, \"rgb(8,81,156)\"], [1.0, \"rgb(8,48,107)\"]], \"locationmode\": \"USA-states\", \"locations\": [\"AL\", \"AR\", \"AZ\", \"CA\", \"CO\", \"CT\", \"DC\", \"DE\", \"FL\", \"GA\", \"IA\", \"ID\", \"IL\", \"IN\", \"KS\", \"KY\", \"LA\", \"MA\", \"MD\", \"ME\", \"MI\", \"MN\", \"MO\", \"MS\", \"MT\", \"NC\", \"ND\", \"NE\", \"NH\", \"NJ\", \"NM\", \"NV\", \"NY\", \"OH\", \"OK\", \"OR\", \"PA\", \"RI\", \"SC\", \"SD\", \"TN\", \"TX\", \"UT\", \"VA\", \"VT\", \"WA\", \"WI\", \"WV\", \"WY\"], \"text\": [\"Year 2018<br>Accidents during the day: 10791.0<br>Accidents during the night: 3304.0<br>State: AL\", \"Year 2018<br>Accidents during the day: 432.0<br>Accidents during the night: 165.0<br>State: AR\", \"Year 2018<br>Accidents during the day: 17288.0<br>Accidents during the night: 5414.0<br>State: AZ\", \"Year 2018<br>Accidents during the day: 111733.0<br>Accidents during the night: 45051.0<br>State: CA\", \"Year 2018<br>Accidents during the day: 10829.0<br>Accidents during the night: 3292.0<br>State: CO\", \"Year 2018<br>Accidents during the day: 4933.0<br>Accidents during the night: 1480.0<br>State: CT\", \"Year 2018<br>Accidents during the day: 668.0<br>Accidents during the night: 280.0<br>State: DC\", \"Year 2018<br>Accidents during the day: 1200.0<br>Accidents during the night: 443.0<br>State: DE\", \"Year 2018<br>Accidents during the day: 49339.0<br>Accidents during the night: 16403.0<br>State: FL\", \"Year 2018<br>Accidents during the day: 18181.0<br>Accidents during the night: 6432.0<br>State: GA\", \"Year 2018<br>Accidents during the day: 1850.0<br>Accidents during the night: 632.0<br>State: IA\", \"Year 2018<br>Accidents during the day: 311.0<br>Accidents during the night: 108.0<br>State: ID\", \"Year 2018<br>Accidents during the day: 17455.0<br>Accidents during the night: 6609.0<br>State: IL\", \"Year 2018<br>Accidents during the day: 10119.0<br>Accidents during the night: 3583.0<br>State: IN\", \"Year 2018<br>Accidents during the day: 1886.0<br>Accidents during the night: 510.0<br>State: KS\", \"Year 2018<br>Accidents during the day: 5915.0<br>Accidents during the night: 2033.0<br>State: KY\", \"Year 2018<br>Accidents during the day: 17333.0<br>Accidents during the night: 3087.0<br>State: LA\", \"Year 2018<br>Accidents during the day: 7364.0<br>Accidents during the night: 2062.0<br>State: MA\", \"Year 2018<br>Accidents during the day: 7909.0<br>Accidents during the night: 3095.0<br>State: MD\", \"Year 2018<br>Accidents during the day: 562.0<br>Accidents during the night: 141.0<br>State: ME\", \"Year 2018<br>Accidents during the day: 17093.0<br>Accidents during the night: 7194.0<br>State: MI\", \"Year 2018<br>Accidents during the day: 14780.0<br>Accidents during the night: 5433.0<br>State: MN\", \"Year 2018<br>Accidents during the day: 6429.0<br>Accidents during the night: 2326.0<br>State: MO\", \"Year 2018<br>Accidents during the day: 2243.0<br>Accidents during the night: 293.0<br>State: MS\", \"Year 2018<br>Accidents during the day: 124.0<br>Accidents during the night: 28.0<br>State: MT\", \"Year 2018<br>Accidents during the day: 46106.0<br>Accidents during the night: 10130.0<br>State: NC\", \"Year 2018<br>Accidents during the day: 17.0<br>Accidents during the night: 2.0<br>State: ND\", \"Year 2018<br>Accidents during the day: 4619.0<br>Accidents during the night: 1231.0<br>State: NE\", \"Year 2018<br>Accidents during the day: 1900.0<br>Accidents during the night: 601.0<br>State: NH\", \"Year 2018<br>Accidents during the day: 11067.0<br>Accidents during the night: 3885.0<br>State: NJ\", \"Year 2018<br>Accidents during the day: 1828.0<br>Accidents during the night: 284.0<br>State: NM\", \"Year 2018<br>Accidents during the day: 1986.0<br>Accidents during the night: 675.0<br>State: NV\", \"Year 2018<br>Accidents during the day: 27222.0<br>Accidents during the night: 10728.0<br>State: NY\", \"Year 2018<br>Accidents during the day: 12294.0<br>Accidents during the night: 5354.0<br>State: OH\", \"Year 2018<br>Accidents during the day: 15953.0<br>Accidents during the night: 4532.0<br>State: OK\", \"Year 2018<br>Accidents during the day: 14888.0<br>Accidents during the night: 7609.0<br>State: OR\", \"Year 2018<br>Accidents during the day: 17180.0<br>Accidents during the night: 5035.0<br>State: PA\", \"Year 2018<br>Accidents during the day: 2667.0<br>Accidents during the night: 581.0<br>State: RI\", \"Year 2018<br>Accidents during the day: 44527.0<br>Accidents during the night: 11834.0<br>State: SC\", \"Year 2018<br>Accidents during the day: 8.0<br>Accidents during the night: 5.0<br>State: SD\", \"Year 2018<br>Accidents during the day: 19075.0<br>Accidents during the night: 5387.0<br>State: TN\", \"Year 2018<br>Accidents during the day: 64379.0<br>Accidents during the night: 19671.0<br>State: TX\", \"Year 2018<br>Accidents during the day: 7858.0<br>Accidents during the night: 3295.0<br>State: UT\", \"Year 2018<br>Accidents during the day: 19967.0<br>Accidents during the night: 7062.0<br>State: VA\", \"Year 2018<br>Accidents during the day: 145.0<br>Accidents during the night: 43.0<br>State: VT\", \"Year 2018<br>Accidents during the day: 13127.0<br>Accidents during the night: 5790.0<br>State: WA\", \"Year 2018<br>Accidents during the day: 3738.0<br>Accidents during the night: 1293.0<br>State: WI\", \"Year 2018<br>Accidents during the day: 471.0<br>Accidents during the night: 201.0<br>State: WV\", \"Year 2018<br>Accidents during the day: 101.0<br>Accidents during the night: 98.0<br>State: WY\"], \"type\": \"choropleth\", \"z\": [3.266041162227603, 2.618181818181818, 3.193202807536018, 2.4801447248673725, 3.2894896719319564, 3.333108108108108, 2.3857142857142857, 2.708803611738149, 3.0079253795037495, 2.8266480099502487, 2.9272151898734178, 2.8796296296296298, 2.641095475866243, 2.82416969020374, 3.6980392156862747, 2.909493359567142, 5.614836410754778, 3.571290009699321, 2.5554119547657512, 3.9858156028368796, 2.376007784264665, 2.7204122952328365, 2.7639724849527085, 7.6552901023890785, 4.428571428571429, 4.551431391905232, 8.5, 3.752233956133225, 3.1613976705490847, 2.848648648648649, 6.436619718309859, 2.942222222222222, 2.5374720357941833, 2.2962271199103474, 3.520079435127979, 1.9566303062163228, 3.4121151936444885, 4.590361445783133, 3.7626330910934596, 1.6, 3.540931873027659, 3.272787351939403, 2.384825493171472, 2.8273860096290004, 3.372093023255814, 2.2671848013816924, 2.890951276102088, 2.343283582089552, 1.030612244897959]}],\n",
       "                        {\"geo\": {\"scope\": \"usa\"}, \"template\": {\"data\": {\"bar\": [{\"error_x\": {\"color\": \"#2a3f5f\"}, \"error_y\": {\"color\": \"#2a3f5f\"}, \"marker\": {\"line\": {\"color\": \"#E5ECF6\", \"width\": 0.5}}, \"type\": \"bar\"}], \"barpolar\": [{\"marker\": {\"line\": {\"color\": \"#E5ECF6\", \"width\": 0.5}}, \"type\": \"barpolar\"}], \"carpet\": [{\"aaxis\": {\"endlinecolor\": \"#2a3f5f\", \"gridcolor\": \"white\", \"linecolor\": \"white\", \"minorgridcolor\": \"white\", \"startlinecolor\": \"#2a3f5f\"}, \"baxis\": {\"endlinecolor\": \"#2a3f5f\", \"gridcolor\": \"white\", \"linecolor\": \"white\", \"minorgridcolor\": \"white\", \"startlinecolor\": \"#2a3f5f\"}, \"type\": \"carpet\"}], \"choropleth\": [{\"colorbar\": {\"outlinewidth\": 0, \"ticks\": \"\"}, \"type\": \"choropleth\"}], \"contour\": [{\"colorbar\": {\"outlinewidth\": 0, \"ticks\": \"\"}, \"colorscale\": [[0.0, \"#0d0887\"], [0.1111111111111111, \"#46039f\"], [0.2222222222222222, \"#7201a8\"], [0.3333333333333333, \"#9c179e\"], [0.4444444444444444, \"#bd3786\"], [0.5555555555555556, \"#d8576b\"], [0.6666666666666666, \"#ed7953\"], [0.7777777777777778, \"#fb9f3a\"], [0.8888888888888888, \"#fdca26\"], [1.0, \"#f0f921\"]], \"type\": \"contour\"}], \"contourcarpet\": [{\"colorbar\": {\"outlinewidth\": 0, \"ticks\": \"\"}, \"type\": \"contourcarpet\"}], \"heatmap\": [{\"colorbar\": {\"outlinewidth\": 0, \"ticks\": \"\"}, \"colorscale\": [[0.0, \"#0d0887\"], [0.1111111111111111, \"#46039f\"], [0.2222222222222222, \"#7201a8\"], [0.3333333333333333, \"#9c179e\"], [0.4444444444444444, \"#bd3786\"], [0.5555555555555556, \"#d8576b\"], [0.6666666666666666, \"#ed7953\"], [0.7777777777777778, \"#fb9f3a\"], [0.8888888888888888, \"#fdca26\"], [1.0, \"#f0f921\"]], \"type\": \"heatmap\"}], \"heatmapgl\": [{\"colorbar\": {\"outlinewidth\": 0, \"ticks\": \"\"}, \"colorscale\": [[0.0, \"#0d0887\"], [0.1111111111111111, \"#46039f\"], [0.2222222222222222, \"#7201a8\"], [0.3333333333333333, \"#9c179e\"], [0.4444444444444444, \"#bd3786\"], [0.5555555555555556, \"#d8576b\"], [0.6666666666666666, \"#ed7953\"], [0.7777777777777778, \"#fb9f3a\"], [0.8888888888888888, \"#fdca26\"], [1.0, \"#f0f921\"]], \"type\": \"heatmapgl\"}], \"histogram\": [{\"marker\": {\"colorbar\": {\"outlinewidth\": 0, \"ticks\": \"\"}}, \"type\": \"histogram\"}], \"histogram2d\": [{\"colorbar\": {\"outlinewidth\": 0, \"ticks\": \"\"}, \"colorscale\": [[0.0, \"#0d0887\"], [0.1111111111111111, \"#46039f\"], [0.2222222222222222, \"#7201a8\"], [0.3333333333333333, \"#9c179e\"], [0.4444444444444444, \"#bd3786\"], [0.5555555555555556, \"#d8576b\"], [0.6666666666666666, \"#ed7953\"], [0.7777777777777778, \"#fb9f3a\"], [0.8888888888888888, \"#fdca26\"], [1.0, \"#f0f921\"]], \"type\": \"histogram2d\"}], \"histogram2dcontour\": [{\"colorbar\": {\"outlinewidth\": 0, \"ticks\": \"\"}, \"colorscale\": [[0.0, \"#0d0887\"], [0.1111111111111111, \"#46039f\"], [0.2222222222222222, \"#7201a8\"], [0.3333333333333333, \"#9c179e\"], [0.4444444444444444, \"#bd3786\"], [0.5555555555555556, \"#d8576b\"], [0.6666666666666666, \"#ed7953\"], [0.7777777777777778, \"#fb9f3a\"], [0.8888888888888888, \"#fdca26\"], [1.0, \"#f0f921\"]], \"type\": \"histogram2dcontour\"}], \"mesh3d\": [{\"colorbar\": {\"outlinewidth\": 0, \"ticks\": \"\"}, \"type\": \"mesh3d\"}], \"parcoords\": [{\"line\": {\"colorbar\": {\"outlinewidth\": 0, \"ticks\": \"\"}}, \"type\": \"parcoords\"}], \"pie\": [{\"automargin\": true, \"type\": \"pie\"}], \"scatter\": [{\"marker\": {\"colorbar\": {\"outlinewidth\": 0, \"ticks\": \"\"}}, \"type\": \"scatter\"}], \"scatter3d\": [{\"line\": {\"colorbar\": {\"outlinewidth\": 0, \"ticks\": \"\"}}, \"marker\": {\"colorbar\": {\"outlinewidth\": 0, \"ticks\": \"\"}}, \"type\": \"scatter3d\"}], \"scattercarpet\": [{\"marker\": {\"colorbar\": {\"outlinewidth\": 0, \"ticks\": \"\"}}, \"type\": \"scattercarpet\"}], \"scattergeo\": [{\"marker\": {\"colorbar\": {\"outlinewidth\": 0, \"ticks\": \"\"}}, \"type\": \"scattergeo\"}], \"scattergl\": [{\"marker\": {\"colorbar\": {\"outlinewidth\": 0, \"ticks\": \"\"}}, \"type\": \"scattergl\"}], \"scattermapbox\": [{\"marker\": {\"colorbar\": {\"outlinewidth\": 0, \"ticks\": \"\"}}, \"type\": \"scattermapbox\"}], \"scatterpolar\": [{\"marker\": {\"colorbar\": {\"outlinewidth\": 0, \"ticks\": \"\"}}, \"type\": \"scatterpolar\"}], \"scatterpolargl\": [{\"marker\": {\"colorbar\": {\"outlinewidth\": 0, \"ticks\": \"\"}}, \"type\": \"scatterpolargl\"}], \"scatterternary\": [{\"marker\": {\"colorbar\": {\"outlinewidth\": 0, \"ticks\": \"\"}}, \"type\": \"scatterternary\"}], \"surface\": [{\"colorbar\": {\"outlinewidth\": 0, \"ticks\": \"\"}, \"colorscale\": [[0.0, \"#0d0887\"], [0.1111111111111111, \"#46039f\"], [0.2222222222222222, \"#7201a8\"], [0.3333333333333333, \"#9c179e\"], [0.4444444444444444, \"#bd3786\"], [0.5555555555555556, \"#d8576b\"], [0.6666666666666666, \"#ed7953\"], [0.7777777777777778, \"#fb9f3a\"], [0.8888888888888888, \"#fdca26\"], [1.0, \"#f0f921\"]], \"type\": \"surface\"}], \"table\": [{\"cells\": {\"fill\": {\"color\": \"#EBF0F8\"}, \"line\": {\"color\": \"white\"}}, \"header\": {\"fill\": {\"color\": \"#C8D4E3\"}, \"line\": {\"color\": \"white\"}}, \"type\": \"table\"}]}, \"layout\": {\"annotationdefaults\": {\"arrowcolor\": \"#2a3f5f\", \"arrowhead\": 0, \"arrowwidth\": 1}, \"coloraxis\": {\"colorbar\": {\"outlinewidth\": 0, \"ticks\": \"\"}}, \"colorscale\": {\"diverging\": [[0, \"#8e0152\"], [0.1, \"#c51b7d\"], [0.2, \"#de77ae\"], [0.3, \"#f1b6da\"], [0.4, \"#fde0ef\"], [0.5, \"#f7f7f7\"], [0.6, \"#e6f5d0\"], [0.7, \"#b8e186\"], [0.8, \"#7fbc41\"], [0.9, \"#4d9221\"], [1, \"#276419\"]], \"sequential\": [[0.0, \"#0d0887\"], [0.1111111111111111, \"#46039f\"], [0.2222222222222222, \"#7201a8\"], [0.3333333333333333, \"#9c179e\"], [0.4444444444444444, \"#bd3786\"], [0.5555555555555556, \"#d8576b\"], [0.6666666666666666, \"#ed7953\"], [0.7777777777777778, \"#fb9f3a\"], [0.8888888888888888, \"#fdca26\"], [1.0, \"#f0f921\"]], \"sequentialminus\": [[0.0, \"#0d0887\"], [0.1111111111111111, \"#46039f\"], [0.2222222222222222, \"#7201a8\"], [0.3333333333333333, \"#9c179e\"], [0.4444444444444444, \"#bd3786\"], [0.5555555555555556, \"#d8576b\"], [0.6666666666666666, \"#ed7953\"], [0.7777777777777778, \"#fb9f3a\"], [0.8888888888888888, \"#fdca26\"], [1.0, \"#f0f921\"]]}, \"colorway\": [\"#636efa\", \"#EF553B\", \"#00cc96\", \"#ab63fa\", \"#FFA15A\", \"#19d3f3\", \"#FF6692\", \"#B6E880\", \"#FF97FF\", \"#FECB52\"], \"font\": {\"color\": \"#2a3f5f\"}, \"geo\": {\"bgcolor\": \"white\", \"lakecolor\": \"white\", \"landcolor\": \"#E5ECF6\", \"showlakes\": true, \"showland\": true, \"subunitcolor\": \"white\"}, \"hoverlabel\": {\"align\": \"left\"}, \"hovermode\": \"closest\", \"mapbox\": {\"style\": \"light\"}, \"paper_bgcolor\": \"white\", \"plot_bgcolor\": \"#E5ECF6\", \"polar\": {\"angularaxis\": {\"gridcolor\": \"white\", \"linecolor\": \"white\", \"ticks\": \"\"}, \"bgcolor\": \"#E5ECF6\", \"radialaxis\": {\"gridcolor\": \"white\", \"linecolor\": \"white\", \"ticks\": \"\"}}, \"scene\": {\"xaxis\": {\"backgroundcolor\": \"#E5ECF6\", \"gridcolor\": \"white\", \"gridwidth\": 2, \"linecolor\": \"white\", \"showbackground\": true, \"ticks\": \"\", \"zerolinecolor\": \"white\"}, \"yaxis\": {\"backgroundcolor\": \"#E5ECF6\", \"gridcolor\": \"white\", \"gridwidth\": 2, \"linecolor\": \"white\", \"showbackground\": true, \"ticks\": \"\", \"zerolinecolor\": \"white\"}, \"zaxis\": {\"backgroundcolor\": \"#E5ECF6\", \"gridcolor\": \"white\", \"gridwidth\": 2, \"linecolor\": \"white\", \"showbackground\": true, \"ticks\": \"\", \"zerolinecolor\": \"white\"}}, \"shapedefaults\": {\"line\": {\"color\": \"#2a3f5f\"}}, \"ternary\": {\"aaxis\": {\"gridcolor\": \"white\", \"linecolor\": \"white\", \"ticks\": \"\"}, \"baxis\": {\"gridcolor\": \"white\", \"linecolor\": \"white\", \"ticks\": \"\"}, \"bgcolor\": \"#E5ECF6\", \"caxis\": {\"gridcolor\": \"white\", \"linecolor\": \"white\", \"ticks\": \"\"}}, \"title\": {\"x\": 0.05}, \"xaxis\": {\"automargin\": true, \"gridcolor\": \"white\", \"linecolor\": \"white\", \"ticks\": \"\", \"title\": {\"standoff\": 15}, \"zerolinecolor\": \"white\", \"zerolinewidth\": 2}, \"yaxis\": {\"automargin\": true, \"gridcolor\": \"white\", \"linecolor\": \"white\", \"ticks\": \"\", \"title\": {\"standoff\": 15}, \"zerolinecolor\": \"white\", \"zerolinewidth\": 2}}}, \"title\": {\"text\": \"Number of Acidents During the Day vs During the Night in 2018\"}},\n",
       "                        {\"responsive\": true}\n",
       "                    ).then(function(){\n",
       "                            \n",
       "var gd = document.getElementById('db834f42-58b9-4164-b1d8-9ddd362af07f');\n",
       "var x = new MutationObserver(function (mutations, observer) {{\n",
       "        var display = window.getComputedStyle(gd).display;\n",
       "        if (!display || display === 'none') {{\n",
       "            console.log([gd, 'removed!']);\n",
       "            Plotly.purge(gd);\n",
       "            observer.disconnect();\n",
       "        }}\n",
       "}});\n",
       "\n",
       "// Listen for the removal of the full notebook cells\n",
       "var notebookContainer = gd.closest('#notebook-container');\n",
       "if (notebookContainer) {{\n",
       "    x.observe(notebookContainer, {childList: true});\n",
       "}}\n",
       "\n",
       "// Listen for the clearing of the current output cell\n",
       "var outputEl = gd.closest('.output');\n",
       "if (outputEl) {{\n",
       "    x.observe(outputEl, {childList: true});\n",
       "}}\n",
       "\n",
       "                        })\n",
       "                };\n",
       "                });\n",
       "            </script>\n",
       "        </div>"
      ]
     },
     "metadata": {},
     "output_type": "display_data"
    }
   ],
   "source": [
    "df_dn_2018 = df_dn[df_dn['Start_Year'] == '2018']\n",
    "\n",
    "\n",
    "# source for the charts: https://plot.ly/python/choropleth-maps/\n",
    "fig = go.Figure(data=go.Choropleth(locations = df_dn_2018['State'], # Spatial coordinates\n",
    "    z = df_dn_2018['Day/Night'], # Data to be color-coded\n",
    "    locationmode = 'USA-states', # set of locations match entries in `locations`\n",
    "    colorscale = 'Blues',\n",
    "    colorbar_title = 'Number of Acidents Day vs. Night',\n",
    "    text=df_dn_2018['Text'],\n",
    "))\n",
    "\n",
    "fig.update_layout(\n",
    "    title_text = 'Number of Acidents During the Day vs During the Night in 2018',\n",
    "    geo_scope='usa', # limite map scope to USA\n",
    ")\n",
    "\n",
    "fig.show()"
   ]
  },
  {
   "cell_type": "code",
   "execution_count": 35,
   "metadata": {},
   "outputs": [
    {
     "data": {
      "application/vnd.plotly.v1+json": {
       "config": {
        "plotlyServerURL": "https://plot.ly"
       },
       "data": [
        {
         "colorbar": {
          "title": {
           "text": "Number of Acidents Day vs. Night"
          }
         },
         "colorscale": [
          [
           0,
           "rgb(255,245,240)"
          ],
          [
           0.125,
           "rgb(254,224,210)"
          ],
          [
           0.25,
           "rgb(252,187,161)"
          ],
          [
           0.375,
           "rgb(252,146,114)"
          ],
          [
           0.5,
           "rgb(251,106,74)"
          ],
          [
           0.625,
           "rgb(239,59,44)"
          ],
          [
           0.75,
           "rgb(203,24,29)"
          ],
          [
           0.875,
           "rgb(165,15,21)"
          ],
          [
           1,
           "rgb(103,0,13)"
          ]
         ],
         "locationmode": "USA-states",
         "locations": [
          "AL",
          "AR",
          "AZ",
          "CA",
          "CO",
          "CT",
          "DC",
          "DE",
          "FL",
          "GA",
          "IA",
          "ID",
          "IL",
          "IN",
          "KS",
          "KY",
          "LA",
          "MA",
          "MD",
          "ME",
          "MI",
          "MN",
          "MO",
          "MS",
          "MT",
          "NC",
          "ND",
          "NE",
          "NH",
          "NJ",
          "NM",
          "NV",
          "NY",
          "OH",
          "OK",
          "OR",
          "PA",
          "RI",
          "SC",
          "SD",
          "TN",
          "TX",
          "UT",
          "VA",
          "VT",
          "WA",
          "WI",
          "WV",
          "WY"
         ],
         "text": [
          "Year 2017<br>Accidents during the day: 2318.0<br>Accidents during the night: 586.0<br>State: AL",
          "Year 2017<br>Accidents during the day: 100.0<br>Accidents during the night: 34.0<br>State: AR",
          "Year 2017<br>Accidents during the day: 9028.0<br>Accidents during the night: 3299.0<br>State: AZ",
          "Year 2017<br>Accidents during the day: 102679.0<br>Accidents during the night: 49988.0<br>State: CA",
          "Year 2017<br>Accidents during the day: 5361.0<br>Accidents during the night: 1730.0<br>State: CO",
          "Year 2017<br>Accidents during the day: 5041.0<br>Accidents during the night: 1694.0<br>State: CT",
          "Year 2017<br>Accidents during the day: 555.0<br>Accidents during the night: 207.0<br>State: DC",
          "Year 2017<br>Accidents during the day: 592.0<br>Accidents during the night: 299.0<br>State: DE",
          "Year 2017<br>Accidents during the day: 47272.0<br>Accidents during the night: 13383.0<br>State: FL",
          "Year 2017<br>Accidents during the day: 16060.0<br>Accidents during the night: 5999.0<br>State: GA",
          "Year 2017<br>Accidents during the day: 2240.0<br>Accidents during the night: 775.0<br>State: IA",
          "Year 2017<br>Accidents during the day: 269.0<br>Accidents during the night: 99.0<br>State: ID",
          "Year 2017<br>Accidents during the day: 19146.0<br>Accidents during the night: 6142.0<br>State: IL",
          "Year 2017<br>Accidents during the day: 5033.0<br>Accidents during the night: 1909.0<br>State: IN",
          "Year 2017<br>Accidents during the day: 1372.0<br>Accidents during the night: 362.0<br>State: KS",
          "Year 2017<br>Accidents during the day: 2344.0<br>Accidents during the night: 931.0<br>State: KY",
          "Year 2017<br>Accidents during the day: 10100.0<br>Accidents during the night: 2132.0<br>State: LA",
          "Year 2017<br>Accidents during the day: 6962.0<br>Accidents during the night: 2083.0<br>State: MA",
          "Year 2017<br>Accidents during the day: 9032.0<br>Accidents during the night: 3305.0<br>State: MD",
          "Year 2017<br>Accidents during the day: 454.0<br>Accidents during the night: 137.0<br>State: ME",
          "Year 2017<br>Accidents during the day: 19841.0<br>Accidents during the night: 7583.0<br>State: MI",
          "Year 2017<br>Accidents during the day: 7170.0<br>Accidents during the night: 3258.0<br>State: MN",
          "Year 2017<br>Accidents during the day: 5426.0<br>Accidents during the night: 1947.0<br>State: MO",
          "Year 2017<br>Accidents during the day: 848.0<br>Accidents during the night: 189.0<br>State: MS",
          "Year 2017<br>Accidents during the day: 96.0<br>Accidents during the night: 37.0<br>State: MT",
          "Year 2017<br>Accidents during the day: 26778.0<br>Accidents during the night: 7313.0<br>State: NC",
          "Year 2017<br>Accidents during the day: 3.0<br>Accidents during the night: 1.0<br>State: ND",
          "Year 2017<br>Accidents during the day: 5137.0<br>Accidents during the night: 1066.0<br>State: NE",
          "Year 2017<br>Accidents during the day: 1467.0<br>Accidents during the night: 564.0<br>State: NH",
          "Year 2017<br>Accidents during the day: 10769.0<br>Accidents during the night: 3302.0<br>State: NJ",
          "Year 2017<br>Accidents during the day: 1002.0<br>Accidents during the night: 137.0<br>State: NM",
          "Year 2017<br>Accidents during the day: 1839.0<br>Accidents during the night: 664.0<br>State: NV",
          "Year 2017<br>Accidents during the day: 27499.0<br>Accidents during the night: 9374.0<br>State: NY",
          "Year 2017<br>Accidents during the day: 10016.0<br>Accidents during the night: 3637.0<br>State: OH",
          "Year 2017<br>Accidents during the day: 7672.0<br>Accidents during the night: 2088.0<br>State: OK",
          "Year 2017<br>Accidents during the day: 4440.0<br>Accidents during the night: 1727.0<br>State: OR",
          "Year 2017<br>Accidents during the day: 20516.0<br>Accidents during the night: 6355.0<br>State: PA",
          "Year 2017<br>Accidents during the day: 2248.0<br>Accidents during the night: 610.0<br>State: RI",
          "Year 2017<br>Accidents during the day: 21472.0<br>Accidents during the night: 6859.0<br>State: SC",
          "Year 2017<br>Accidents during the day: 8.0<br>Accidents during the night: 4.0<br>State: SD",
          "Year 2017<br>Accidents during the day: 8607.0<br>Accidents during the night: 2400.0<br>State: TN",
          "Year 2017<br>Accidents during the day: 66759.0<br>Accidents during the night: 18779.0<br>State: TX",
          "Year 2017<br>Accidents during the day: 3479.0<br>Accidents during the night: 1172.0<br>State: UT",
          "Year 2017<br>Accidents during the day: 15482.0<br>Accidents during the night: 5255.0<br>State: VA",
          "Year 2017<br>Accidents during the day: 115.0<br>Accidents during the night: 40.0<br>State: VT",
          "Year 2017<br>Accidents during the day: 13066.0<br>Accidents during the night: 5382.0<br>State: WA",
          "Year 2017<br>Accidents during the day: 3046.0<br>Accidents during the night: 1055.0<br>State: WI",
          "Year 2017<br>Accidents during the day: 475.0<br>Accidents during the night: 225.0<br>State: WV",
          "Year 2017<br>Accidents during the day: 77.0<br>Accidents during the night: 35.0<br>State: WY"
         ],
         "type": "choropleth",
         "z": [
          3.955631399317406,
          2.9411764705882355,
          2.736586844498333,
          2.0540729775146036,
          3.098843930635838,
          2.975796930342385,
          2.681159420289855,
          1.979933110367893,
          3.532242397070911,
          2.6771128521420238,
          2.890322580645161,
          2.717171717171717,
          3.117225659394334,
          2.636458878994238,
          3.7900552486187844,
          2.5177228786251344,
          4.73733583489681,
          3.342294767162746,
          2.7328290468986385,
          3.3138686131386863,
          2.6165106158512463,
          2.2007366482504604,
          2.7868515665125835,
          4.4867724867724865,
          2.5945945945945947,
          3.6616983454122796,
          3,
          4.818949343339587,
          2.601063829787234,
          3.2613567534827377,
          7.313868613138686,
          2.769578313253012,
          2.933539577554939,
          2.7539180643387406,
          3.6743295019157087,
          2.570932252460915,
          3.228324154209284,
          3.685245901639344,
          3.130485493512174,
          2,
          3.58625,
          3.5549816284147187,
          2.968430034129693,
          2.9461465271170315,
          2.875,
          2.4277220364176886,
          2.887203791469194,
          2.111111111111111,
          2.2
         ]
        }
       ],
       "layout": {
        "geo": {
         "scope": "usa"
        },
        "template": {
         "data": {
          "bar": [
           {
            "error_x": {
             "color": "#2a3f5f"
            },
            "error_y": {
             "color": "#2a3f5f"
            },
            "marker": {
             "line": {
              "color": "#E5ECF6",
              "width": 0.5
             }
            },
            "type": "bar"
           }
          ],
          "barpolar": [
           {
            "marker": {
             "line": {
              "color": "#E5ECF6",
              "width": 0.5
             }
            },
            "type": "barpolar"
           }
          ],
          "carpet": [
           {
            "aaxis": {
             "endlinecolor": "#2a3f5f",
             "gridcolor": "white",
             "linecolor": "white",
             "minorgridcolor": "white",
             "startlinecolor": "#2a3f5f"
            },
            "baxis": {
             "endlinecolor": "#2a3f5f",
             "gridcolor": "white",
             "linecolor": "white",
             "minorgridcolor": "white",
             "startlinecolor": "#2a3f5f"
            },
            "type": "carpet"
           }
          ],
          "choropleth": [
           {
            "colorbar": {
             "outlinewidth": 0,
             "ticks": ""
            },
            "type": "choropleth"
           }
          ],
          "contour": [
           {
            "colorbar": {
             "outlinewidth": 0,
             "ticks": ""
            },
            "colorscale": [
             [
              0,
              "#0d0887"
             ],
             [
              0.1111111111111111,
              "#46039f"
             ],
             [
              0.2222222222222222,
              "#7201a8"
             ],
             [
              0.3333333333333333,
              "#9c179e"
             ],
             [
              0.4444444444444444,
              "#bd3786"
             ],
             [
              0.5555555555555556,
              "#d8576b"
             ],
             [
              0.6666666666666666,
              "#ed7953"
             ],
             [
              0.7777777777777778,
              "#fb9f3a"
             ],
             [
              0.8888888888888888,
              "#fdca26"
             ],
             [
              1,
              "#f0f921"
             ]
            ],
            "type": "contour"
           }
          ],
          "contourcarpet": [
           {
            "colorbar": {
             "outlinewidth": 0,
             "ticks": ""
            },
            "type": "contourcarpet"
           }
          ],
          "heatmap": [
           {
            "colorbar": {
             "outlinewidth": 0,
             "ticks": ""
            },
            "colorscale": [
             [
              0,
              "#0d0887"
             ],
             [
              0.1111111111111111,
              "#46039f"
             ],
             [
              0.2222222222222222,
              "#7201a8"
             ],
             [
              0.3333333333333333,
              "#9c179e"
             ],
             [
              0.4444444444444444,
              "#bd3786"
             ],
             [
              0.5555555555555556,
              "#d8576b"
             ],
             [
              0.6666666666666666,
              "#ed7953"
             ],
             [
              0.7777777777777778,
              "#fb9f3a"
             ],
             [
              0.8888888888888888,
              "#fdca26"
             ],
             [
              1,
              "#f0f921"
             ]
            ],
            "type": "heatmap"
           }
          ],
          "heatmapgl": [
           {
            "colorbar": {
             "outlinewidth": 0,
             "ticks": ""
            },
            "colorscale": [
             [
              0,
              "#0d0887"
             ],
             [
              0.1111111111111111,
              "#46039f"
             ],
             [
              0.2222222222222222,
              "#7201a8"
             ],
             [
              0.3333333333333333,
              "#9c179e"
             ],
             [
              0.4444444444444444,
              "#bd3786"
             ],
             [
              0.5555555555555556,
              "#d8576b"
             ],
             [
              0.6666666666666666,
              "#ed7953"
             ],
             [
              0.7777777777777778,
              "#fb9f3a"
             ],
             [
              0.8888888888888888,
              "#fdca26"
             ],
             [
              1,
              "#f0f921"
             ]
            ],
            "type": "heatmapgl"
           }
          ],
          "histogram": [
           {
            "marker": {
             "colorbar": {
              "outlinewidth": 0,
              "ticks": ""
             }
            },
            "type": "histogram"
           }
          ],
          "histogram2d": [
           {
            "colorbar": {
             "outlinewidth": 0,
             "ticks": ""
            },
            "colorscale": [
             [
              0,
              "#0d0887"
             ],
             [
              0.1111111111111111,
              "#46039f"
             ],
             [
              0.2222222222222222,
              "#7201a8"
             ],
             [
              0.3333333333333333,
              "#9c179e"
             ],
             [
              0.4444444444444444,
              "#bd3786"
             ],
             [
              0.5555555555555556,
              "#d8576b"
             ],
             [
              0.6666666666666666,
              "#ed7953"
             ],
             [
              0.7777777777777778,
              "#fb9f3a"
             ],
             [
              0.8888888888888888,
              "#fdca26"
             ],
             [
              1,
              "#f0f921"
             ]
            ],
            "type": "histogram2d"
           }
          ],
          "histogram2dcontour": [
           {
            "colorbar": {
             "outlinewidth": 0,
             "ticks": ""
            },
            "colorscale": [
             [
              0,
              "#0d0887"
             ],
             [
              0.1111111111111111,
              "#46039f"
             ],
             [
              0.2222222222222222,
              "#7201a8"
             ],
             [
              0.3333333333333333,
              "#9c179e"
             ],
             [
              0.4444444444444444,
              "#bd3786"
             ],
             [
              0.5555555555555556,
              "#d8576b"
             ],
             [
              0.6666666666666666,
              "#ed7953"
             ],
             [
              0.7777777777777778,
              "#fb9f3a"
             ],
             [
              0.8888888888888888,
              "#fdca26"
             ],
             [
              1,
              "#f0f921"
             ]
            ],
            "type": "histogram2dcontour"
           }
          ],
          "mesh3d": [
           {
            "colorbar": {
             "outlinewidth": 0,
             "ticks": ""
            },
            "type": "mesh3d"
           }
          ],
          "parcoords": [
           {
            "line": {
             "colorbar": {
              "outlinewidth": 0,
              "ticks": ""
             }
            },
            "type": "parcoords"
           }
          ],
          "pie": [
           {
            "automargin": true,
            "type": "pie"
           }
          ],
          "scatter": [
           {
            "marker": {
             "colorbar": {
              "outlinewidth": 0,
              "ticks": ""
             }
            },
            "type": "scatter"
           }
          ],
          "scatter3d": [
           {
            "line": {
             "colorbar": {
              "outlinewidth": 0,
              "ticks": ""
             }
            },
            "marker": {
             "colorbar": {
              "outlinewidth": 0,
              "ticks": ""
             }
            },
            "type": "scatter3d"
           }
          ],
          "scattercarpet": [
           {
            "marker": {
             "colorbar": {
              "outlinewidth": 0,
              "ticks": ""
             }
            },
            "type": "scattercarpet"
           }
          ],
          "scattergeo": [
           {
            "marker": {
             "colorbar": {
              "outlinewidth": 0,
              "ticks": ""
             }
            },
            "type": "scattergeo"
           }
          ],
          "scattergl": [
           {
            "marker": {
             "colorbar": {
              "outlinewidth": 0,
              "ticks": ""
             }
            },
            "type": "scattergl"
           }
          ],
          "scattermapbox": [
           {
            "marker": {
             "colorbar": {
              "outlinewidth": 0,
              "ticks": ""
             }
            },
            "type": "scattermapbox"
           }
          ],
          "scatterpolar": [
           {
            "marker": {
             "colorbar": {
              "outlinewidth": 0,
              "ticks": ""
             }
            },
            "type": "scatterpolar"
           }
          ],
          "scatterpolargl": [
           {
            "marker": {
             "colorbar": {
              "outlinewidth": 0,
              "ticks": ""
             }
            },
            "type": "scatterpolargl"
           }
          ],
          "scatterternary": [
           {
            "marker": {
             "colorbar": {
              "outlinewidth": 0,
              "ticks": ""
             }
            },
            "type": "scatterternary"
           }
          ],
          "surface": [
           {
            "colorbar": {
             "outlinewidth": 0,
             "ticks": ""
            },
            "colorscale": [
             [
              0,
              "#0d0887"
             ],
             [
              0.1111111111111111,
              "#46039f"
             ],
             [
              0.2222222222222222,
              "#7201a8"
             ],
             [
              0.3333333333333333,
              "#9c179e"
             ],
             [
              0.4444444444444444,
              "#bd3786"
             ],
             [
              0.5555555555555556,
              "#d8576b"
             ],
             [
              0.6666666666666666,
              "#ed7953"
             ],
             [
              0.7777777777777778,
              "#fb9f3a"
             ],
             [
              0.8888888888888888,
              "#fdca26"
             ],
             [
              1,
              "#f0f921"
             ]
            ],
            "type": "surface"
           }
          ],
          "table": [
           {
            "cells": {
             "fill": {
              "color": "#EBF0F8"
             },
             "line": {
              "color": "white"
             }
            },
            "header": {
             "fill": {
              "color": "#C8D4E3"
             },
             "line": {
              "color": "white"
             }
            },
            "type": "table"
           }
          ]
         },
         "layout": {
          "annotationdefaults": {
           "arrowcolor": "#2a3f5f",
           "arrowhead": 0,
           "arrowwidth": 1
          },
          "coloraxis": {
           "colorbar": {
            "outlinewidth": 0,
            "ticks": ""
           }
          },
          "colorscale": {
           "diverging": [
            [
             0,
             "#8e0152"
            ],
            [
             0.1,
             "#c51b7d"
            ],
            [
             0.2,
             "#de77ae"
            ],
            [
             0.3,
             "#f1b6da"
            ],
            [
             0.4,
             "#fde0ef"
            ],
            [
             0.5,
             "#f7f7f7"
            ],
            [
             0.6,
             "#e6f5d0"
            ],
            [
             0.7,
             "#b8e186"
            ],
            [
             0.8,
             "#7fbc41"
            ],
            [
             0.9,
             "#4d9221"
            ],
            [
             1,
             "#276419"
            ]
           ],
           "sequential": [
            [
             0,
             "#0d0887"
            ],
            [
             0.1111111111111111,
             "#46039f"
            ],
            [
             0.2222222222222222,
             "#7201a8"
            ],
            [
             0.3333333333333333,
             "#9c179e"
            ],
            [
             0.4444444444444444,
             "#bd3786"
            ],
            [
             0.5555555555555556,
             "#d8576b"
            ],
            [
             0.6666666666666666,
             "#ed7953"
            ],
            [
             0.7777777777777778,
             "#fb9f3a"
            ],
            [
             0.8888888888888888,
             "#fdca26"
            ],
            [
             1,
             "#f0f921"
            ]
           ],
           "sequentialminus": [
            [
             0,
             "#0d0887"
            ],
            [
             0.1111111111111111,
             "#46039f"
            ],
            [
             0.2222222222222222,
             "#7201a8"
            ],
            [
             0.3333333333333333,
             "#9c179e"
            ],
            [
             0.4444444444444444,
             "#bd3786"
            ],
            [
             0.5555555555555556,
             "#d8576b"
            ],
            [
             0.6666666666666666,
             "#ed7953"
            ],
            [
             0.7777777777777778,
             "#fb9f3a"
            ],
            [
             0.8888888888888888,
             "#fdca26"
            ],
            [
             1,
             "#f0f921"
            ]
           ]
          },
          "colorway": [
           "#636efa",
           "#EF553B",
           "#00cc96",
           "#ab63fa",
           "#FFA15A",
           "#19d3f3",
           "#FF6692",
           "#B6E880",
           "#FF97FF",
           "#FECB52"
          ],
          "font": {
           "color": "#2a3f5f"
          },
          "geo": {
           "bgcolor": "white",
           "lakecolor": "white",
           "landcolor": "#E5ECF6",
           "showlakes": true,
           "showland": true,
           "subunitcolor": "white"
          },
          "hoverlabel": {
           "align": "left"
          },
          "hovermode": "closest",
          "mapbox": {
           "style": "light"
          },
          "paper_bgcolor": "white",
          "plot_bgcolor": "#E5ECF6",
          "polar": {
           "angularaxis": {
            "gridcolor": "white",
            "linecolor": "white",
            "ticks": ""
           },
           "bgcolor": "#E5ECF6",
           "radialaxis": {
            "gridcolor": "white",
            "linecolor": "white",
            "ticks": ""
           }
          },
          "scene": {
           "xaxis": {
            "backgroundcolor": "#E5ECF6",
            "gridcolor": "white",
            "gridwidth": 2,
            "linecolor": "white",
            "showbackground": true,
            "ticks": "",
            "zerolinecolor": "white"
           },
           "yaxis": {
            "backgroundcolor": "#E5ECF6",
            "gridcolor": "white",
            "gridwidth": 2,
            "linecolor": "white",
            "showbackground": true,
            "ticks": "",
            "zerolinecolor": "white"
           },
           "zaxis": {
            "backgroundcolor": "#E5ECF6",
            "gridcolor": "white",
            "gridwidth": 2,
            "linecolor": "white",
            "showbackground": true,
            "ticks": "",
            "zerolinecolor": "white"
           }
          },
          "shapedefaults": {
           "line": {
            "color": "#2a3f5f"
           }
          },
          "ternary": {
           "aaxis": {
            "gridcolor": "white",
            "linecolor": "white",
            "ticks": ""
           },
           "baxis": {
            "gridcolor": "white",
            "linecolor": "white",
            "ticks": ""
           },
           "bgcolor": "#E5ECF6",
           "caxis": {
            "gridcolor": "white",
            "linecolor": "white",
            "ticks": ""
           }
          },
          "title": {
           "x": 0.05
          },
          "xaxis": {
           "automargin": true,
           "gridcolor": "white",
           "linecolor": "white",
           "ticks": "",
           "title": {
            "standoff": 15
           },
           "zerolinecolor": "white",
           "zerolinewidth": 2
          },
          "yaxis": {
           "automargin": true,
           "gridcolor": "white",
           "linecolor": "white",
           "ticks": "",
           "title": {
            "standoff": 15
           },
           "zerolinecolor": "white",
           "zerolinewidth": 2
          }
         }
        },
        "title": {
         "text": "Number of Acidents During the Day vs During the Night in 2017"
        }
       }
      },
      "text/html": [
       "<div>\n",
       "        \n",
       "        \n",
       "            <div id=\"2c73351a-75bc-4c2b-bd1f-d5a35475be10\" class=\"plotly-graph-div\" style=\"height:525px; width:100%;\"></div>\n",
       "            <script type=\"text/javascript\">\n",
       "                require([\"plotly\"], function(Plotly) {\n",
       "                    window.PLOTLYENV=window.PLOTLYENV || {};\n",
       "                    \n",
       "                if (document.getElementById(\"2c73351a-75bc-4c2b-bd1f-d5a35475be10\")) {\n",
       "                    Plotly.newPlot(\n",
       "                        '2c73351a-75bc-4c2b-bd1f-d5a35475be10',\n",
       "                        [{\"colorbar\": {\"title\": {\"text\": \"Number of Acidents Day vs. Night\"}}, \"colorscale\": [[0.0, \"rgb(255,245,240)\"], [0.125, \"rgb(254,224,210)\"], [0.25, \"rgb(252,187,161)\"], [0.375, \"rgb(252,146,114)\"], [0.5, \"rgb(251,106,74)\"], [0.625, \"rgb(239,59,44)\"], [0.75, \"rgb(203,24,29)\"], [0.875, \"rgb(165,15,21)\"], [1.0, \"rgb(103,0,13)\"]], \"locationmode\": \"USA-states\", \"locations\": [\"AL\", \"AR\", \"AZ\", \"CA\", \"CO\", \"CT\", \"DC\", \"DE\", \"FL\", \"GA\", \"IA\", \"ID\", \"IL\", \"IN\", \"KS\", \"KY\", \"LA\", \"MA\", \"MD\", \"ME\", \"MI\", \"MN\", \"MO\", \"MS\", \"MT\", \"NC\", \"ND\", \"NE\", \"NH\", \"NJ\", \"NM\", \"NV\", \"NY\", \"OH\", \"OK\", \"OR\", \"PA\", \"RI\", \"SC\", \"SD\", \"TN\", \"TX\", \"UT\", \"VA\", \"VT\", \"WA\", \"WI\", \"WV\", \"WY\"], \"text\": [\"Year 2017<br>Accidents during the day: 2318.0<br>Accidents during the night: 586.0<br>State: AL\", \"Year 2017<br>Accidents during the day: 100.0<br>Accidents during the night: 34.0<br>State: AR\", \"Year 2017<br>Accidents during the day: 9028.0<br>Accidents during the night: 3299.0<br>State: AZ\", \"Year 2017<br>Accidents during the day: 102679.0<br>Accidents during the night: 49988.0<br>State: CA\", \"Year 2017<br>Accidents during the day: 5361.0<br>Accidents during the night: 1730.0<br>State: CO\", \"Year 2017<br>Accidents during the day: 5041.0<br>Accidents during the night: 1694.0<br>State: CT\", \"Year 2017<br>Accidents during the day: 555.0<br>Accidents during the night: 207.0<br>State: DC\", \"Year 2017<br>Accidents during the day: 592.0<br>Accidents during the night: 299.0<br>State: DE\", \"Year 2017<br>Accidents during the day: 47272.0<br>Accidents during the night: 13383.0<br>State: FL\", \"Year 2017<br>Accidents during the day: 16060.0<br>Accidents during the night: 5999.0<br>State: GA\", \"Year 2017<br>Accidents during the day: 2240.0<br>Accidents during the night: 775.0<br>State: IA\", \"Year 2017<br>Accidents during the day: 269.0<br>Accidents during the night: 99.0<br>State: ID\", \"Year 2017<br>Accidents during the day: 19146.0<br>Accidents during the night: 6142.0<br>State: IL\", \"Year 2017<br>Accidents during the day: 5033.0<br>Accidents during the night: 1909.0<br>State: IN\", \"Year 2017<br>Accidents during the day: 1372.0<br>Accidents during the night: 362.0<br>State: KS\", \"Year 2017<br>Accidents during the day: 2344.0<br>Accidents during the night: 931.0<br>State: KY\", \"Year 2017<br>Accidents during the day: 10100.0<br>Accidents during the night: 2132.0<br>State: LA\", \"Year 2017<br>Accidents during the day: 6962.0<br>Accidents during the night: 2083.0<br>State: MA\", \"Year 2017<br>Accidents during the day: 9032.0<br>Accidents during the night: 3305.0<br>State: MD\", \"Year 2017<br>Accidents during the day: 454.0<br>Accidents during the night: 137.0<br>State: ME\", \"Year 2017<br>Accidents during the day: 19841.0<br>Accidents during the night: 7583.0<br>State: MI\", \"Year 2017<br>Accidents during the day: 7170.0<br>Accidents during the night: 3258.0<br>State: MN\", \"Year 2017<br>Accidents during the day: 5426.0<br>Accidents during the night: 1947.0<br>State: MO\", \"Year 2017<br>Accidents during the day: 848.0<br>Accidents during the night: 189.0<br>State: MS\", \"Year 2017<br>Accidents during the day: 96.0<br>Accidents during the night: 37.0<br>State: MT\", \"Year 2017<br>Accidents during the day: 26778.0<br>Accidents during the night: 7313.0<br>State: NC\", \"Year 2017<br>Accidents during the day: 3.0<br>Accidents during the night: 1.0<br>State: ND\", \"Year 2017<br>Accidents during the day: 5137.0<br>Accidents during the night: 1066.0<br>State: NE\", \"Year 2017<br>Accidents during the day: 1467.0<br>Accidents during the night: 564.0<br>State: NH\", \"Year 2017<br>Accidents during the day: 10769.0<br>Accidents during the night: 3302.0<br>State: NJ\", \"Year 2017<br>Accidents during the day: 1002.0<br>Accidents during the night: 137.0<br>State: NM\", \"Year 2017<br>Accidents during the day: 1839.0<br>Accidents during the night: 664.0<br>State: NV\", \"Year 2017<br>Accidents during the day: 27499.0<br>Accidents during the night: 9374.0<br>State: NY\", \"Year 2017<br>Accidents during the day: 10016.0<br>Accidents during the night: 3637.0<br>State: OH\", \"Year 2017<br>Accidents during the day: 7672.0<br>Accidents during the night: 2088.0<br>State: OK\", \"Year 2017<br>Accidents during the day: 4440.0<br>Accidents during the night: 1727.0<br>State: OR\", \"Year 2017<br>Accidents during the day: 20516.0<br>Accidents during the night: 6355.0<br>State: PA\", \"Year 2017<br>Accidents during the day: 2248.0<br>Accidents during the night: 610.0<br>State: RI\", \"Year 2017<br>Accidents during the day: 21472.0<br>Accidents during the night: 6859.0<br>State: SC\", \"Year 2017<br>Accidents during the day: 8.0<br>Accidents during the night: 4.0<br>State: SD\", \"Year 2017<br>Accidents during the day: 8607.0<br>Accidents during the night: 2400.0<br>State: TN\", \"Year 2017<br>Accidents during the day: 66759.0<br>Accidents during the night: 18779.0<br>State: TX\", \"Year 2017<br>Accidents during the day: 3479.0<br>Accidents during the night: 1172.0<br>State: UT\", \"Year 2017<br>Accidents during the day: 15482.0<br>Accidents during the night: 5255.0<br>State: VA\", \"Year 2017<br>Accidents during the day: 115.0<br>Accidents during the night: 40.0<br>State: VT\", \"Year 2017<br>Accidents during the day: 13066.0<br>Accidents during the night: 5382.0<br>State: WA\", \"Year 2017<br>Accidents during the day: 3046.0<br>Accidents during the night: 1055.0<br>State: WI\", \"Year 2017<br>Accidents during the day: 475.0<br>Accidents during the night: 225.0<br>State: WV\", \"Year 2017<br>Accidents during the day: 77.0<br>Accidents during the night: 35.0<br>State: WY\"], \"type\": \"choropleth\", \"z\": [3.955631399317406, 2.9411764705882355, 2.736586844498333, 2.0540729775146036, 3.098843930635838, 2.975796930342385, 2.681159420289855, 1.979933110367893, 3.532242397070911, 2.6771128521420238, 2.890322580645161, 2.717171717171717, 3.117225659394334, 2.636458878994238, 3.7900552486187844, 2.5177228786251344, 4.73733583489681, 3.342294767162746, 2.7328290468986385, 3.3138686131386863, 2.6165106158512463, 2.2007366482504604, 2.7868515665125835, 4.4867724867724865, 2.5945945945945947, 3.6616983454122796, 3.0, 4.818949343339587, 2.601063829787234, 3.2613567534827377, 7.313868613138686, 2.769578313253012, 2.933539577554939, 2.7539180643387406, 3.6743295019157087, 2.570932252460915, 3.228324154209284, 3.685245901639344, 3.130485493512174, 2.0, 3.58625, 3.5549816284147187, 2.968430034129693, 2.9461465271170315, 2.875, 2.4277220364176886, 2.887203791469194, 2.111111111111111, 2.2]}],\n",
       "                        {\"geo\": {\"scope\": \"usa\"}, \"template\": {\"data\": {\"bar\": [{\"error_x\": {\"color\": \"#2a3f5f\"}, \"error_y\": {\"color\": \"#2a3f5f\"}, \"marker\": {\"line\": {\"color\": \"#E5ECF6\", \"width\": 0.5}}, \"type\": \"bar\"}], \"barpolar\": [{\"marker\": {\"line\": {\"color\": \"#E5ECF6\", \"width\": 0.5}}, \"type\": \"barpolar\"}], \"carpet\": [{\"aaxis\": {\"endlinecolor\": \"#2a3f5f\", \"gridcolor\": \"white\", \"linecolor\": \"white\", \"minorgridcolor\": \"white\", \"startlinecolor\": \"#2a3f5f\"}, \"baxis\": {\"endlinecolor\": \"#2a3f5f\", \"gridcolor\": \"white\", \"linecolor\": \"white\", \"minorgridcolor\": \"white\", \"startlinecolor\": \"#2a3f5f\"}, \"type\": \"carpet\"}], \"choropleth\": [{\"colorbar\": {\"outlinewidth\": 0, \"ticks\": \"\"}, \"type\": \"choropleth\"}], \"contour\": [{\"colorbar\": {\"outlinewidth\": 0, \"ticks\": \"\"}, \"colorscale\": [[0.0, \"#0d0887\"], [0.1111111111111111, \"#46039f\"], [0.2222222222222222, \"#7201a8\"], [0.3333333333333333, \"#9c179e\"], [0.4444444444444444, \"#bd3786\"], [0.5555555555555556, \"#d8576b\"], [0.6666666666666666, \"#ed7953\"], [0.7777777777777778, \"#fb9f3a\"], [0.8888888888888888, \"#fdca26\"], [1.0, \"#f0f921\"]], \"type\": \"contour\"}], \"contourcarpet\": [{\"colorbar\": {\"outlinewidth\": 0, \"ticks\": \"\"}, \"type\": \"contourcarpet\"}], \"heatmap\": [{\"colorbar\": {\"outlinewidth\": 0, \"ticks\": \"\"}, \"colorscale\": [[0.0, \"#0d0887\"], [0.1111111111111111, \"#46039f\"], [0.2222222222222222, \"#7201a8\"], [0.3333333333333333, \"#9c179e\"], [0.4444444444444444, \"#bd3786\"], [0.5555555555555556, \"#d8576b\"], [0.6666666666666666, \"#ed7953\"], [0.7777777777777778, \"#fb9f3a\"], [0.8888888888888888, \"#fdca26\"], [1.0, \"#f0f921\"]], \"type\": \"heatmap\"}], \"heatmapgl\": [{\"colorbar\": {\"outlinewidth\": 0, \"ticks\": \"\"}, \"colorscale\": [[0.0, \"#0d0887\"], [0.1111111111111111, \"#46039f\"], [0.2222222222222222, \"#7201a8\"], [0.3333333333333333, \"#9c179e\"], [0.4444444444444444, \"#bd3786\"], [0.5555555555555556, \"#d8576b\"], [0.6666666666666666, \"#ed7953\"], [0.7777777777777778, \"#fb9f3a\"], [0.8888888888888888, \"#fdca26\"], [1.0, \"#f0f921\"]], \"type\": \"heatmapgl\"}], \"histogram\": [{\"marker\": {\"colorbar\": {\"outlinewidth\": 0, \"ticks\": \"\"}}, \"type\": \"histogram\"}], \"histogram2d\": [{\"colorbar\": {\"outlinewidth\": 0, \"ticks\": \"\"}, \"colorscale\": [[0.0, \"#0d0887\"], [0.1111111111111111, \"#46039f\"], [0.2222222222222222, \"#7201a8\"], [0.3333333333333333, \"#9c179e\"], [0.4444444444444444, \"#bd3786\"], [0.5555555555555556, \"#d8576b\"], [0.6666666666666666, \"#ed7953\"], [0.7777777777777778, \"#fb9f3a\"], [0.8888888888888888, \"#fdca26\"], [1.0, \"#f0f921\"]], \"type\": \"histogram2d\"}], \"histogram2dcontour\": [{\"colorbar\": {\"outlinewidth\": 0, \"ticks\": \"\"}, \"colorscale\": [[0.0, \"#0d0887\"], [0.1111111111111111, \"#46039f\"], [0.2222222222222222, \"#7201a8\"], [0.3333333333333333, \"#9c179e\"], [0.4444444444444444, \"#bd3786\"], [0.5555555555555556, \"#d8576b\"], [0.6666666666666666, \"#ed7953\"], [0.7777777777777778, \"#fb9f3a\"], [0.8888888888888888, \"#fdca26\"], [1.0, \"#f0f921\"]], \"type\": \"histogram2dcontour\"}], \"mesh3d\": [{\"colorbar\": {\"outlinewidth\": 0, \"ticks\": \"\"}, \"type\": \"mesh3d\"}], \"parcoords\": [{\"line\": {\"colorbar\": {\"outlinewidth\": 0, \"ticks\": \"\"}}, \"type\": \"parcoords\"}], \"pie\": [{\"automargin\": true, \"type\": \"pie\"}], \"scatter\": [{\"marker\": {\"colorbar\": {\"outlinewidth\": 0, \"ticks\": \"\"}}, \"type\": \"scatter\"}], \"scatter3d\": [{\"line\": {\"colorbar\": {\"outlinewidth\": 0, \"ticks\": \"\"}}, \"marker\": {\"colorbar\": {\"outlinewidth\": 0, \"ticks\": \"\"}}, \"type\": \"scatter3d\"}], \"scattercarpet\": [{\"marker\": {\"colorbar\": {\"outlinewidth\": 0, \"ticks\": \"\"}}, \"type\": \"scattercarpet\"}], \"scattergeo\": [{\"marker\": {\"colorbar\": {\"outlinewidth\": 0, \"ticks\": \"\"}}, \"type\": \"scattergeo\"}], \"scattergl\": [{\"marker\": {\"colorbar\": {\"outlinewidth\": 0, \"ticks\": \"\"}}, \"type\": \"scattergl\"}], \"scattermapbox\": [{\"marker\": {\"colorbar\": {\"outlinewidth\": 0, \"ticks\": \"\"}}, \"type\": \"scattermapbox\"}], \"scatterpolar\": [{\"marker\": {\"colorbar\": {\"outlinewidth\": 0, \"ticks\": \"\"}}, \"type\": \"scatterpolar\"}], \"scatterpolargl\": [{\"marker\": {\"colorbar\": {\"outlinewidth\": 0, \"ticks\": \"\"}}, \"type\": \"scatterpolargl\"}], \"scatterternary\": [{\"marker\": {\"colorbar\": {\"outlinewidth\": 0, \"ticks\": \"\"}}, \"type\": \"scatterternary\"}], \"surface\": [{\"colorbar\": {\"outlinewidth\": 0, \"ticks\": \"\"}, \"colorscale\": [[0.0, \"#0d0887\"], [0.1111111111111111, \"#46039f\"], [0.2222222222222222, \"#7201a8\"], [0.3333333333333333, \"#9c179e\"], [0.4444444444444444, \"#bd3786\"], [0.5555555555555556, \"#d8576b\"], [0.6666666666666666, \"#ed7953\"], [0.7777777777777778, \"#fb9f3a\"], [0.8888888888888888, \"#fdca26\"], [1.0, \"#f0f921\"]], \"type\": \"surface\"}], \"table\": [{\"cells\": {\"fill\": {\"color\": \"#EBF0F8\"}, \"line\": {\"color\": \"white\"}}, \"header\": {\"fill\": {\"color\": \"#C8D4E3\"}, \"line\": {\"color\": \"white\"}}, \"type\": \"table\"}]}, \"layout\": {\"annotationdefaults\": {\"arrowcolor\": \"#2a3f5f\", \"arrowhead\": 0, \"arrowwidth\": 1}, \"coloraxis\": {\"colorbar\": {\"outlinewidth\": 0, \"ticks\": \"\"}}, \"colorscale\": {\"diverging\": [[0, \"#8e0152\"], [0.1, \"#c51b7d\"], [0.2, \"#de77ae\"], [0.3, \"#f1b6da\"], [0.4, \"#fde0ef\"], [0.5, \"#f7f7f7\"], [0.6, \"#e6f5d0\"], [0.7, \"#b8e186\"], [0.8, \"#7fbc41\"], [0.9, \"#4d9221\"], [1, \"#276419\"]], \"sequential\": [[0.0, \"#0d0887\"], [0.1111111111111111, \"#46039f\"], [0.2222222222222222, \"#7201a8\"], [0.3333333333333333, \"#9c179e\"], [0.4444444444444444, \"#bd3786\"], [0.5555555555555556, \"#d8576b\"], [0.6666666666666666, \"#ed7953\"], [0.7777777777777778, \"#fb9f3a\"], [0.8888888888888888, \"#fdca26\"], [1.0, \"#f0f921\"]], \"sequentialminus\": [[0.0, \"#0d0887\"], [0.1111111111111111, \"#46039f\"], [0.2222222222222222, \"#7201a8\"], [0.3333333333333333, \"#9c179e\"], [0.4444444444444444, \"#bd3786\"], [0.5555555555555556, \"#d8576b\"], [0.6666666666666666, \"#ed7953\"], [0.7777777777777778, \"#fb9f3a\"], [0.8888888888888888, \"#fdca26\"], [1.0, \"#f0f921\"]]}, \"colorway\": [\"#636efa\", \"#EF553B\", \"#00cc96\", \"#ab63fa\", \"#FFA15A\", \"#19d3f3\", \"#FF6692\", \"#B6E880\", \"#FF97FF\", \"#FECB52\"], \"font\": {\"color\": \"#2a3f5f\"}, \"geo\": {\"bgcolor\": \"white\", \"lakecolor\": \"white\", \"landcolor\": \"#E5ECF6\", \"showlakes\": true, \"showland\": true, \"subunitcolor\": \"white\"}, \"hoverlabel\": {\"align\": \"left\"}, \"hovermode\": \"closest\", \"mapbox\": {\"style\": \"light\"}, \"paper_bgcolor\": \"white\", \"plot_bgcolor\": \"#E5ECF6\", \"polar\": {\"angularaxis\": {\"gridcolor\": \"white\", \"linecolor\": \"white\", \"ticks\": \"\"}, \"bgcolor\": \"#E5ECF6\", \"radialaxis\": {\"gridcolor\": \"white\", \"linecolor\": \"white\", \"ticks\": \"\"}}, \"scene\": {\"xaxis\": {\"backgroundcolor\": \"#E5ECF6\", \"gridcolor\": \"white\", \"gridwidth\": 2, \"linecolor\": \"white\", \"showbackground\": true, \"ticks\": \"\", \"zerolinecolor\": \"white\"}, \"yaxis\": {\"backgroundcolor\": \"#E5ECF6\", \"gridcolor\": \"white\", \"gridwidth\": 2, \"linecolor\": \"white\", \"showbackground\": true, \"ticks\": \"\", \"zerolinecolor\": \"white\"}, \"zaxis\": {\"backgroundcolor\": \"#E5ECF6\", \"gridcolor\": \"white\", \"gridwidth\": 2, \"linecolor\": \"white\", \"showbackground\": true, \"ticks\": \"\", \"zerolinecolor\": \"white\"}}, \"shapedefaults\": {\"line\": {\"color\": \"#2a3f5f\"}}, \"ternary\": {\"aaxis\": {\"gridcolor\": \"white\", \"linecolor\": \"white\", \"ticks\": \"\"}, \"baxis\": {\"gridcolor\": \"white\", \"linecolor\": \"white\", \"ticks\": \"\"}, \"bgcolor\": \"#E5ECF6\", \"caxis\": {\"gridcolor\": \"white\", \"linecolor\": \"white\", \"ticks\": \"\"}}, \"title\": {\"x\": 0.05}, \"xaxis\": {\"automargin\": true, \"gridcolor\": \"white\", \"linecolor\": \"white\", \"ticks\": \"\", \"title\": {\"standoff\": 15}, \"zerolinecolor\": \"white\", \"zerolinewidth\": 2}, \"yaxis\": {\"automargin\": true, \"gridcolor\": \"white\", \"linecolor\": \"white\", \"ticks\": \"\", \"title\": {\"standoff\": 15}, \"zerolinecolor\": \"white\", \"zerolinewidth\": 2}}}, \"title\": {\"text\": \"Number of Acidents During the Day vs During the Night in 2017\"}},\n",
       "                        {\"responsive\": true}\n",
       "                    ).then(function(){\n",
       "                            \n",
       "var gd = document.getElementById('2c73351a-75bc-4c2b-bd1f-d5a35475be10');\n",
       "var x = new MutationObserver(function (mutations, observer) {{\n",
       "        var display = window.getComputedStyle(gd).display;\n",
       "        if (!display || display === 'none') {{\n",
       "            console.log([gd, 'removed!']);\n",
       "            Plotly.purge(gd);\n",
       "            observer.disconnect();\n",
       "        }}\n",
       "}});\n",
       "\n",
       "// Listen for the removal of the full notebook cells\n",
       "var notebookContainer = gd.closest('#notebook-container');\n",
       "if (notebookContainer) {{\n",
       "    x.observe(notebookContainer, {childList: true});\n",
       "}}\n",
       "\n",
       "// Listen for the clearing of the current output cell\n",
       "var outputEl = gd.closest('.output');\n",
       "if (outputEl) {{\n",
       "    x.observe(outputEl, {childList: true});\n",
       "}}\n",
       "\n",
       "                        })\n",
       "                };\n",
       "                });\n",
       "            </script>\n",
       "        </div>"
      ]
     },
     "metadata": {},
     "output_type": "display_data"
    }
   ],
   "source": [
    "df_dn_2017 = df_dn[df_dn['Start_Year'] == '2017']\n",
    "\n",
    "fig = go.Figure(data=go.Choropleth(locations = df_dn_2017['State'], # Spatial coordinates\n",
    "    z = df_dn_2017['Day/Night'], # Data to be color-coded\n",
    "    locationmode = 'USA-states', # set of locations match entries in `locations`\n",
    "    colorscale = 'Reds',\n",
    "    colorbar_title = 'Number of Acidents Day vs. Night',\n",
    "    text=df_dn_2017['Text'],\n",
    "))\n",
    "\n",
    "fig.update_layout(\n",
    "    title_text = 'Number of Acidents During the Day vs During the Night in 2017',\n",
    "    geo_scope='usa', # limite map scope to USA\n",
    ")\n",
    "\n",
    "fig.show()"
   ]
  },
  {
   "cell_type": "code",
   "execution_count": 36,
   "metadata": {},
   "outputs": [
    {
     "data": {
      "application/vnd.plotly.v1+json": {
       "config": {
        "plotlyServerURL": "https://plot.ly"
       },
       "data": [
        {
         "colorbar": {
          "title": {
           "text": "Number of Acidents Day vs. Night"
          }
         },
         "colorscale": [
          [
           0,
           "rgb(255,245,240)"
          ],
          [
           0.125,
           "rgb(254,224,210)"
          ],
          [
           0.25,
           "rgb(252,187,161)"
          ],
          [
           0.375,
           "rgb(252,146,114)"
          ],
          [
           0.5,
           "rgb(251,106,74)"
          ],
          [
           0.625,
           "rgb(239,59,44)"
          ],
          [
           0.75,
           "rgb(203,24,29)"
          ],
          [
           0.875,
           "rgb(165,15,21)"
          ],
          [
           1,
           "rgb(103,0,13)"
          ]
         ],
         "locationmode": "USA-states",
         "locations": [
          "AL",
          "AR",
          "AZ",
          "CA",
          "CO",
          "CT",
          "DC",
          "DE",
          "FL",
          "GA",
          "IA",
          "ID",
          "IL",
          "IN",
          "KS",
          "KY",
          "LA",
          "MA",
          "MD",
          "ME",
          "MI",
          "MN",
          "MO",
          "MS",
          "MT",
          "NC",
          "ND",
          "NE",
          "NH",
          "NJ",
          "NM",
          "NV",
          "NY",
          "OH",
          "OK",
          "OR",
          "PA",
          "RI",
          "SC",
          "SD",
          "TN",
          "TX",
          "UT",
          "VA",
          "VT",
          "WA",
          "WI",
          "WV",
          "WY"
         ],
         "text": [
          "Year 2016<br>Accidents during the day: 112.0<br>Accidents during the night: 23.0<br>State: AL",
          "Year 2016<br>Accidents during the day: 25.0<br>Accidents during the night: 1.0<br>State: AR",
          "Year 2016<br>Accidents during the day: 1946.0<br>Accidents during the night: 824.0<br>State: AZ",
          "Year 2016<br>Accidents during the day: 95343.0<br>Accidents during the night: 45111.0<br>State: CA",
          "Year 2016<br>Accidents during the day: 964.0<br>Accidents during the night: 360.0<br>State: CO",
          "Year 2016<br>Accidents during the day: 3261.0<br>Accidents during the night: 940.0<br>State: CT",
          "Year 2016<br>Accidents during the day: 318.0<br>Accidents during the night: 135.0<br>State: DC",
          "Year 2016<br>Accidents during the day: 189.0<br>Accidents during the night: 90.0<br>State: DE",
          "Year 2016<br>Accidents during the day: 29021.0<br>Accidents during the night: 8000.0<br>State: FL",
          "Year 2016<br>Accidents during the day: 9835.0<br>Accidents during the night: 3407.0<br>State: GA",
          "Year 2016<br>Accidents during the day: 1386.0<br>Accidents during the night: 619.0<br>State: IA",
          "Year 2016<br>Accidents during the day: 277.0<br>Accidents during the night: 142.0<br>State: ID",
          "Year 2016<br>Accidents during the day: 12931.0<br>Accidents during the night: 4146.0<br>State: IL",
          "Year 2016<br>Accidents during the day: 1171.0<br>Accidents during the night: 452.0<br>State: IN",
          "Year 2016<br>Accidents during the day: 577.0<br>Accidents during the night: 185.0<br>State: KS",
          "Year 2016<br>Accidents during the day: 806.0<br>Accidents during the night: 262.0<br>State: KY",
          "Year 2016<br>Accidents during the day: 617.0<br>Accidents during the night: 232.0<br>State: LA",
          "Year 2016<br>Accidents during the day: 4165.0<br>Accidents during the night: 1032.0<br>State: MA",
          "Year 2016<br>Accidents during the day: 5276.0<br>Accidents during the night: 2258.0<br>State: MD",
          "Year 2016<br>Accidents during the day: 101.0<br>Accidents during the night: 34.0<br>State: ME",
          "Year 2016<br>Accidents during the day: 11482.0<br>Accidents during the night: 5148.0<br>State: MI",
          "Year 2016<br>Accidents during the day: 1647.0<br>Accidents during the night: 920.0<br>State: MN",
          "Year 2016<br>Accidents during the day: 2865.0<br>Accidents during the night: 893.0<br>State: MO",
          "Year 2016<br>Accidents during the day: 331.0<br>Accidents during the night: 71.0<br>State: MS",
          "Year 2016<br>Accidents during the day: 48.0<br>Accidents during the night: 14.0<br>State: MT",
          "Year 2016<br>Accidents during the day: 5132.0<br>Accidents during the night: 1015.0<br>State: NC",
          "Year 2016<br>Accidents during the day: 1.0<br>Accidents during the night: 2.0<br>State: ND",
          "Year 2016<br>Accidents during the day: 5196.0<br>Accidents during the night: 614.0<br>State: NE",
          "Year 2016<br>Accidents during the day: 222.0<br>Accidents during the night: 93.0<br>State: NH",
          "Year 2016<br>Accidents during the day: 5951.0<br>Accidents during the night: 1963.0<br>State: NJ",
          "Year 2016<br>Accidents during the day: 123.0<br>Accidents during the night: 30.0<br>State: NM",
          "Year 2016<br>Accidents during the day: 975.0<br>Accidents during the night: 382.0<br>State: NV",
          "Year 2016<br>Accidents during the day: 14634.0<br>Accidents during the night: 5382.0<br>State: NY",
          "Year 2016<br>Accidents during the day: 8806.0<br>Accidents during the night: 2524.0<br>State: OH",
          "Year 2016<br>Accidents during the day: 416.0<br>Accidents during the night: 154.0<br>State: OK",
          "Year 2016<br>Accidents during the day: 713.0<br>Accidents during the night: 313.0<br>State: OR",
          "Year 2016<br>Accidents during the day: 16315.0<br>Accidents during the night: 4893.0<br>State: PA",
          "Year 2016<br>Accidents during the day: 1116.0<br>Accidents during the night: 287.0<br>State: RI",
          "Year 2016<br>Accidents during the day: 2231.0<br>Accidents during the night: 784.0<br>State: SC",
          "Year 2016<br>Accidents during the day: 8.0<br>Accidents during the night: nan<br>State: SD",
          "Year 2016<br>Accidents during the day: 1234.0<br>Accidents during the night: 454.0<br>State: TN",
          "Year 2016<br>Accidents during the day: 37531.0<br>Accidents during the night: 12235.0<br>State: TX",
          "Year 2016<br>Accidents during the day: 736.0<br>Accidents during the night: 232.0<br>State: UT",
          "Year 2016<br>Accidents during the day: 4543.0<br>Accidents during the night: 1947.0<br>State: VA",
          "Year 2016<br>Accidents during the day: 9.0<br>Accidents during the night: 8.0<br>State: VT",
          "Year 2016<br>Accidents during the day: 5806.0<br>Accidents during the night: 3511.0<br>State: WA",
          "Year 2016<br>Accidents during the day: 1132.0<br>Accidents during the night: 430.0<br>State: WI",
          "Year 2016<br>Accidents during the day: 308.0<br>Accidents during the night: 121.0<br>State: WV",
          "Year 2016<br>Accidents during the day: 47.0<br>Accidents during the night: 22.0<br>State: WY"
         ],
         "type": "choropleth",
         "z": [
          4.869565217391305,
          25,
          2.3616504854368934,
          2.1135199840393697,
          2.6777777777777776,
          3.4691489361702126,
          2.3555555555555556,
          2.1,
          3.627625,
          2.8867038450249485,
          2.2390953150242328,
          1.9507042253521127,
          3.118909792571153,
          2.59070796460177,
          3.118918918918919,
          3.0763358778625953,
          2.6594827586206895,
          4.035852713178294,
          2.336581045172719,
          2.9705882352941178,
          2.2303807303807304,
          1.7902173913043478,
          3.2082866741321387,
          4.661971830985915,
          3.4285714285714284,
          5.05615763546798,
          0.5,
          8.462540716612377,
          2.3870967741935485,
          3.0315843097300053,
          4.1,
          2.5523560209424083,
          2.719063545150502,
          3.488906497622821,
          2.7012987012987013,
          2.2779552715654954,
          3.334355201307991,
          3.8885017421602788,
          2.8456632653061225,
          null,
          2.7180616740088106,
          3.0675112382509195,
          3.1724137931034484,
          2.3333333333333335,
          1.125,
          1.6536599259470237,
          2.6325581395348836,
          2.5454545454545454,
          2.1363636363636362
         ]
        }
       ],
       "layout": {
        "geo": {
         "scope": "usa"
        },
        "template": {
         "data": {
          "bar": [
           {
            "error_x": {
             "color": "#2a3f5f"
            },
            "error_y": {
             "color": "#2a3f5f"
            },
            "marker": {
             "line": {
              "color": "#E5ECF6",
              "width": 0.5
             }
            },
            "type": "bar"
           }
          ],
          "barpolar": [
           {
            "marker": {
             "line": {
              "color": "#E5ECF6",
              "width": 0.5
             }
            },
            "type": "barpolar"
           }
          ],
          "carpet": [
           {
            "aaxis": {
             "endlinecolor": "#2a3f5f",
             "gridcolor": "white",
             "linecolor": "white",
             "minorgridcolor": "white",
             "startlinecolor": "#2a3f5f"
            },
            "baxis": {
             "endlinecolor": "#2a3f5f",
             "gridcolor": "white",
             "linecolor": "white",
             "minorgridcolor": "white",
             "startlinecolor": "#2a3f5f"
            },
            "type": "carpet"
           }
          ],
          "choropleth": [
           {
            "colorbar": {
             "outlinewidth": 0,
             "ticks": ""
            },
            "type": "choropleth"
           }
          ],
          "contour": [
           {
            "colorbar": {
             "outlinewidth": 0,
             "ticks": ""
            },
            "colorscale": [
             [
              0,
              "#0d0887"
             ],
             [
              0.1111111111111111,
              "#46039f"
             ],
             [
              0.2222222222222222,
              "#7201a8"
             ],
             [
              0.3333333333333333,
              "#9c179e"
             ],
             [
              0.4444444444444444,
              "#bd3786"
             ],
             [
              0.5555555555555556,
              "#d8576b"
             ],
             [
              0.6666666666666666,
              "#ed7953"
             ],
             [
              0.7777777777777778,
              "#fb9f3a"
             ],
             [
              0.8888888888888888,
              "#fdca26"
             ],
             [
              1,
              "#f0f921"
             ]
            ],
            "type": "contour"
           }
          ],
          "contourcarpet": [
           {
            "colorbar": {
             "outlinewidth": 0,
             "ticks": ""
            },
            "type": "contourcarpet"
           }
          ],
          "heatmap": [
           {
            "colorbar": {
             "outlinewidth": 0,
             "ticks": ""
            },
            "colorscale": [
             [
              0,
              "#0d0887"
             ],
             [
              0.1111111111111111,
              "#46039f"
             ],
             [
              0.2222222222222222,
              "#7201a8"
             ],
             [
              0.3333333333333333,
              "#9c179e"
             ],
             [
              0.4444444444444444,
              "#bd3786"
             ],
             [
              0.5555555555555556,
              "#d8576b"
             ],
             [
              0.6666666666666666,
              "#ed7953"
             ],
             [
              0.7777777777777778,
              "#fb9f3a"
             ],
             [
              0.8888888888888888,
              "#fdca26"
             ],
             [
              1,
              "#f0f921"
             ]
            ],
            "type": "heatmap"
           }
          ],
          "heatmapgl": [
           {
            "colorbar": {
             "outlinewidth": 0,
             "ticks": ""
            },
            "colorscale": [
             [
              0,
              "#0d0887"
             ],
             [
              0.1111111111111111,
              "#46039f"
             ],
             [
              0.2222222222222222,
              "#7201a8"
             ],
             [
              0.3333333333333333,
              "#9c179e"
             ],
             [
              0.4444444444444444,
              "#bd3786"
             ],
             [
              0.5555555555555556,
              "#d8576b"
             ],
             [
              0.6666666666666666,
              "#ed7953"
             ],
             [
              0.7777777777777778,
              "#fb9f3a"
             ],
             [
              0.8888888888888888,
              "#fdca26"
             ],
             [
              1,
              "#f0f921"
             ]
            ],
            "type": "heatmapgl"
           }
          ],
          "histogram": [
           {
            "marker": {
             "colorbar": {
              "outlinewidth": 0,
              "ticks": ""
             }
            },
            "type": "histogram"
           }
          ],
          "histogram2d": [
           {
            "colorbar": {
             "outlinewidth": 0,
             "ticks": ""
            },
            "colorscale": [
             [
              0,
              "#0d0887"
             ],
             [
              0.1111111111111111,
              "#46039f"
             ],
             [
              0.2222222222222222,
              "#7201a8"
             ],
             [
              0.3333333333333333,
              "#9c179e"
             ],
             [
              0.4444444444444444,
              "#bd3786"
             ],
             [
              0.5555555555555556,
              "#d8576b"
             ],
             [
              0.6666666666666666,
              "#ed7953"
             ],
             [
              0.7777777777777778,
              "#fb9f3a"
             ],
             [
              0.8888888888888888,
              "#fdca26"
             ],
             [
              1,
              "#f0f921"
             ]
            ],
            "type": "histogram2d"
           }
          ],
          "histogram2dcontour": [
           {
            "colorbar": {
             "outlinewidth": 0,
             "ticks": ""
            },
            "colorscale": [
             [
              0,
              "#0d0887"
             ],
             [
              0.1111111111111111,
              "#46039f"
             ],
             [
              0.2222222222222222,
              "#7201a8"
             ],
             [
              0.3333333333333333,
              "#9c179e"
             ],
             [
              0.4444444444444444,
              "#bd3786"
             ],
             [
              0.5555555555555556,
              "#d8576b"
             ],
             [
              0.6666666666666666,
              "#ed7953"
             ],
             [
              0.7777777777777778,
              "#fb9f3a"
             ],
             [
              0.8888888888888888,
              "#fdca26"
             ],
             [
              1,
              "#f0f921"
             ]
            ],
            "type": "histogram2dcontour"
           }
          ],
          "mesh3d": [
           {
            "colorbar": {
             "outlinewidth": 0,
             "ticks": ""
            },
            "type": "mesh3d"
           }
          ],
          "parcoords": [
           {
            "line": {
             "colorbar": {
              "outlinewidth": 0,
              "ticks": ""
             }
            },
            "type": "parcoords"
           }
          ],
          "pie": [
           {
            "automargin": true,
            "type": "pie"
           }
          ],
          "scatter": [
           {
            "marker": {
             "colorbar": {
              "outlinewidth": 0,
              "ticks": ""
             }
            },
            "type": "scatter"
           }
          ],
          "scatter3d": [
           {
            "line": {
             "colorbar": {
              "outlinewidth": 0,
              "ticks": ""
             }
            },
            "marker": {
             "colorbar": {
              "outlinewidth": 0,
              "ticks": ""
             }
            },
            "type": "scatter3d"
           }
          ],
          "scattercarpet": [
           {
            "marker": {
             "colorbar": {
              "outlinewidth": 0,
              "ticks": ""
             }
            },
            "type": "scattercarpet"
           }
          ],
          "scattergeo": [
           {
            "marker": {
             "colorbar": {
              "outlinewidth": 0,
              "ticks": ""
             }
            },
            "type": "scattergeo"
           }
          ],
          "scattergl": [
           {
            "marker": {
             "colorbar": {
              "outlinewidth": 0,
              "ticks": ""
             }
            },
            "type": "scattergl"
           }
          ],
          "scattermapbox": [
           {
            "marker": {
             "colorbar": {
              "outlinewidth": 0,
              "ticks": ""
             }
            },
            "type": "scattermapbox"
           }
          ],
          "scatterpolar": [
           {
            "marker": {
             "colorbar": {
              "outlinewidth": 0,
              "ticks": ""
             }
            },
            "type": "scatterpolar"
           }
          ],
          "scatterpolargl": [
           {
            "marker": {
             "colorbar": {
              "outlinewidth": 0,
              "ticks": ""
             }
            },
            "type": "scatterpolargl"
           }
          ],
          "scatterternary": [
           {
            "marker": {
             "colorbar": {
              "outlinewidth": 0,
              "ticks": ""
             }
            },
            "type": "scatterternary"
           }
          ],
          "surface": [
           {
            "colorbar": {
             "outlinewidth": 0,
             "ticks": ""
            },
            "colorscale": [
             [
              0,
              "#0d0887"
             ],
             [
              0.1111111111111111,
              "#46039f"
             ],
             [
              0.2222222222222222,
              "#7201a8"
             ],
             [
              0.3333333333333333,
              "#9c179e"
             ],
             [
              0.4444444444444444,
              "#bd3786"
             ],
             [
              0.5555555555555556,
              "#d8576b"
             ],
             [
              0.6666666666666666,
              "#ed7953"
             ],
             [
              0.7777777777777778,
              "#fb9f3a"
             ],
             [
              0.8888888888888888,
              "#fdca26"
             ],
             [
              1,
              "#f0f921"
             ]
            ],
            "type": "surface"
           }
          ],
          "table": [
           {
            "cells": {
             "fill": {
              "color": "#EBF0F8"
             },
             "line": {
              "color": "white"
             }
            },
            "header": {
             "fill": {
              "color": "#C8D4E3"
             },
             "line": {
              "color": "white"
             }
            },
            "type": "table"
           }
          ]
         },
         "layout": {
          "annotationdefaults": {
           "arrowcolor": "#2a3f5f",
           "arrowhead": 0,
           "arrowwidth": 1
          },
          "coloraxis": {
           "colorbar": {
            "outlinewidth": 0,
            "ticks": ""
           }
          },
          "colorscale": {
           "diverging": [
            [
             0,
             "#8e0152"
            ],
            [
             0.1,
             "#c51b7d"
            ],
            [
             0.2,
             "#de77ae"
            ],
            [
             0.3,
             "#f1b6da"
            ],
            [
             0.4,
             "#fde0ef"
            ],
            [
             0.5,
             "#f7f7f7"
            ],
            [
             0.6,
             "#e6f5d0"
            ],
            [
             0.7,
             "#b8e186"
            ],
            [
             0.8,
             "#7fbc41"
            ],
            [
             0.9,
             "#4d9221"
            ],
            [
             1,
             "#276419"
            ]
           ],
           "sequential": [
            [
             0,
             "#0d0887"
            ],
            [
             0.1111111111111111,
             "#46039f"
            ],
            [
             0.2222222222222222,
             "#7201a8"
            ],
            [
             0.3333333333333333,
             "#9c179e"
            ],
            [
             0.4444444444444444,
             "#bd3786"
            ],
            [
             0.5555555555555556,
             "#d8576b"
            ],
            [
             0.6666666666666666,
             "#ed7953"
            ],
            [
             0.7777777777777778,
             "#fb9f3a"
            ],
            [
             0.8888888888888888,
             "#fdca26"
            ],
            [
             1,
             "#f0f921"
            ]
           ],
           "sequentialminus": [
            [
             0,
             "#0d0887"
            ],
            [
             0.1111111111111111,
             "#46039f"
            ],
            [
             0.2222222222222222,
             "#7201a8"
            ],
            [
             0.3333333333333333,
             "#9c179e"
            ],
            [
             0.4444444444444444,
             "#bd3786"
            ],
            [
             0.5555555555555556,
             "#d8576b"
            ],
            [
             0.6666666666666666,
             "#ed7953"
            ],
            [
             0.7777777777777778,
             "#fb9f3a"
            ],
            [
             0.8888888888888888,
             "#fdca26"
            ],
            [
             1,
             "#f0f921"
            ]
           ]
          },
          "colorway": [
           "#636efa",
           "#EF553B",
           "#00cc96",
           "#ab63fa",
           "#FFA15A",
           "#19d3f3",
           "#FF6692",
           "#B6E880",
           "#FF97FF",
           "#FECB52"
          ],
          "font": {
           "color": "#2a3f5f"
          },
          "geo": {
           "bgcolor": "white",
           "lakecolor": "white",
           "landcolor": "#E5ECF6",
           "showlakes": true,
           "showland": true,
           "subunitcolor": "white"
          },
          "hoverlabel": {
           "align": "left"
          },
          "hovermode": "closest",
          "mapbox": {
           "style": "light"
          },
          "paper_bgcolor": "white",
          "plot_bgcolor": "#E5ECF6",
          "polar": {
           "angularaxis": {
            "gridcolor": "white",
            "linecolor": "white",
            "ticks": ""
           },
           "bgcolor": "#E5ECF6",
           "radialaxis": {
            "gridcolor": "white",
            "linecolor": "white",
            "ticks": ""
           }
          },
          "scene": {
           "xaxis": {
            "backgroundcolor": "#E5ECF6",
            "gridcolor": "white",
            "gridwidth": 2,
            "linecolor": "white",
            "showbackground": true,
            "ticks": "",
            "zerolinecolor": "white"
           },
           "yaxis": {
            "backgroundcolor": "#E5ECF6",
            "gridcolor": "white",
            "gridwidth": 2,
            "linecolor": "white",
            "showbackground": true,
            "ticks": "",
            "zerolinecolor": "white"
           },
           "zaxis": {
            "backgroundcolor": "#E5ECF6",
            "gridcolor": "white",
            "gridwidth": 2,
            "linecolor": "white",
            "showbackground": true,
            "ticks": "",
            "zerolinecolor": "white"
           }
          },
          "shapedefaults": {
           "line": {
            "color": "#2a3f5f"
           }
          },
          "ternary": {
           "aaxis": {
            "gridcolor": "white",
            "linecolor": "white",
            "ticks": ""
           },
           "baxis": {
            "gridcolor": "white",
            "linecolor": "white",
            "ticks": ""
           },
           "bgcolor": "#E5ECF6",
           "caxis": {
            "gridcolor": "white",
            "linecolor": "white",
            "ticks": ""
           }
          },
          "title": {
           "x": 0.05
          },
          "xaxis": {
           "automargin": true,
           "gridcolor": "white",
           "linecolor": "white",
           "ticks": "",
           "title": {
            "standoff": 15
           },
           "zerolinecolor": "white",
           "zerolinewidth": 2
          },
          "yaxis": {
           "automargin": true,
           "gridcolor": "white",
           "linecolor": "white",
           "ticks": "",
           "title": {
            "standoff": 15
           },
           "zerolinecolor": "white",
           "zerolinewidth": 2
          }
         }
        },
        "title": {
         "text": "Number of Acidents During the Day vs During the Night in 2016"
        }
       }
      },
      "text/html": [
       "<div>\n",
       "        \n",
       "        \n",
       "            <div id=\"2bfe5093-28ef-4abb-bcc8-9bbf865e737c\" class=\"plotly-graph-div\" style=\"height:525px; width:100%;\"></div>\n",
       "            <script type=\"text/javascript\">\n",
       "                require([\"plotly\"], function(Plotly) {\n",
       "                    window.PLOTLYENV=window.PLOTLYENV || {};\n",
       "                    \n",
       "                if (document.getElementById(\"2bfe5093-28ef-4abb-bcc8-9bbf865e737c\")) {\n",
       "                    Plotly.newPlot(\n",
       "                        '2bfe5093-28ef-4abb-bcc8-9bbf865e737c',\n",
       "                        [{\"colorbar\": {\"title\": {\"text\": \"Number of Acidents Day vs. Night\"}}, \"colorscale\": [[0.0, \"rgb(255,245,240)\"], [0.125, \"rgb(254,224,210)\"], [0.25, \"rgb(252,187,161)\"], [0.375, \"rgb(252,146,114)\"], [0.5, \"rgb(251,106,74)\"], [0.625, \"rgb(239,59,44)\"], [0.75, \"rgb(203,24,29)\"], [0.875, \"rgb(165,15,21)\"], [1.0, \"rgb(103,0,13)\"]], \"locationmode\": \"USA-states\", \"locations\": [\"AL\", \"AR\", \"AZ\", \"CA\", \"CO\", \"CT\", \"DC\", \"DE\", \"FL\", \"GA\", \"IA\", \"ID\", \"IL\", \"IN\", \"KS\", \"KY\", \"LA\", \"MA\", \"MD\", \"ME\", \"MI\", \"MN\", \"MO\", \"MS\", \"MT\", \"NC\", \"ND\", \"NE\", \"NH\", \"NJ\", \"NM\", \"NV\", \"NY\", \"OH\", \"OK\", \"OR\", \"PA\", \"RI\", \"SC\", \"SD\", \"TN\", \"TX\", \"UT\", \"VA\", \"VT\", \"WA\", \"WI\", \"WV\", \"WY\"], \"text\": [\"Year 2016<br>Accidents during the day: 112.0<br>Accidents during the night: 23.0<br>State: AL\", \"Year 2016<br>Accidents during the day: 25.0<br>Accidents during the night: 1.0<br>State: AR\", \"Year 2016<br>Accidents during the day: 1946.0<br>Accidents during the night: 824.0<br>State: AZ\", \"Year 2016<br>Accidents during the day: 95343.0<br>Accidents during the night: 45111.0<br>State: CA\", \"Year 2016<br>Accidents during the day: 964.0<br>Accidents during the night: 360.0<br>State: CO\", \"Year 2016<br>Accidents during the day: 3261.0<br>Accidents during the night: 940.0<br>State: CT\", \"Year 2016<br>Accidents during the day: 318.0<br>Accidents during the night: 135.0<br>State: DC\", \"Year 2016<br>Accidents during the day: 189.0<br>Accidents during the night: 90.0<br>State: DE\", \"Year 2016<br>Accidents during the day: 29021.0<br>Accidents during the night: 8000.0<br>State: FL\", \"Year 2016<br>Accidents during the day: 9835.0<br>Accidents during the night: 3407.0<br>State: GA\", \"Year 2016<br>Accidents during the day: 1386.0<br>Accidents during the night: 619.0<br>State: IA\", \"Year 2016<br>Accidents during the day: 277.0<br>Accidents during the night: 142.0<br>State: ID\", \"Year 2016<br>Accidents during the day: 12931.0<br>Accidents during the night: 4146.0<br>State: IL\", \"Year 2016<br>Accidents during the day: 1171.0<br>Accidents during the night: 452.0<br>State: IN\", \"Year 2016<br>Accidents during the day: 577.0<br>Accidents during the night: 185.0<br>State: KS\", \"Year 2016<br>Accidents during the day: 806.0<br>Accidents during the night: 262.0<br>State: KY\", \"Year 2016<br>Accidents during the day: 617.0<br>Accidents during the night: 232.0<br>State: LA\", \"Year 2016<br>Accidents during the day: 4165.0<br>Accidents during the night: 1032.0<br>State: MA\", \"Year 2016<br>Accidents during the day: 5276.0<br>Accidents during the night: 2258.0<br>State: MD\", \"Year 2016<br>Accidents during the day: 101.0<br>Accidents during the night: 34.0<br>State: ME\", \"Year 2016<br>Accidents during the day: 11482.0<br>Accidents during the night: 5148.0<br>State: MI\", \"Year 2016<br>Accidents during the day: 1647.0<br>Accidents during the night: 920.0<br>State: MN\", \"Year 2016<br>Accidents during the day: 2865.0<br>Accidents during the night: 893.0<br>State: MO\", \"Year 2016<br>Accidents during the day: 331.0<br>Accidents during the night: 71.0<br>State: MS\", \"Year 2016<br>Accidents during the day: 48.0<br>Accidents during the night: 14.0<br>State: MT\", \"Year 2016<br>Accidents during the day: 5132.0<br>Accidents during the night: 1015.0<br>State: NC\", \"Year 2016<br>Accidents during the day: 1.0<br>Accidents during the night: 2.0<br>State: ND\", \"Year 2016<br>Accidents during the day: 5196.0<br>Accidents during the night: 614.0<br>State: NE\", \"Year 2016<br>Accidents during the day: 222.0<br>Accidents during the night: 93.0<br>State: NH\", \"Year 2016<br>Accidents during the day: 5951.0<br>Accidents during the night: 1963.0<br>State: NJ\", \"Year 2016<br>Accidents during the day: 123.0<br>Accidents during the night: 30.0<br>State: NM\", \"Year 2016<br>Accidents during the day: 975.0<br>Accidents during the night: 382.0<br>State: NV\", \"Year 2016<br>Accidents during the day: 14634.0<br>Accidents during the night: 5382.0<br>State: NY\", \"Year 2016<br>Accidents during the day: 8806.0<br>Accidents during the night: 2524.0<br>State: OH\", \"Year 2016<br>Accidents during the day: 416.0<br>Accidents during the night: 154.0<br>State: OK\", \"Year 2016<br>Accidents during the day: 713.0<br>Accidents during the night: 313.0<br>State: OR\", \"Year 2016<br>Accidents during the day: 16315.0<br>Accidents during the night: 4893.0<br>State: PA\", \"Year 2016<br>Accidents during the day: 1116.0<br>Accidents during the night: 287.0<br>State: RI\", \"Year 2016<br>Accidents during the day: 2231.0<br>Accidents during the night: 784.0<br>State: SC\", \"Year 2016<br>Accidents during the day: 8.0<br>Accidents during the night: nan<br>State: SD\", \"Year 2016<br>Accidents during the day: 1234.0<br>Accidents during the night: 454.0<br>State: TN\", \"Year 2016<br>Accidents during the day: 37531.0<br>Accidents during the night: 12235.0<br>State: TX\", \"Year 2016<br>Accidents during the day: 736.0<br>Accidents during the night: 232.0<br>State: UT\", \"Year 2016<br>Accidents during the day: 4543.0<br>Accidents during the night: 1947.0<br>State: VA\", \"Year 2016<br>Accidents during the day: 9.0<br>Accidents during the night: 8.0<br>State: VT\", \"Year 2016<br>Accidents during the day: 5806.0<br>Accidents during the night: 3511.0<br>State: WA\", \"Year 2016<br>Accidents during the day: 1132.0<br>Accidents during the night: 430.0<br>State: WI\", \"Year 2016<br>Accidents during the day: 308.0<br>Accidents during the night: 121.0<br>State: WV\", \"Year 2016<br>Accidents during the day: 47.0<br>Accidents during the night: 22.0<br>State: WY\"], \"type\": \"choropleth\", \"z\": [4.869565217391305, 25.0, 2.3616504854368934, 2.1135199840393697, 2.6777777777777776, 3.4691489361702126, 2.3555555555555556, 2.1, 3.627625, 2.8867038450249485, 2.2390953150242328, 1.9507042253521127, 3.118909792571153, 2.59070796460177, 3.118918918918919, 3.0763358778625953, 2.6594827586206895, 4.035852713178294, 2.336581045172719, 2.9705882352941178, 2.2303807303807304, 1.7902173913043478, 3.2082866741321387, 4.661971830985915, 3.4285714285714284, 5.05615763546798, 0.5, 8.462540716612377, 2.3870967741935485, 3.0315843097300053, 4.1, 2.5523560209424083, 2.719063545150502, 3.488906497622821, 2.7012987012987013, 2.2779552715654954, 3.334355201307991, 3.8885017421602788, 2.8456632653061225, null, 2.7180616740088106, 3.0675112382509195, 3.1724137931034484, 2.3333333333333335, 1.125, 1.6536599259470237, 2.6325581395348836, 2.5454545454545454, 2.1363636363636362]}],\n",
       "                        {\"geo\": {\"scope\": \"usa\"}, \"template\": {\"data\": {\"bar\": [{\"error_x\": {\"color\": \"#2a3f5f\"}, \"error_y\": {\"color\": \"#2a3f5f\"}, \"marker\": {\"line\": {\"color\": \"#E5ECF6\", \"width\": 0.5}}, \"type\": \"bar\"}], \"barpolar\": [{\"marker\": {\"line\": {\"color\": \"#E5ECF6\", \"width\": 0.5}}, \"type\": \"barpolar\"}], \"carpet\": [{\"aaxis\": {\"endlinecolor\": \"#2a3f5f\", \"gridcolor\": \"white\", \"linecolor\": \"white\", \"minorgridcolor\": \"white\", \"startlinecolor\": \"#2a3f5f\"}, \"baxis\": {\"endlinecolor\": \"#2a3f5f\", \"gridcolor\": \"white\", \"linecolor\": \"white\", \"minorgridcolor\": \"white\", \"startlinecolor\": \"#2a3f5f\"}, \"type\": \"carpet\"}], \"choropleth\": [{\"colorbar\": {\"outlinewidth\": 0, \"ticks\": \"\"}, \"type\": \"choropleth\"}], \"contour\": [{\"colorbar\": {\"outlinewidth\": 0, \"ticks\": \"\"}, \"colorscale\": [[0.0, \"#0d0887\"], [0.1111111111111111, \"#46039f\"], [0.2222222222222222, \"#7201a8\"], [0.3333333333333333, \"#9c179e\"], [0.4444444444444444, \"#bd3786\"], [0.5555555555555556, \"#d8576b\"], [0.6666666666666666, \"#ed7953\"], [0.7777777777777778, \"#fb9f3a\"], [0.8888888888888888, \"#fdca26\"], [1.0, \"#f0f921\"]], \"type\": \"contour\"}], \"contourcarpet\": [{\"colorbar\": {\"outlinewidth\": 0, \"ticks\": \"\"}, \"type\": \"contourcarpet\"}], \"heatmap\": [{\"colorbar\": {\"outlinewidth\": 0, \"ticks\": \"\"}, \"colorscale\": [[0.0, \"#0d0887\"], [0.1111111111111111, \"#46039f\"], [0.2222222222222222, \"#7201a8\"], [0.3333333333333333, \"#9c179e\"], [0.4444444444444444, \"#bd3786\"], [0.5555555555555556, \"#d8576b\"], [0.6666666666666666, \"#ed7953\"], [0.7777777777777778, \"#fb9f3a\"], [0.8888888888888888, \"#fdca26\"], [1.0, \"#f0f921\"]], \"type\": \"heatmap\"}], \"heatmapgl\": [{\"colorbar\": {\"outlinewidth\": 0, \"ticks\": \"\"}, \"colorscale\": [[0.0, \"#0d0887\"], [0.1111111111111111, \"#46039f\"], [0.2222222222222222, \"#7201a8\"], [0.3333333333333333, \"#9c179e\"], [0.4444444444444444, \"#bd3786\"], [0.5555555555555556, \"#d8576b\"], [0.6666666666666666, \"#ed7953\"], [0.7777777777777778, \"#fb9f3a\"], [0.8888888888888888, \"#fdca26\"], [1.0, \"#f0f921\"]], \"type\": \"heatmapgl\"}], \"histogram\": [{\"marker\": {\"colorbar\": {\"outlinewidth\": 0, \"ticks\": \"\"}}, \"type\": \"histogram\"}], \"histogram2d\": [{\"colorbar\": {\"outlinewidth\": 0, \"ticks\": \"\"}, \"colorscale\": [[0.0, \"#0d0887\"], [0.1111111111111111, \"#46039f\"], [0.2222222222222222, \"#7201a8\"], [0.3333333333333333, \"#9c179e\"], [0.4444444444444444, \"#bd3786\"], [0.5555555555555556, \"#d8576b\"], [0.6666666666666666, \"#ed7953\"], [0.7777777777777778, \"#fb9f3a\"], [0.8888888888888888, \"#fdca26\"], [1.0, \"#f0f921\"]], \"type\": \"histogram2d\"}], \"histogram2dcontour\": [{\"colorbar\": {\"outlinewidth\": 0, \"ticks\": \"\"}, \"colorscale\": [[0.0, \"#0d0887\"], [0.1111111111111111, \"#46039f\"], [0.2222222222222222, \"#7201a8\"], [0.3333333333333333, \"#9c179e\"], [0.4444444444444444, \"#bd3786\"], [0.5555555555555556, \"#d8576b\"], [0.6666666666666666, \"#ed7953\"], [0.7777777777777778, \"#fb9f3a\"], [0.8888888888888888, \"#fdca26\"], [1.0, \"#f0f921\"]], \"type\": \"histogram2dcontour\"}], \"mesh3d\": [{\"colorbar\": {\"outlinewidth\": 0, \"ticks\": \"\"}, \"type\": \"mesh3d\"}], \"parcoords\": [{\"line\": {\"colorbar\": {\"outlinewidth\": 0, \"ticks\": \"\"}}, \"type\": \"parcoords\"}], \"pie\": [{\"automargin\": true, \"type\": \"pie\"}], \"scatter\": [{\"marker\": {\"colorbar\": {\"outlinewidth\": 0, \"ticks\": \"\"}}, \"type\": \"scatter\"}], \"scatter3d\": [{\"line\": {\"colorbar\": {\"outlinewidth\": 0, \"ticks\": \"\"}}, \"marker\": {\"colorbar\": {\"outlinewidth\": 0, \"ticks\": \"\"}}, \"type\": \"scatter3d\"}], \"scattercarpet\": [{\"marker\": {\"colorbar\": {\"outlinewidth\": 0, \"ticks\": \"\"}}, \"type\": \"scattercarpet\"}], \"scattergeo\": [{\"marker\": {\"colorbar\": {\"outlinewidth\": 0, \"ticks\": \"\"}}, \"type\": \"scattergeo\"}], \"scattergl\": [{\"marker\": {\"colorbar\": {\"outlinewidth\": 0, \"ticks\": \"\"}}, \"type\": \"scattergl\"}], \"scattermapbox\": [{\"marker\": {\"colorbar\": {\"outlinewidth\": 0, \"ticks\": \"\"}}, \"type\": \"scattermapbox\"}], \"scatterpolar\": [{\"marker\": {\"colorbar\": {\"outlinewidth\": 0, \"ticks\": \"\"}}, \"type\": \"scatterpolar\"}], \"scatterpolargl\": [{\"marker\": {\"colorbar\": {\"outlinewidth\": 0, \"ticks\": \"\"}}, \"type\": \"scatterpolargl\"}], \"scatterternary\": [{\"marker\": {\"colorbar\": {\"outlinewidth\": 0, \"ticks\": \"\"}}, \"type\": \"scatterternary\"}], \"surface\": [{\"colorbar\": {\"outlinewidth\": 0, \"ticks\": \"\"}, \"colorscale\": [[0.0, \"#0d0887\"], [0.1111111111111111, \"#46039f\"], [0.2222222222222222, \"#7201a8\"], [0.3333333333333333, \"#9c179e\"], [0.4444444444444444, \"#bd3786\"], [0.5555555555555556, \"#d8576b\"], [0.6666666666666666, \"#ed7953\"], [0.7777777777777778, \"#fb9f3a\"], [0.8888888888888888, \"#fdca26\"], [1.0, \"#f0f921\"]], \"type\": \"surface\"}], \"table\": [{\"cells\": {\"fill\": {\"color\": \"#EBF0F8\"}, \"line\": {\"color\": \"white\"}}, \"header\": {\"fill\": {\"color\": \"#C8D4E3\"}, \"line\": {\"color\": \"white\"}}, \"type\": \"table\"}]}, \"layout\": {\"annotationdefaults\": {\"arrowcolor\": \"#2a3f5f\", \"arrowhead\": 0, \"arrowwidth\": 1}, \"coloraxis\": {\"colorbar\": {\"outlinewidth\": 0, \"ticks\": \"\"}}, \"colorscale\": {\"diverging\": [[0, \"#8e0152\"], [0.1, \"#c51b7d\"], [0.2, \"#de77ae\"], [0.3, \"#f1b6da\"], [0.4, \"#fde0ef\"], [0.5, \"#f7f7f7\"], [0.6, \"#e6f5d0\"], [0.7, \"#b8e186\"], [0.8, \"#7fbc41\"], [0.9, \"#4d9221\"], [1, \"#276419\"]], \"sequential\": [[0.0, \"#0d0887\"], [0.1111111111111111, \"#46039f\"], [0.2222222222222222, \"#7201a8\"], [0.3333333333333333, \"#9c179e\"], [0.4444444444444444, \"#bd3786\"], [0.5555555555555556, \"#d8576b\"], [0.6666666666666666, \"#ed7953\"], [0.7777777777777778, \"#fb9f3a\"], [0.8888888888888888, \"#fdca26\"], [1.0, \"#f0f921\"]], \"sequentialminus\": [[0.0, \"#0d0887\"], [0.1111111111111111, \"#46039f\"], [0.2222222222222222, \"#7201a8\"], [0.3333333333333333, \"#9c179e\"], [0.4444444444444444, \"#bd3786\"], [0.5555555555555556, \"#d8576b\"], [0.6666666666666666, \"#ed7953\"], [0.7777777777777778, \"#fb9f3a\"], [0.8888888888888888, \"#fdca26\"], [1.0, \"#f0f921\"]]}, \"colorway\": [\"#636efa\", \"#EF553B\", \"#00cc96\", \"#ab63fa\", \"#FFA15A\", \"#19d3f3\", \"#FF6692\", \"#B6E880\", \"#FF97FF\", \"#FECB52\"], \"font\": {\"color\": \"#2a3f5f\"}, \"geo\": {\"bgcolor\": \"white\", \"lakecolor\": \"white\", \"landcolor\": \"#E5ECF6\", \"showlakes\": true, \"showland\": true, \"subunitcolor\": \"white\"}, \"hoverlabel\": {\"align\": \"left\"}, \"hovermode\": \"closest\", \"mapbox\": {\"style\": \"light\"}, \"paper_bgcolor\": \"white\", \"plot_bgcolor\": \"#E5ECF6\", \"polar\": {\"angularaxis\": {\"gridcolor\": \"white\", \"linecolor\": \"white\", \"ticks\": \"\"}, \"bgcolor\": \"#E5ECF6\", \"radialaxis\": {\"gridcolor\": \"white\", \"linecolor\": \"white\", \"ticks\": \"\"}}, \"scene\": {\"xaxis\": {\"backgroundcolor\": \"#E5ECF6\", \"gridcolor\": \"white\", \"gridwidth\": 2, \"linecolor\": \"white\", \"showbackground\": true, \"ticks\": \"\", \"zerolinecolor\": \"white\"}, \"yaxis\": {\"backgroundcolor\": \"#E5ECF6\", \"gridcolor\": \"white\", \"gridwidth\": 2, \"linecolor\": \"white\", \"showbackground\": true, \"ticks\": \"\", \"zerolinecolor\": \"white\"}, \"zaxis\": {\"backgroundcolor\": \"#E5ECF6\", \"gridcolor\": \"white\", \"gridwidth\": 2, \"linecolor\": \"white\", \"showbackground\": true, \"ticks\": \"\", \"zerolinecolor\": \"white\"}}, \"shapedefaults\": {\"line\": {\"color\": \"#2a3f5f\"}}, \"ternary\": {\"aaxis\": {\"gridcolor\": \"white\", \"linecolor\": \"white\", \"ticks\": \"\"}, \"baxis\": {\"gridcolor\": \"white\", \"linecolor\": \"white\", \"ticks\": \"\"}, \"bgcolor\": \"#E5ECF6\", \"caxis\": {\"gridcolor\": \"white\", \"linecolor\": \"white\", \"ticks\": \"\"}}, \"title\": {\"x\": 0.05}, \"xaxis\": {\"automargin\": true, \"gridcolor\": \"white\", \"linecolor\": \"white\", \"ticks\": \"\", \"title\": {\"standoff\": 15}, \"zerolinecolor\": \"white\", \"zerolinewidth\": 2}, \"yaxis\": {\"automargin\": true, \"gridcolor\": \"white\", \"linecolor\": \"white\", \"ticks\": \"\", \"title\": {\"standoff\": 15}, \"zerolinecolor\": \"white\", \"zerolinewidth\": 2}}}, \"title\": {\"text\": \"Number of Acidents During the Day vs During the Night in 2016\"}},\n",
       "                        {\"responsive\": true}\n",
       "                    ).then(function(){\n",
       "                            \n",
       "var gd = document.getElementById('2bfe5093-28ef-4abb-bcc8-9bbf865e737c');\n",
       "var x = new MutationObserver(function (mutations, observer) {{\n",
       "        var display = window.getComputedStyle(gd).display;\n",
       "        if (!display || display === 'none') {{\n",
       "            console.log([gd, 'removed!']);\n",
       "            Plotly.purge(gd);\n",
       "            observer.disconnect();\n",
       "        }}\n",
       "}});\n",
       "\n",
       "// Listen for the removal of the full notebook cells\n",
       "var notebookContainer = gd.closest('#notebook-container');\n",
       "if (notebookContainer) {{\n",
       "    x.observe(notebookContainer, {childList: true});\n",
       "}}\n",
       "\n",
       "// Listen for the clearing of the current output cell\n",
       "var outputEl = gd.closest('.output');\n",
       "if (outputEl) {{\n",
       "    x.observe(outputEl, {childList: true});\n",
       "}}\n",
       "\n",
       "                        })\n",
       "                };\n",
       "                });\n",
       "            </script>\n",
       "        </div>"
      ]
     },
     "metadata": {},
     "output_type": "display_data"
    }
   ],
   "source": [
    "df_dn_2016 = df_dn[df_dn['Start_Year'] == '2016']\n",
    "\n",
    "fig = go.Figure(data=go.Choropleth(locations = df_dn_2016['State'], # Spatial coordinates\n",
    "    z = df_dn_2016['Day/Night'], # Data to be color-coded\n",
    "    locationmode = 'USA-states', # set of locations match entries in `locations`\n",
    "    colorscale = 'Reds',\n",
    "    colorbar_title = 'Number of Acidents Day vs. Night',\n",
    "    text=df_dn_2016['Text'],\n",
    "))\n",
    "\n",
    "fig.update_layout(\n",
    "    title_text = 'Number of Acidents During the Day vs During the Night in 2016',\n",
    "    geo_scope='usa', # limite map scope to USA\n",
    ")\n",
    "\n",
    "fig.show()"
   ]
  },
  {
   "cell_type": "code",
   "execution_count": null,
   "metadata": {},
   "outputs": [],
   "source": []
  }
 ],
 "metadata": {
  "kernelspec": {
   "display_name": "Python 3",
   "language": "python",
   "name": "python3"
  },
  "language_info": {
   "codemirror_mode": {
    "name": "ipython",
    "version": 3
   },
   "file_extension": ".py",
   "mimetype": "text/x-python",
   "name": "python",
   "nbconvert_exporter": "python",
   "pygments_lexer": "ipython3",
   "version": "3.7.5"
  }
 },
 "nbformat": 4,
 "nbformat_minor": 2
}
